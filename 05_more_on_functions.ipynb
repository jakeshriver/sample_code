{
 "cells": [
  {
   "cell_type": "markdown",
   "metadata": {
    "deletable": true,
    "editable": true
   },
   "source": [
    "## More on Functions"
   ]
  },
  {
   "cell_type": "markdown",
   "metadata": {
    "deletable": true,
    "editable": true
   },
   "source": [
    "### Built-in Functions\n",
    "\n",
    "Reference: https://docs.python.org/3/library/functions.html\n"
   ]
  },
  {
   "cell_type": "code",
   "execution_count": 3,
   "metadata": {
    "collapsed": false,
    "deletable": true,
    "editable": true,
    "scrolled": true
   },
   "outputs": [
    {
     "name": "stdout",
     "output_type": "stream",
     "text": [
      "[9, 2, 1, 5, 3, 7, 8, 4, 10]\n",
      "---\n",
      "[1, 2, 3, 4, 5, 7, 8, 9, 10]\n",
      "---\n",
      "9\n",
      "---\n",
      "26\n"
     ]
    }
   ],
   "source": [
    "nums = [9,2,1,5,3,7,8,4,10]\n",
    "\n",
    "# print() is a built-in function \n",
    "print(nums)       # ask Python to 'print' 'nums'\n",
    "\n",
    "# sorted() is a built-in function\n",
    "print(\"---\")\n",
    "x = sorted(nums)  # ask Python to 'sort' 'nums' and return the sorted list\n",
    "print(x)\n",
    "\n",
    "# len() is a built-in function\n",
    "print(\"---\")\n",
    "x = len(nums)     # ask Python to calcluate the length of 'nums'\n",
    "print(x)\n",
    "\n",
    "# len() is a built-in function\n",
    "print(\"---\")\n",
    "univ = \"Carnegie Mellon University\"\n",
    "x = len(univ)     # ask Python to calculate the length of 'univ'\n",
    "print(x)\n"
   ]
  },
  {
   "cell_type": "code",
   "execution_count": 4,
   "metadata": {
    "collapsed": true,
    "deletable": true,
    "editable": true
   },
   "outputs": [],
   "source": [
    "### Your Functions"
   ]
  },
  {
   "cell_type": "code",
   "execution_count": 5,
   "metadata": {
    "collapsed": false,
    "deletable": true,
    "editable": true
   },
   "outputs": [
    {
     "name": "stdout",
     "output_type": "stream",
     "text": [
      "my function returns 100.\n"
     ]
    }
   ],
   "source": [
    "def my_function(x):\n",
    "    return x*10\n",
    "\n",
    "print(\"my function returns {}.\".format(my_function(10)))\n"
   ]
  },
  {
   "cell_type": "markdown",
   "metadata": {
    "deletable": true,
    "editable": true
   },
   "source": [
    "### Methods\n",
    "\n",
    "- Some of the built-in types *know* certain tasks. For example, a list object knows how to sort its element. A string object knows how to format a string with variables.\n",
    "- These special functions are usually called 'method'.\n",
    "- The best way to think about this is that these objects 'know' how to perform certain tasks.\n",
    "\n",
    "Syntax:\n",
    "\n",
    ">```\n",
    "<object>.method(...)\n",
    "```"
   ]
  },
  {
   "cell_type": "code",
   "execution_count": 7,
   "metadata": {
    "collapsed": false,
    "deletable": true,
    "editable": true
   },
   "outputs": [
    {
     "name": "stdout",
     "output_type": "stream",
     "text": [
      "[1, 2, 3, 4, 5, 7, 8, 9, 10]\n",
      "---\n",
      "My name is John.\n"
     ]
    }
   ],
   "source": [
    "# sort() is a method of 'list' objects\n",
    "nums.sort()           # Read like this: \"Ask 'nums' to sort itself.\"\n",
    "print(nums)\n",
    "\n",
    "print(\"---\")\n",
    "\n",
    "# format() is a method of 'string' objects\n",
    "s = \"My name is {}.\"\n",
    "name = \"John\"\n",
    "print(s.format(name))\n"
   ]
  },
  {
   "cell_type": "markdown",
   "metadata": {
    "deletable": true,
    "editable": true
   },
   "source": [
    "### Function Defined by a Module\n",
    "\n",
    "- A **module** is a file containing Python definitions and statements (e.g., functions and variables).\n",
    "- For example, the 'random' module includes many convenient functions that help programmers use random numbers.\n",
    "- Each module contains a group of relevant functions.\n",
    "- A **package** is a collection of modules — e.g., Natural Language Took Kit (NLTK) package.\n",
    "\n",
    "Syntax:\n",
    "\n",
    ">```\n",
    "<module_name>.method(...)\n",
    "```\n",
    "\n",
    "References:\n",
    "- Random Module: https://docs.python.org/3/library/random.html\n",
    "- Math Module: https://docs.python.org/3/library/math.html\n"
   ]
  },
  {
   "cell_type": "code",
   "execution_count": 3,
   "metadata": {
    "collapsed": false,
    "deletable": true,
    "editable": true
   },
   "outputs": [
    {
     "name": "stdout",
     "output_type": "stream",
     "text": [
      "0.45820313422825865\n",
      "1\n",
      "10.234\n",
      "['.gitignore', '1984.txt', 'a_dream_within_a_dream.txt', 'mbox-short.txt', 'mbox.txt', 'moby_dick.txt']\n",
      "True\n"
     ]
    }
   ],
   "source": [
    "import random          # you have to import modules before you can use them\n",
    "import math\n",
    "import os\n",
    "\n",
    "# random() is a function defined in the 'random' module\n",
    "x = random.random()\n",
    "print(x)\n",
    "\n",
    "# randint() is a function defined in the 'random' module\n",
    "x = random.randint(0,10)\n",
    "print(x)\n",
    "\n",
    "# fabs(x) is a function defined in the 'math' module. It returns the absoute value of x\n",
    "x = math.fabs(-10.234)\n",
    "print(x)\n",
    "\n",
    "# listdir() is a function defined in the 'os' module\n",
    "x = os.listdir(\"text\")\n",
    "print(x)\n",
    "\n",
    "# isfile(file) is a function defined in the 'os.path' module. 'path' is a sub-module of 'os'\n",
    "x = os.path.isfile(\"text/1984.txt\")\n",
    "print(x)\n"
   ]
  },
  {
   "cell_type": "code",
   "execution_count": null,
   "metadata": {
    "collapsed": true,
    "deletable": true,
    "editable": true
   },
   "outputs": [],
   "source": []
  }
 ],
 "metadata": {
  "kernelspec": {
   "display_name": "Python 3",
   "language": "python",
   "name": "python3"
  },
  "language_info": {
   "codemirror_mode": {
    "name": "ipython",
    "version": 3
   },
   "file_extension": ".py",
   "mimetype": "text/x-python",
   "name": "python",
   "nbconvert_exporter": "python",
   "pygments_lexer": "ipython3",
   "version": "3.6.0"
  }
 },
 "nbformat": 4,
 "nbformat_minor": 0
}
