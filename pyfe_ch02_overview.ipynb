{
 "cells": [
  {
   "cell_type": "markdown",
   "metadata": {
    "deletable": true,
    "editable": true
   },
   "source": [
    "Python for Everybody\n",
    "## Chapter 2: Variables, Expressions, and Statements"
   ]
  },
  {
   "cell_type": "code",
   "execution_count": 8,
   "metadata": {
    "collapsed": false,
    "deletable": true,
    "editable": true
   },
   "outputs": [
    {
     "name": "stdout",
     "output_type": "stream",
     "text": [
      "120\n",
      "3.14\n",
      "Coding\n",
      "<class 'int'>\n",
      "<class 'float'>\n",
      "<class 'str'>\n"
     ]
    }
   ],
   "source": [
    "# 2.1 Values & Types\n",
    "\n",
    "print(120)               # prints the value 120\n",
    "print(3.14)              # prints the value 3.14\n",
    "print(\"Coding\")          # prints the value \"Coding\"\n",
    "print(type (30))         # prints the type of the variable \"30\"\n",
    "print(type (3.14))       # prints the type of the variable \"3.14\"\n",
    "print(type (\"Coding\"))   # prints the type of the variable \"Coding\"\n"
   ]
  },
  {
   "cell_type": "code",
   "execution_count": 14,
   "metadata": {
    "collapsed": false,
    "deletable": true,
    "editable": true
   },
   "outputs": [
    {
     "name": "stdout",
     "output_type": "stream",
     "text": [
      "259\n",
      "-9.80665\n",
      "Carnegie Mellon\n",
      "<class 'int'>\n",
      "<class 'float'>\n",
      "<class 'str'>\n"
     ]
    }
   ],
   "source": [
    "# 2.2 Variables\n",
    "\n",
    "x = 259                  # assigns \"259\" to the variable \"x\"\n",
    "g = -9.80665             # assigns \"-9.80665\" to the variable \"g\"\n",
    "s = \"Carnegie Mellon\"    # assigns \"Carnegie Mellon\" to the variable \"s\"\n",
    "print(x)                 # prints the value of x\n",
    "print(g)                 # prints the value of g\n",
    "print(s)                 # prints the value of s\n",
    "print(type(x))           # prints the type of x\n",
    "print(type(g))           # prints the type of g\n",
    "print(type(s))           # prints the type of s\n"
   ]
  },
  {
   "cell_type": "code",
   "execution_count": 9,
   "metadata": {
    "collapsed": false,
    "deletable": true,
    "editable": true
   },
   "outputs": [
    {
     "ename": "SyntaxError",
     "evalue": "invalid token (<ipython-input-9-8ab2f75f7725>, line 3)",
     "output_type": "error",
     "traceback": [
      "\u001b[0;36m  File \u001b[0;32m\"<ipython-input-9-8ab2f75f7725>\"\u001b[0;36m, line \u001b[0;32m3\u001b[0m\n\u001b[0;31m    12_month = \"Dec\"\u001b[0m\n\u001b[0m      ^\u001b[0m\n\u001b[0;31mSyntaxError\u001b[0m\u001b[0;31m:\u001b[0m invalid token\n"
     ]
    }
   ],
   "source": [
    "# 2.3 Variable Names and Keywords\n",
    "\n",
    "12_month = \"Dec\"         # syntax error because variable names cannot start with numbers\n",
    "eat@ = \"restaurant\"      # syntax error because \"@\" is an illegal character\n",
    "raise = 300              # syntax error because \"raise\" is one of Python's keywords and cannot be used as a variable\n"
   ]
  },
  {
   "cell_type": "code",
   "execution_count": 23,
   "metadata": {
    "collapsed": true,
    "deletable": true,
    "editable": true
   },
   "outputs": [],
   "source": [
    "# 2.4 Statements\n",
    "\n",
    "     # A \"statement\" is a unit of code that Python can execute.\n",
    "     # There are two kinds of statements:  expressions and assignments.\n",
    "     # Assignments produce no output.  Expressions display results, if there are results.\n",
    "     # A \"script\" usually contains a sequence of statements.\n",
    "     # Scripts' statements produce output one at a time, in order.\n",
    "        \n",
    "        \n",
    "# 2.6 Expressions\n",
    "\n",
    "     # An \"expression\" is a combination of values, variables, and operators.\n",
    "     # A value or variable by itself is still considered an expression.\n",
    "     # In a script, expressions do not produce output by themselves.\n",
    "\n",
    "    \n",
    "# Expressions are more like 'phrases' and Statements are complete sentences.\n"
   ]
  },
  {
   "cell_type": "code",
   "execution_count": 10,
   "metadata": {
    "collapsed": false,
    "deletable": true,
    "editable": true
   },
   "outputs": [
    {
     "name": "stdout",
     "output_type": "stream",
     "text": [
      "4.222222222222222\n",
      "4\n"
     ]
    }
   ],
   "source": [
    "# 2.5 Operators (and operands)\n",
    "\n",
    "# +, -, *, /, **, // are all examples of \"operators\", or computations like addition or multiplication\n",
    "# \"Operands\" are the values that operators are applied to.\n",
    "\n",
    "print(38/9)              # prints the result of 38 divided by 9\n",
    "print(38//9)             # prints the truncated result of 38 divided by 9\n"
   ]
  },
  {
   "cell_type": "code",
   "execution_count": 11,
   "metadata": {
    "collapsed": false,
    "deletable": true,
    "editable": true
   },
   "outputs": [
    {
     "name": "stdout",
     "output_type": "stream",
     "text": [
      "16\n",
      "3\n",
      "16\n",
      "3\n"
     ]
    }
   ],
   "source": [
    "# 2.7 Order of Operations\n",
    "\n",
    "# Python follows the order of operations, or PEMDAS\n",
    "# Parenthesis are executed first, followed by exponents, then muliplication and division, then addition and subtaction\n",
    "\n",
    "print(4+4*3)             # multiplication is done first, so this prints 16, not 24\n",
    "print(3*1**3)            # exponentiation is done first, so this prints 3, not 27\n",
    "\n",
    "# Use parentheses to make your expression more readable.\n",
    "\n",
    "print(4 + (4*3))\n",
    "print(3 * (1**3))"
   ]
  },
  {
   "cell_type": "code",
   "execution_count": 45,
   "metadata": {
    "collapsed": false,
    "deletable": true,
    "editable": true
   },
   "outputs": [
    {
     "name": "stdout",
     "output_type": "stream",
     "text": [
      "1\n"
     ]
    }
   ],
   "source": [
    "# 2.8 Modulus Operator\n",
    "\n",
    "x = 7%3\n",
    "print(x)                 # returns the remainder of 7 divided by 3\n"
   ]
  },
  {
   "cell_type": "code",
   "execution_count": 12,
   "metadata": {
    "collapsed": false,
    "deletable": true,
    "editable": true
   },
   "outputs": [
    {
     "name": "stdout",
     "output_type": "stream",
     "text": [
      "76388\n",
      "August 31\n",
      "August 31\n"
     ]
    }
   ],
   "source": [
    "# 2.9 String Operations\n",
    "\n",
    "course = \"76\" + \"388\"\n",
    "print(course)            # prints the \"concatenation\" of the two strings, not addition\n",
    "\n",
    "m = \"August\"\n",
    "d = \"31\"\n",
    "print(m + \" \" + d)       # prints the concatenation of \"m\" and \"d\" with a space between\n",
    "\n",
    "print(\"{} {}\".format(m, d))   # more later..."
   ]
  },
  {
   "cell_type": "code",
   "execution_count": 13,
   "metadata": {
    "collapsed": false,
    "deletable": true,
    "editable": true
   },
   "outputs": [
    {
     "name": "stdout",
     "output_type": "stream",
     "text": [
      "Enter a whole number: 10\n",
      "Enter a whole number: 20\n",
      "1020\n",
      "Enter a whole number: 10\n",
      "Enter a whole number: 20\n",
      "30\n"
     ]
    }
   ],
   "source": [
    "# 2.10 Asking the User for Input\n",
    "\n",
    "x = input(\"Enter a whole number: \")\n",
    "y = input(\"Enter a whole number: \")\n",
    "print(x + y)             # because \"input\" takes strings unless otherwise specified, this concatenates instead of adds\n",
    "\n",
    "x = int(input(\"Enter a whole number: \"))\n",
    "y = int(input(\"Enter a whole number: \"))\n",
    "print(x + y)             # since we have specified that the input will be an integer, the operator adds them\n"
   ]
  },
  {
   "cell_type": "code",
   "execution_count": 62,
   "metadata": {
    "collapsed": true,
    "deletable": true,
    "editable": true
   },
   "outputs": [],
   "source": [
    "# 2.11 Comments\n",
    "\n",
    "     # using the symbol \"#\" denotes the start of a comment\n",
    "     # comments do not affect the code\n",
    "     # comments are useful to explain things that are not in the code\n",
    "     # it is usually much better to explain why you wrote the code you did than to explain what you wrote\n",
    "        "
   ]
  },
  {
   "cell_type": "code",
   "execution_count": 63,
   "metadata": {
    "collapsed": true,
    "deletable": true,
    "editable": true
   },
   "outputs": [],
   "source": [
    "# 2.12 Choosing mnemonic variables names\n",
    "\n",
    "     # \"nmemonic\" means \"memory aid\"\n",
    "     # choosing good names for your variables can help you remember what they do\n",
    "\n",
    "x = 3.14                 # x has the value of pi, but a name that is not specific enough to remember that\n",
    "pi = 3.14                # this is a better name\n"
   ]
  },
  {
   "cell_type": "code",
   "execution_count": 67,
   "metadata": {
    "collapsed": false,
    "deletable": true,
    "editable": true
   },
   "outputs": [],
   "source": [
    "# 2.13 Debugging\n"
   ]
  },
  {
   "cell_type": "code",
   "execution_count": null,
   "metadata": {
    "collapsed": true,
    "deletable": true,
    "editable": true
   },
   "outputs": [],
   "source": [
    "# 2.14 Glossary\n"
   ]
  }
 ],
 "metadata": {
  "kernelspec": {
   "display_name": "Python 3",
   "language": "python",
   "name": "python3"
  },
  "language_info": {
   "codemirror_mode": {
    "name": "ipython",
    "version": 3
   },
   "file_extension": ".py",
   "mimetype": "text/x-python",
   "name": "python",
   "nbconvert_exporter": "python",
   "pygments_lexer": "ipython3",
   "version": "3.6.0"
  }
 },
 "nbformat": 4,
 "nbformat_minor": 0
}
