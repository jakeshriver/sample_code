{
 "cells": [
  {
   "cell_type": "markdown",
   "metadata": {
    "deletable": true,
    "editable": true
   },
   "source": [
    "## Scope"
   ]
  },
  {
   "cell_type": "code",
   "execution_count": 2,
   "metadata": {
    "collapsed": false,
    "deletable": true,
    "editable": true
   },
   "outputs": [
    {
     "name": "stdout",
     "output_type": "stream",
     "text": [
      "60\n"
     ]
    }
   ],
   "source": [
    "# Global variables can be accessed outside of specific functions.\n",
    "# Local variables can only be accessed inside the functions for which they are defined.\n",
    "\n",
    "x = 10     # global\n",
    "y = 20     # global\n",
    "z = 30     # global\n",
    "\n",
    "def add_three_nums(a, b, c):  # 'a', 'b', and 'c' are arguments, which are all local to this function.\n",
    "    total = a + b + c         # 'total' is a local variable within 'add_two_nums()'\n",
    "    return total\n",
    "\n",
    "a = add_three_nums(x, y, z)   # adds x, y, and z\n",
    "print(a)                      # print(a) returns the value for 'add_three_nums(x, y, z)' instead of\n",
    "                              # the local variable 'a' inside the function\n"
   ]
  },
  {
   "cell_type": "code",
   "execution_count": 5,
   "metadata": {
    "collapsed": false,
    "deletable": true,
    "editable": true
   },
   "outputs": [
    {
     "name": "stdout",
     "output_type": "stream",
     "text": [
      "30\n",
      "300\n"
     ]
    }
   ],
   "source": [
    "x = 10     # global variable\n",
    "y = 20     # global variable\n",
    "\n",
    "def a_func(n, m):\n",
    "    k = 30\n",
    "    def add_two_nums_and_ten(a, b):            # this function is local to 'a_func()' and cannot be accessed outside\n",
    "        total = a + b + k                      # 'k' is accessible\n",
    "        return total                           # total is local to 'add_two_nums_and_ten()'\n",
    "\n",
    "    print(k)           # 'k' is in the current scope (of the function 'a_func()')\n",
    "    # print(total)     # 'total' is outside of the current scope. This would give you an error.    \n",
    "    result = 0\n",
    "    for i in range(5):\n",
    "        result += add_two_nums_and_ten(n, m)    # 'add_two_nums_and_ten()' is only accessible in 'a_func()'\n",
    "\n",
    "    return result\n",
    "\n",
    "# add_two_nums_and_ten(x, y)  # this will give you an error.\n",
    "\n",
    "a = a_func(x, y)     # ONLY 'a', 'x' and 'y' are in the current scope (i.e., global)\n",
    "print(a)\n"
   ]
  },
  {
   "cell_type": "code",
   "execution_count": null,
   "metadata": {
    "collapsed": true,
    "deletable": true,
    "editable": true
   },
   "outputs": [],
   "source": []
  }
 ],
 "metadata": {
  "kernelspec": {
   "display_name": "Python 3",
   "language": "python",
   "name": "python3"
  },
  "language_info": {
   "codemirror_mode": {
    "name": "ipython",
    "version": 3
   },
   "file_extension": ".py",
   "mimetype": "text/x-python",
   "name": "python",
   "nbconvert_exporter": "python",
   "pygments_lexer": "ipython3",
   "version": "3.6.0"
  }
 },
 "nbformat": 4,
 "nbformat_minor": 0
}
