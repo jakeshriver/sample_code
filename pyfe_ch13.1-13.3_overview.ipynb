{
 "cells": [
  {
   "cell_type": "markdown",
   "metadata": {
    "deletable": true,
    "editable": true
   },
   "source": [
    "Python for Everybody\n",
    "## Chapter 13.1-13.3:  Using Web Services (XML)\n",
    "\n",
    "#### Useful references:\n",
    "http://www.tei-c.org/index.xml\n"
   ]
  },
  {
   "cell_type": "code",
   "execution_count": 9,
   "metadata": {
    "collapsed": true,
    "deletable": true,
    "editable": true
   },
   "outputs": [],
   "source": [
    "# 13.1 eXtensible Markup Language - XML\n",
    "\n",
    "# XML is used to exchange data across the web.\n",
    "# JavaScript Object Notation (JSON) is used to exchange dictionaries, lists, or other internal information.\n",
    "# Read the book to see the diagram on the structure of XML\n"
   ]
  },
  {
   "cell_type": "code",
   "execution_count": 1,
   "metadata": {
    "collapsed": false,
    "deletable": true,
    "editable": true
   },
   "outputs": [
    {
     "name": "stdout",
     "output_type": "stream",
     "text": [
      "Name: Chuck\n",
      "Attr: yes\n"
     ]
    }
   ],
   "source": [
    "# 13.2 Parsing XML\n",
    "\n",
    "import xml.etree.ElementTree as ET     # Define 'ET' as the shorthand for 'xml.etree.ElementTree'\n",
    "\n",
    "# Sample data. It's a long string, and can be (and typically is) saved in a file.\n",
    "# <!-- comments --> in XML format\n",
    "# \n",
    "data = \"\"\"\n",
    "<person>                 <!-- element = 'person' -->\n",
    "  <name>Chuck</name>     <!-- element = 'name', .text = \"Chuck\" -->\n",
    "  <phone type=\"intl\" mobile=\"yes\">    <!-- element = 'phone'; attribute = 'type', value = \"intl\" -->\n",
    "     +1 734 303 4456     <!-- .text = \"+1 734 303 4456\" -->\n",
    "   </phone>              <!-- closing tag -->\n",
    "   <email hide=\"yes\"/>   <!-- element = 'email'; attribute = 'hide', value = \"yes\" (it's a self closing element) -->\n",
    "</person>                <!-- closing tag -->\n",
    "\"\"\"\n",
    "\n",
    "tree = ET.fromstring(data)         # 'formstring()' converts the string representation into a 'tree' of XML nodes\n",
    "\n",
    "print('Name:', tree.find('name').text)          # ask 'tree' to find 'name' and get it's text.\n",
    "print('Attr:', tree.find('email').get('hide'))  # ask 'tree' to find 'email' and get the 'hide' value.\n"
   ]
  },
  {
   "cell_type": "code",
   "execution_count": 47,
   "metadata": {
    "collapsed": false,
    "deletable": true,
    "editable": true
   },
   "outputs": [
    {
     "name": "stdout",
     "output_type": "stream",
     "text": [
      "user: None\n",
      "user: []\n",
      "users/user: <Element 'user' at 0x107d770e8>\n",
      "users/user: [<Element 'user' at 0x107d770e8>, <Element 'user' at 0x107d77098>, <Element 'user' at 0x107d77c28>]\n",
      "users/user: [<Element 'first' at 0x107d77908>, <Element 'first' at 0x107d77b88>, <Element 'first' at 0x107d77c78>]\n"
     ]
    }
   ],
   "source": [
    "# 13.2 Parsing XML (cont.)\n",
    "\n",
    "data = '''\n",
    "<stuff>\n",
    "    <users>\n",
    "        <user id=\"1\">\n",
    "            <first>Terry</first>\n",
    "            <last>Leonard</last>\n",
    "        </user>\n",
    "        <user id=\"2\">\n",
    "            <first>Doug</first>\n",
    "            <last>Harper</last>\n",
    "            </user>\n",
    "         <user id=\"3\">\n",
    "            <first>Matt</first>\n",
    "            <last>Hodges</last>\n",
    "            </user>\n",
    "        </users>       \n",
    "</stuff>'''\n",
    "\n",
    "tree = ET.fromstring(data)     \n",
    "\n",
    "print('user:', tree.find('user'))                 # notice that the 'user' tage can't be found\n",
    "print('user:', tree.findall('user'))                 # notice that the 'user' tage can't be found\n",
    "print('users/user:', tree.find('users/user'))\n",
    "print('users/user:', tree.findall('users/user'))\n",
    "print('users/user:', tree.findall('users/user/first'))\n"
   ]
  },
  {
   "cell_type": "code",
   "execution_count": 2,
   "metadata": {
    "collapsed": false,
    "deletable": true,
    "editable": true
   },
   "outputs": [
    {
     "name": "stdout",
     "output_type": "stream",
     "text": [
      "User count: 3\n",
      "\n",
      "Name: Terry Leonard\n",
      "      ID 1\n",
      "\n",
      "Name: Doug Harper\n",
      "      ID 2\n",
      "\n",
      "Name: Matt Hodges\n",
      "      ID 3\n",
      "\n"
     ]
    }
   ],
   "source": [
    "# 13.3 Looping through nodes\n",
    "\n",
    "# XML often has multiple nodes, so you need to write a loop to process all of the nodes.\n",
    "\n",
    "import xml.etree.ElementTree as ET\n",
    "\n",
    "input = '''\n",
    "<stuff>\n",
    "    <users>\n",
    "        <user id=\"1\">\n",
    "            <first>Terry</first>\n",
    "            <last>Leonard</last>\n",
    "        </user>\n",
    "        <user id=\"2\">\n",
    "            <first>Doug</first>\n",
    "            <last>Harper</last>\n",
    "            </user>\n",
    "         <user id=\"3\">\n",
    "            <first>Matt</first>\n",
    "            <last>Hodges</last>\n",
    "            </user>\n",
    "        </users>       \n",
    "</stuff>'''\n",
    "\n",
    "stuff = ET.fromstring(input)\n",
    "lst = stuff.findall('users/user')   # find all instances of the 'user' tag within 'users'\n",
    "\n",
    "# print(lst)                        # print the list returned from 'findall()'. It's a list of 'user' elements\n",
    "print('User count: {}\\n'.format(len(lst)))\n",
    "\n",
    "for item in lst:                            # item is a 'user' element. Iterate through the list\n",
    "    # ask 'item' to find the 'name' element. Then access its 'text' property\n",
    "    print('Name: {} {}'.format(item.find('first').text, \n",
    "                               item.find('last').text))\n",
    "    print('      ID', item.get(\"id\"))       # ask 'item' to get the value of an attribute \"x\".\n",
    "    print(\"\")\n",
    "    "
   ]
  },
  {
   "cell_type": "code",
   "execution_count": null,
   "metadata": {
    "collapsed": true,
    "deletable": true,
    "editable": true
   },
   "outputs": [],
   "source": []
  }
 ],
 "metadata": {
  "kernelspec": {
   "display_name": "Python 3",
   "language": "python",
   "name": "python3"
  },
  "language_info": {
   "codemirror_mode": {
    "name": "ipython",
    "version": 3
   },
   "file_extension": ".py",
   "mimetype": "text/x-python",
   "name": "python",
   "nbconvert_exporter": "python",
   "pygments_lexer": "ipython3",
   "version": "3.6.0"
  }
 },
 "nbformat": 4,
 "nbformat_minor": 0
}
