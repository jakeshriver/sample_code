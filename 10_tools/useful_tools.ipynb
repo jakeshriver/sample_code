{
 "cells": [
  {
   "cell_type": "markdown",
   "metadata": {
    "deletable": true,
    "editable": true
   },
   "source": [
    "### Useful Tools"
   ]
  },
  {
   "cell_type": "code",
   "execution_count": 47,
   "metadata": {
    "collapsed": false,
    "deletable": true,
    "editable": true
   },
   "outputs": [
    {
     "name": "stdout",
     "output_type": "stream",
     "text": [
      "True\n",
      "True\n",
      "False\n",
      "\n",
      "True\n",
      "False\n"
     ]
    }
   ],
   "source": [
    "# Finding out about files and folders\n",
    "\n",
    "import os\n",
    "\n",
    "# We can ask python if a file or folder exists using os.path.exists()\n",
    "\n",
    "print(os.path.exists(\"test_folder\"))\n",
    "print(os.path.exists(\"test_folder/x.txt\"))\n",
    "print(os.path.exists(\"wrong_name\"))\n",
    "print(\"\")\n",
    "\n",
    "# We can also ask Python if it is a folder using os.path.isdir()\n",
    "# or if it is a file using os.path.isfile()\n",
    "\n",
    "print(\"{}\".format(os.path.isdir(\"test_folder\")))\n",
    "print(\"{}\".format(os.path.isfile(\"test_folder\")))\n"
   ]
  },
  {
   "cell_type": "code",
   "execution_count": null,
   "metadata": {
    "collapsed": true,
    "deletable": true,
    "editable": true
   },
   "outputs": [],
   "source": [
    "# How to delete and create folders\n",
    "\n",
    "import os\n",
    "\n",
    "if os.path.exists(\"delete_this_folder\"):           # have python check to see if the folder \"delete_this_folder\" exists\n",
    "    os.rmdir(\"delete_this_folder\")                 # if the folder does exist, you can delete it with os.rmdir()\n",
    "    print(\"delete_this_folder has been deleted.\")    \n",
    "else:                                              # if the folder does not exist,\n",
    "    os.makedirs(\"delete_this_folder\")              # we can create the folder \"delete_this_folder\" using os.makedirs()\n",
    "    print(\"delete_this_folder has been created.\")\n",
    "    "
   ]
  },
  {
   "cell_type": "code",
   "execution_count": 29,
   "metadata": {
    "collapsed": false,
    "deletable": true,
    "editable": true
   },
   "outputs": [
    {
     "name": "stdout",
     "output_type": "stream",
     "text": [
      "temp.txt has been deleted.\n"
     ]
    }
   ],
   "source": [
    "# How to delete and create files\n",
    "\n",
    "import os\n",
    "\n",
    "if os.path.exists(\"temp.txt\"):              # have python check to see if the file \"temp.txt\" exists\n",
    "    os.remove(\"temp.txt\")                   # if the file does exist, you can delete it with os.remove()\n",
    "    print(\"temp.txt has been deleted.\")    \n",
    "else:                                       # if the file does not exist,\n",
    "    fout = open(\"temp.txt\", \"w\")            # you can create it with open()\n",
    "    fout.write(\"hello\")                     # and write to the .txt file with .write()\n",
    "    print(\"temp.txt has been created.\")\n",
    "    "
   ]
  },
  {
   "cell_type": "code",
   "execution_count": 36,
   "metadata": {
    "collapsed": false,
    "deletable": true,
    "editable": true
   },
   "outputs": [
    {
     "name": "stdout",
     "output_type": "stream",
     "text": [
      "new_temp.txt has been delted\n"
     ]
    }
   ],
   "source": [
    "# How to rename a file\n",
    "\n",
    "import os\n",
    "\n",
    "if os.path.exists(\"temp.txt\"):                           # if \"temp.txt\" exists,\n",
    "    os.rename(\"temp.txt\", \"new_temp.txt\")                # you can rename the file using os.rename()\n",
    "    print(\"temp.txt has been renamed to new_temp.txt.\")    \n",
    "    \n",
    "elif os.path.exists(\"new_temp.txt\"):                     # if \"new_temp.txt\" exists,\n",
    "    os.remove(\"new_temp.txt\")                            # you can delete the file with os.remove()\n",
    "    print(\"new_temp.txt has been deleted\")\n",
    "else:                                                    # if neither \"temp.txt\" nor \"new_temp.txt\" exist,\n",
    "    fout = open(\"temp.txt\", \"w\")                         # you can create the file \"temp.txt\" using open()\n",
    "    fout.write(\"hello\")                                  # and write to the .txt file with .write()\n",
    "    fout.close()\n",
    "    print(\"temp.txt has been created.\")\n",
    "    "
   ]
  },
  {
   "cell_type": "code",
   "execution_count": 40,
   "metadata": {
    "collapsed": false,
    "deletable": true,
    "editable": true
   },
   "outputs": [
    {
     "name": "stdout",
     "output_type": "stream",
     "text": [
      "temp.txt has been created.\n",
      "a copy of temp.txt ('new_temp.txt') has been created.\n"
     ]
    }
   ],
   "source": [
    "# How to make a copy of a file\n",
    "\n",
    "import shutil\n",
    "\n",
    "fout = open(\"temp.txt\", \"w\")           # create a new file called \"temp.txt\"\n",
    "fout.write(\"hello\")                    # write to the file\n",
    "fout.close()\n",
    "print(\"temp.txt has been created.\")\n",
    "\n",
    "shutil.copyfile(\"temp.txt\", \"new_temp.txt\")                         # use shutil.copyfile() to copy the file to a new\n",
    "print(\"a copy of temp.txt (\\'new_temp.txt\\') has been created.\")    # file named \"new_temp.txt\"\n"
   ]
  },
  {
   "cell_type": "code",
   "execution_count": 50,
   "metadata": {
    "collapsed": false,
    "deletable": true,
    "editable": true
   },
   "outputs": [
    {
     "name": "stdout",
     "output_type": "stream",
     "text": [
      "dirName    = test_folder\n",
      "subdirList = ['subfolder_1', 'subfolder_2']\n",
      "fileList   = ['x.txt', 'y.txt']\n",
      "\n",
      "dirName    = test_folder/subfolder_1\n",
      "subdirList = []\n",
      "fileList   = ['a.txt', 'b.txt']\n",
      "\n",
      "dirName    = test_folder/subfolder_2\n",
      "subdirList = []\n",
      "fileList   = ['c.txt', 'd.txt']\n",
      "\n",
      "----------------------\n",
      "dirName = test_folder/x.txt\n",
      "dirName = test_folder/y.txt\n",
      "dirName = test_folder/subfolder_1/a.txt\n",
      "dirName = test_folder/subfolder_1/b.txt\n",
      "dirName = test_folder/subfolder_2/c.txt\n",
      "dirName = test_folder/subfolder_2/d.txt\n"
     ]
    }
   ],
   "source": [
    "# Traversing through a nested folder structure\n",
    "\n",
    "import os\n",
    "\n",
    "for dirName, subdirList, fileList in os.walk(\"test_folder\"):\n",
    "    print(\"dirName    = {}\".format(dirName))\n",
    "    print(\"subdirList = {}\".format(subdirList))\n",
    "    print(\"fileList   = {}\".format(fileList))\n",
    "    print(\"\")\n",
    "    \n",
    "print(\"----------------------\")\n",
    "for dirName, subdirList, fileList in os.walk(\"test_folder\"):\n",
    "    for f in fileList:        \n",
    "        print(\"dirName = {}\".format(os.path.join(dirName, f)))\n",
    "        \n",
    "        # os.path.join uses appropriate character between \n",
    "        # file/sfolders (e.g., \"\\\" for Windows, \"/\" for Macs)"
   ]
  }
 ],
 "metadata": {
  "kernelspec": {
   "display_name": "Python 3",
   "language": "python",
   "name": "python3"
  },
  "language_info": {
   "codemirror_mode": {
    "name": "ipython",
    "version": 3
   },
   "file_extension": ".py",
   "mimetype": "text/x-python",
   "name": "python",
   "nbconvert_exporter": "python",
   "pygments_lexer": "ipython3",
   "version": "3.6.0"
  }
 },
 "nbformat": 4,
 "nbformat_minor": 0
}
