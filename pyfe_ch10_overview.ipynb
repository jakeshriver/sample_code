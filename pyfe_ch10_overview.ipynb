{
 "cells": [
  {
   "cell_type": "markdown",
   "metadata": {
    "deletable": true,
    "editable": true
   },
   "source": [
    "Python for Everybody\n",
    "## Chpater 10:  Tuples"
   ]
  },
  {
   "cell_type": "code",
   "execution_count": 2,
   "metadata": {
    "collapsed": false,
    "deletable": true,
    "editable": true
   },
   "outputs": [
    {
     "name": "stdout",
     "output_type": "stream",
     "text": [
      "(1, 2, 3, 4, 5)\n",
      "()\n"
     ]
    }
   ],
   "source": [
    "# 10.01 Tuples are immutable\n",
    "\n",
    "# Syntactically, a 'tuple' is a list of values separated by commas.\n",
    "# The values in a tuple can be any type.\n",
    "\n",
    "t = (1, 2, 3, 4, 5)\n",
    "print(t)\n",
    "\n",
    "# How to create a tuple (it's like creating a list or a dictionary)\n",
    "\n",
    "t = tuple()\n",
    "print(t)\n"
   ]
  },
  {
   "cell_type": "code",
   "execution_count": 3,
   "metadata": {
    "collapsed": false,
    "deletable": true,
    "editable": true
   },
   "outputs": [
    {
     "name": "stdout",
     "output_type": "stream",
     "text": [
      "(1, 2, 3, 4, 5)\n",
      "---\n",
      "(1, 2, 3, 4, 5)\n",
      "---\n",
      "('1', '2', '3', '4', '5')\n"
     ]
    }
   ],
   "source": [
    "# 10.1 Tuples are immutable (cont.)\n",
    "\n",
    "# How to create and initialize a tuple\n",
    "\n",
    "t = tuple((1,2,3,4,5))   # initialize a new tuple using a tuple as your argument\n",
    "print(t)\n",
    "print(\"---\")\n",
    "\n",
    "t = tuple([1,2,3,4,5])   # initialize a new tuple using a list as your argument\n",
    "print(t)\n",
    "print(\"---\")\n",
    "\n",
    "t = tuple(\"12345\")       # initialize a new tuple using a string as your argument\n",
    "print(t)                 # Notice that elements are strings, not numbers\n"
   ]
  },
  {
   "cell_type": "code",
   "execution_count": 4,
   "metadata": {
    "collapsed": false,
    "deletable": true,
    "editable": true
   },
   "outputs": [
    {
     "name": "stdout",
     "output_type": "stream",
     "text": [
      "('dog', 'cat', 'wolf')\n",
      "('cat', 'wolf')\n",
      "('dog', 'cat')\n"
     ]
    }
   ],
   "source": [
    "# 10.1 Tuples are immutable (cont.)\n",
    "\n",
    "# You cannot modify elements of a tuple, but you can assign a new value to a tuple\n",
    "\n",
    "# You can use the slice operator to select a range of elements\n",
    "\n",
    "t = ('dog', 'cat', 'wolf')\n",
    "print(t)\n",
    "\n",
    "x = t[1:]     # slice from index 1 to the end (excludes 'dog')\n",
    "print(x)\n",
    "\n",
    "x = t[:2]     # slice from the beginning to index 1 (excludes 'wolf')\n",
    "print(x)\n"
   ]
  },
  {
   "cell_type": "code",
   "execution_count": 5,
   "metadata": {
    "collapsed": false,
    "deletable": true,
    "editable": true
   },
   "outputs": [
    {
     "name": "stdout",
     "output_type": "stream",
     "text": [
      "False\n",
      "True\n",
      "---\n",
      "False\n",
      "True\n"
     ]
    }
   ],
   "source": [
    "# 10.02 Comparing Ttuples\n",
    "\n",
    "# Comparison operators work with tuples.\n",
    "# Python compares the first element.  If they are equal, it compares the next element.\n",
    "# It continues until it finds elements that differ.\n",
    "\n",
    "print ((0, 1, 2) > (0, 3, 1))        # False, because 1 is not greater than 3\n",
    "print ((0, 1, 2) < (0, 1, 3))        # True, beause 3 is greater than 2\n",
    "\n",
    "print(\"---\")\n",
    "\n",
    "print((2, 'dog') > (3, 'cat'))       # False, because 2 is not greater than 3\n",
    "print((3, 'dog') > (3, 'cat'))       # True, because 'dog' comes after 'cat' (alphabetically)\n"
   ]
  },
  {
   "cell_type": "code",
   "execution_count": 8,
   "metadata": {
    "collapsed": false,
    "deletable": true,
    "editable": true
   },
   "outputs": [
    {
     "name": "stdout",
     "output_type": "stream",
     "text": [
      "[(2, 'It'), (3, 'was'), (1, 'a'), (6, 'bright'), (4, 'cold'), (3, 'day'), (2, 'in'), (5, 'April')]\n",
      "---\n",
      "['bright', 'April', 'cold', 'was', 'day', 'in', 'It', 'a']\n"
     ]
    }
   ],
   "source": [
    "# 10.02 Comparing tuples (cont.)\n",
    "\n",
    "# DSU method\n",
    "\n",
    "txt = 'It was a bright cold day in April'          # string we will use\n",
    "words = txt.split()                                # create a list of the words\n",
    "\n",
    "\n",
    "# Decorate -- create a list of tuples\n",
    "t = list()\n",
    "for word in words:\n",
    "    t.append((len(word), word))\n",
    "\n",
    "print(t)\n",
    "print(\"---\")\n",
    "\n",
    "\n",
    "# Sort -- sort the list of tuples based on the first item in each tuple (i.e., character count)\n",
    "t.sort(reverse=True)          # sorts the list from longest to shortest words\n",
    "\n",
    "\n",
    "# Undecorate -- extract the sorted elements from the sequence\n",
    "res = list()\n",
    "for length, word in t:\n",
    "    res.append(word)\n",
    "\n",
    "print(res)\n"
   ]
  },
  {
   "cell_type": "code",
   "execution_count": null,
   "metadata": {
    "collapsed": true,
    "deletable": true,
    "editable": true
   },
   "outputs": [],
   "source": [
    "# 10.03 Tuple assignment\n",
    "\n",
    "# Skip\n"
   ]
  },
  {
   "cell_type": "code",
   "execution_count": 11,
   "metadata": {
    "collapsed": false,
    "deletable": true,
    "editable": true
   },
   "outputs": [
    {
     "name": "stdout",
     "output_type": "stream",
     "text": [
      "[('dog', 4), ('kangaroo', 3), ('snake', 0), ('penguin', 2), ('spider', 8), ('octopus', 2)]\n",
      "---\n",
      "[('dog', 4), ('kangaroo', 3), ('octopus', 2), ('penguin', 2), ('snake', 0), ('spider', 8)]\n"
     ]
    }
   ],
   "source": [
    "# 10.04 Dictionaries and tuples\n",
    "\n",
    "a = {'dog':4, 'kangaroo':3, 'snake':0, 'penguin':2, 'spider':8, 'octopus':2}    # dictionary\n",
    "\n",
    "# The dictionary method 'items' returns a list of tuples as key-value pairs\n",
    "\n",
    "lst = list(a.items())   # make a list of key-value pair tuples\n",
    "print(lst)              # unsorted list\n",
    "\n",
    "print(\"---\")\n",
    "\n",
    "lst.sort()              # sort its elements (i.e., tuples).  This modifies the list.\n",
    "print(lst)              # sorted list (alphabetically)\n"
   ]
  },
  {
   "cell_type": "code",
   "execution_count": 13,
   "metadata": {
    "collapsed": false,
    "deletable": true,
    "editable": true
   },
   "outputs": [
    {
     "name": "stdout",
     "output_type": "stream",
     "text": [
      "dog 4\n",
      "kangaroo 3\n",
      "snake 0\n",
      "penguin 2\n",
      "spider 8\n",
      "octopus 2\n"
     ]
    }
   ],
   "source": [
    "# 10.05 Multiple assignment with dictionaries\n",
    "\n",
    "a = {'dog':4, 'kangaroo':3, 'snake':0, 'penguin':2, 'spider':8, 'octopus':2}    # dictionary\n",
    "\n",
    "lst = list(a.items())   # create a list of tuples from a dictionary  \n",
    "                        # i.e., d = [('dog', 4), ('kangaroo', 3), ('snake', 0), ...]\n",
    "    \n",
    "for key, val in lst:    # for each key and value in the list of tuples\n",
    "    print(key, val)     # print the key and value\n"
   ]
  },
  {
   "cell_type": "code",
   "execution_count": 15,
   "metadata": {
    "collapsed": false,
    "deletable": true,
    "editable": true
   },
   "outputs": [
    {
     "name": "stdout",
     "output_type": "stream",
     "text": [
      "[(8, 'spider'), (4, 'dog'), (3, 'kangaroo'), (2, 'penguin'), (2, 'octopus'), (0, 'snake')]\n"
     ]
    }
   ],
   "source": [
    "# 10.05 Multiple assignment with dictionaries (cont.)\n",
    "\n",
    "a = {'dog':4, 'kangaroo':3, 'snake':0, 'penguin':2, 'spider':8, 'octopus':2}    # dictionary\n",
    "d = list(a.items())        # create a list of tuples from a dictionary  \n",
    "lst = list()                 # create an empty list\n",
    "for key, val in d:         # for each key and val in a list of tuples\n",
    "    lst.append((val,key))    # append a tuple that reverses the order of key (animal) and value (number)\n",
    "    \n",
    "lst.sort(reverse=True)       # sort the list of tuples by the numerical value (in a reverse order)\n",
    "print(lst)\n"
   ]
  },
  {
   "cell_type": "code",
   "execution_count": 16,
   "metadata": {
    "collapsed": false,
    "deletable": true,
    "editable": true
   },
   "outputs": [
    {
     "name": "stdout",
     "output_type": "stream",
     "text": [
      "10 the\n",
      "9 i\n",
      "7 and\n",
      "5 to\n",
      "5 me\n",
      "5 it\n",
      "5 a\n",
      "4 whenever\n",
      "4 of\n",
      "4 my\n"
     ]
    }
   ],
   "source": [
    "# 10.06 The most common words\n",
    "\n",
    "# We can use this technique to find the most common words in a string\n",
    "\n",
    "# The following is the code from Python For Everybody Ch.10 (p.122)\n",
    "# Note: there is an error in the code.\n",
    "\n",
    "import string\n",
    "fhand = open('text/moby_dick.txt')\n",
    "counts = dict()    # create an empty dictionary\n",
    "\n",
    "for line in fhand:\n",
    "    # !!!! the following in the book is different. This is the correct line.\n",
    "    line = line.translate(line.maketrans('', '', string.punctuation))     # removes punctuations\n",
    "    line = line.lower()                                                   # make all characters lowercase\n",
    "    words = line.split()                                                  # make a list of words\n",
    "    for word in words:                   # for each 'word' in 'words' (list)\n",
    "        if word not in counts:           # if 'word' is not in 'counts' (dictionary)\n",
    "            counts[word] = 1             # create a new dictionary element with 'word' and set its value to 1\n",
    "        else:                            # otherwise,\n",
    "            counts[word] += 1            # increment the value of the key 'word'.\n",
    "\n",
    "# At this point, 'counts' (dictionary) holds all the unique words and their counts.\n",
    "\n",
    "\n",
    "# Decorate: Let's sort the dictionary by value\n",
    "lst = list()                             # create an empty list.\n",
    "for key, val in list(counts.items()):   \n",
    "    lst.append((val, key))\n",
    "    \n",
    "# Sort\n",
    "lst.sort(reverse=True)                   # sort the list in a reverse order\n",
    "\n",
    "# Undecorate\n",
    "for key, val in lst[:10]:                # for each key-value pair in the first 10 elements of the lst (list)\n",
    "    print(key, val)                      # print the key and the value.\n",
    "    "
   ]
  },
  {
   "cell_type": "code",
   "execution_count": 17,
   "metadata": {
    "collapsed": false,
    "deletable": true,
    "editable": true
   },
   "outputs": [
    {
     "name": "stdout",
     "output_type": "stream",
     "text": [
      "{   ('Blake', 'Bowman'): 20,\n",
      "    ('Renee', 'Barnes'): 50,\n",
      "    ('Robin', 'Carlson'): 10,\n",
      "    ('Robin', 'Frank'): 40,\n",
      "    ('Sheryl', 'Mitchell'): 30}\n",
      "---\n",
      "{('Robin', 'Carlson'): 10, ('Blake', 'Bowman'): 20, ('Sheryl', 'Mitchell'): 30, ('Robin', 'Frank'): 40, ('Renee', 'Barnes'): 50}\n"
     ]
    }
   ],
   "source": [
    "# 10.07 Using Tuples as Keys in Dictionaries\n",
    "\n",
    "import pprint                                  # pretty prnting for debugging\n",
    "pp = pprint.PrettyPrinter(indent=4)            # create a pretty printing object used for debugging.\n",
    "\n",
    "dir = dict()                                   # create an empty dictionary\n",
    "dir[(\"Robin\",  \"Carlson\")]  = 10               # add a key-value pair: key = (\"Robin\", \"Carlson\"), 10\n",
    "dir[(\"Blake\",  \"Bowman\")]   = 20\n",
    "dir[(\"Sheryl\", \"Mitchell\")] = 30\n",
    "dir[(\"Robin\",  \"Frank\")]    = 40\n",
    "dir[(\"Renee\",  \"Barnes\")]   = 50\n",
    "\n",
    "pp.pprint(dir)   # pretty print\n",
    "print(\"---\")\n",
    "print(dir)       # regular print — the output is a little harder to read."
   ]
  },
  {
   "cell_type": "code",
   "execution_count": 1,
   "metadata": {
    "collapsed": true,
    "deletable": true,
    "editable": true
   },
   "outputs": [],
   "source": [
    "# 10.08 Sequences: Strings, Lists and Tuples — Oh My!\n",
    "\n",
    "# Read the textbook."
   ]
  },
  {
   "cell_type": "code",
   "execution_count": null,
   "metadata": {
    "collapsed": true,
    "deletable": true,
    "editable": true
   },
   "outputs": [],
   "source": []
  }
 ],
 "metadata": {
  "kernelspec": {
   "display_name": "Python 3",
   "language": "python",
   "name": "python3"
  },
  "language_info": {
   "codemirror_mode": {
    "name": "ipython",
    "version": 3
   },
   "file_extension": ".py",
   "mimetype": "text/x-python",
   "name": "python",
   "nbconvert_exporter": "python",
   "pygments_lexer": "ipython3",
   "version": "3.6.0"
  }
 },
 "nbformat": 4,
 "nbformat_minor": 0
}
