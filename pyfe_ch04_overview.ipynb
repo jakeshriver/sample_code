{
 "cells": [
  {
   "cell_type": "markdown",
   "metadata": {
    "deletable": true,
    "editable": true
   },
   "source": [
    "Python for Everybody\n",
    "## Chapter 04:  Functions"
   ]
  },
  {
   "cell_type": "code",
   "execution_count": 3,
   "metadata": {
    "collapsed": false,
    "deletable": true,
    "editable": true
   },
   "outputs": [
    {
     "name": "stdout",
     "output_type": "stream",
     "text": [
      "<class 'int'>\n",
      "<class 'int'>\n"
     ]
    }
   ],
   "source": [
    "# 4.1 Function Calls\n",
    "\n",
    "print(type(32))\n",
    "\n",
    "# Given any type of argument, type() returns the type.\n",
    "# You can assign the returned value to a variable.\n",
    "\n",
    "t = type(32)\n",
    "print(t)\n"
   ]
  },
  {
   "cell_type": "code",
   "execution_count": 5,
   "metadata": {
    "collapsed": false,
    "deletable": true,
    "editable": true
   },
   "outputs": [
    {
     "name": "stdout",
     "output_type": "stream",
     "text": [
      "5\n",
      "20\n",
      "15\n",
      "w\n"
     ]
    }
   ],
   "source": [
    "# 4.2 Built-in Functions\n",
    "\n",
    "result = len(\"abcde\")     # len is a built-in function that returns the length of a string\n",
    "print(result)\n",
    "\n",
    "result = max(10, 20)      # max is a built-in function that returns the largest value in a list \n",
    "print(result)\n",
    "\n",
    "result = min(100, 15)     # min is a built-in function that returns the smalest value in a list\n",
    "print(result)\n",
    "\n",
    "result = max(\"hello world\")\n",
    "print(result)\n",
    "\n",
    "# The textbook uses min() and max() with strings. Did you figure out what's going on?\n",
    "# See the link below fore other built-in functions."
   ]
  },
  {
   "cell_type": "markdown",
   "metadata": {
    "deletable": true,
    "editable": true
   },
   "source": [
    "**Reference:  Built-in Functions**\n",
    "\n",
    "Here is a list of built-in functions, in case you are intersted.\n",
    "https://docs.python.org/3/library/functions.html"
   ]
  },
  {
   "cell_type": "code",
   "execution_count": 7,
   "metadata": {
    "collapsed": false,
    "deletable": true,
    "editable": true
   },
   "outputs": [
    {
     "name": "stdout",
     "output_type": "stream",
     "text": [
      "John is 32.\n",
      "John will be 42 in 10 years.\n"
     ]
    }
   ],
   "source": [
    "# 4.3 Type Conversion Functions\n",
    "\n",
    "s = \"32\"        # s is defined as a string\n",
    "i = int(s)      # int() converts s into an integer\n",
    "\n",
    "s = \"CMU\"       # s is defined as a string\n",
    "# i = int(s)    # int() results in an error here because characters cannot be converted\n",
    "\n",
    "name = \"John\"   # name is defined as string\n",
    "age = 32        # age is defined as an integer\n",
    "\n",
    "print(name + \" is \" + str(age) + \".\")                              # str() converts age into a string\n",
    "print(name + \" will be \" + str(age + 10) + \" in 10 years.\")\n"
   ]
  },
  {
   "cell_type": "code",
   "execution_count": 9,
   "metadata": {
    "collapsed": false,
    "deletable": true,
    "editable": true
   },
   "outputs": [
    {
     "name": "stdout",
     "output_type": "stream",
     "text": [
      "0.3522152798202195\n",
      "6\n"
     ]
    }
   ],
   "source": [
    "# 4.4 Random Numbers\n",
    "\n",
    "import random     # We need to 'import' the random module.\n",
    "\n",
    "# Why do we need to repeat 'random'? \n",
    "# The first 'random' is the module name.  The second one is the function name.\n",
    "\n",
    "print(random.random())\n",
    "\n",
    "# 'randint()' is a function defined in the 'random' module\n",
    "# randint() prints a random integer between the given parameters\n",
    "\n",
    "print(random.randint(5, 10)) \n"
   ]
  },
  {
   "cell_type": "markdown",
   "metadata": {
    "deletable": true,
    "editable": true
   },
   "source": [
    "**Refernece:  random module**\n",
    "\n",
    "Here is a page about the random module. It looks a bit scary, but you'll get used to it soon. The page list all the 'functions' defined in the randome module.\n",
    "https://docs.python.org/3/library/random.html"
   ]
  },
  {
   "cell_type": "code",
   "execution_count": 11,
   "metadata": {
    "collapsed": false,
    "deletable": true,
    "editable": true
   },
   "outputs": [
    {
     "name": "stdout",
     "output_type": "stream",
     "text": [
      "4\n",
      "3\n"
     ]
    }
   ],
   "source": [
    "# 4.5 Math Functions\n",
    "\n",
    "import math              # imports the math module\n",
    "\n",
    "print(math.ceil(3.45))   # prints the 'ceiling' of 3.45, meaning it rounds up\n",
    "print(math.floor(3.45))  # prints the 'floor' of 3.45, meaning it rounds down\n",
    "\n",
    "# There are many other math functions, but you can look them up when you need them."
   ]
  },
  {
   "cell_type": "code",
   "execution_count": 16,
   "metadata": {
    "collapsed": false,
    "deletable": true,
    "editable": true
   },
   "outputs": [
    {
     "name": "stdout",
     "output_type": "stream",
     "text": [
      "You may say I’m a dreamer\n",
      "But I’m not the only one\n",
      "...\n"
     ]
    }
   ],
   "source": [
    "# 4.6 Adding New Functions\n",
    "\n",
    "def sing_imagine():                        # 'def' is a keyword that defines your new function\n",
    "    print(\"You may say I’m a dreamer\")\n",
    "    print(\"But I’m not the only one\")\n",
    "    print(\"...\")\n",
    "                                           # to end the function, print an empty line\n",
    "sing_imagine()"
   ]
  },
  {
   "cell_type": "code",
   "execution_count": 18,
   "metadata": {
    "collapsed": false,
    "deletable": true,
    "editable": true
   },
   "outputs": [
    {
     "name": "stdout",
     "output_type": "stream",
     "text": [
      "You may say I'm a dreamer\n",
      "But I’m not the only one\n",
      "...\n",
      "You may say I'm a dreamer\n",
      "But I’m not the only one\n",
      "...\n",
      "You may say I'm a dreamer\n",
      "But I’m not the only one\n",
      "...\n"
     ]
    }
   ],
   "source": [
    "# 4.7 Definitions and Uses\n",
    "\n",
    "def sing_imagine():                        # defines your function 'sing_imagine()'\n",
    "    print(\"You may say I'm a dreamer\")\n",
    "    print(\"But I’m not the only one\")\n",
    "    print(\"...\")\n",
    "    \n",
    "def sing_three_times():                    # uses your function object\n",
    "    sing_imagine()\n",
    "    sing_imagine()\n",
    "    sing_imagine()\n",
    "\n",
    "sing_three_times()"
   ]
  },
  {
   "cell_type": "code",
   "execution_count": 21,
   "metadata": {
    "collapsed": false,
    "deletable": true,
    "editable": true
   },
   "outputs": [
    {
     "name": "stdout",
     "output_type": "stream",
     "text": [
      "You may say I’m a dreamer\n",
      "But I’m not the only one\n",
      "...\n",
      "You may say I’m a dreamer\n",
      "But I’m not the only one\n",
      "...\n",
      "You may say I’m a dreamer\n",
      "But I’m not the only one\n",
      "...\n"
     ]
    }
   ],
   "source": [
    "# 4.8 Flow of Execution\n",
    "\n",
    "def sing_imagine():\n",
    "    print(\"You may say I’m a dreamer\")\n",
    "    print(\"But I’m not the only one\")\n",
    "    print(\"...\")\n",
    "    \n",
    "def sing_three_times():\n",
    "    sing_imagine()\n",
    "    sing_imagine()\n",
    "    sing_imagine()\n",
    "\n",
    "sing_three_times()    # Try moving this to the top of this cell (above sing_imagine()), \n",
    "                      # then select **Kernel > Restart & Clear Output** in the menu and execute the cell.\n",
    "                      # Why do you get an error?\n",
    "\n",
    "                      # Switch the definitions of sing_three_times() and sing_imagine(),\n",
    "                      # then select *Kernel > Restart & Clear Output** in the menu, and execute the cell.\n",
    "                      # Why you don't get an error even though sing_imagine() is defined after it is used in\n",
    "                      # the definition of sing_three_times() ?\n",
    "                        \n",
    "                      # Statements are not executed until functions are called\n",
    "                      # You need to define functions before you can use them"
   ]
  },
  {
   "cell_type": "code",
   "execution_count": 23,
   "metadata": {
    "collapsed": false,
    "deletable": true,
    "editable": true
   },
   "outputs": [
    {
     "name": "stdout",
     "output_type": "stream",
     "text": [
      "Sam\n",
      "Sam\n",
      "100\n",
      "100\n"
     ]
    }
   ],
   "source": [
    "# 4.9 Parameters and Arguments\n",
    "\n",
    "def print_twice(val):              # val is the parameter of the function print_twice()\n",
    "    print(val)\n",
    "    print(val)\n",
    "    \n",
    "print_twice(\"Sam\")                 # the value \"Sam\" is assigned to a parameter val.\n",
    "print_twice(100)                   # the value 100 is assigned to a parameter val.\n"
   ]
  },
  {
   "cell_type": "code",
   "execution_count": 24,
   "metadata": {
    "collapsed": false,
    "deletable": true,
    "editable": true
   },
   "outputs": [
    {
     "name": "stdout",
     "output_type": "stream",
     "text": [
      "4.0\n"
     ]
    },
    {
     "ename": "NameError",
     "evalue": "name 'total' is not defined",
     "output_type": "error",
     "traceback": [
      "\u001b[0;31m---------------------------------------------------------------------------\u001b[0m",
      "\u001b[0;31mNameError\u001b[0m                                 Traceback (most recent call last)",
      "\u001b[0;32m<ipython-input-24-77df89a12992>\u001b[0m in \u001b[0;36m<module>\u001b[0;34m()\u001b[0m\n\u001b[1;32m     10\u001b[0m \u001b[0maverage_three_words\u001b[0m\u001b[0;34m(\u001b[0m\u001b[0;36m3\u001b[0m\u001b[0;34m,\u001b[0m\u001b[0;36m4\u001b[0m\u001b[0;34m,\u001b[0m\u001b[0;36m5\u001b[0m\u001b[0;34m)\u001b[0m\u001b[0;34m\u001b[0m\u001b[0m\n\u001b[1;32m     11\u001b[0m \u001b[0;34m\u001b[0m\u001b[0m\n\u001b[0;32m---> 12\u001b[0;31m \u001b[0mprint\u001b[0m\u001b[0;34m(\u001b[0m\u001b[0mtotal\u001b[0m\u001b[0;34m)\u001b[0m  \u001b[0;31m# This statement will results in an error. Why?\u001b[0m\u001b[0;34m\u001b[0m\u001b[0m\n\u001b[0m\u001b[1;32m     13\u001b[0m               \u001b[0;31m# 'total' is local to the function 'average_three_words'. This means that\u001b[0m\u001b[0;34m\u001b[0m\u001b[0;34m\u001b[0m\u001b[0m\n\u001b[1;32m     14\u001b[0m               \u001b[0;31m# it is only accessible within the scope of the function.\u001b[0m\u001b[0;34m\u001b[0m\u001b[0;34m\u001b[0m\u001b[0m\n",
      "\u001b[0;31mNameError\u001b[0m: name 'total' is not defined"
     ]
    }
   ],
   "source": [
    "# 4.9 Parameteres and Arguments (cont.)\n",
    "    \n",
    "# Function with local variable\n",
    "\n",
    "def average_three_words(x, y, z):\n",
    "    total = x + y + z                       # total is a local variable\n",
    "    average = total/3                       # average is a local variable\n",
    "    print(average)\n",
    "\n",
    "average_three_words(3,4,5)\n",
    "\n",
    "print(total)  # This statement will results in an error. Why? \n",
    "              # 'total' is local to the function 'average_three_words'. This means that \n",
    "              # it is only accessible within the scope of the function.\n"
   ]
  },
  {
   "cell_type": "code",
   "execution_count": 26,
   "metadata": {
    "collapsed": false,
    "deletable": true,
    "editable": true
   },
   "outputs": [
    {
     "name": "stdout",
     "output_type": "stream",
     "text": [
      "John Smith\n",
      "----\n",
      "John Smith\n",
      "None\n"
     ]
    }
   ],
   "source": [
    "# 4.10 Fruitful Functions and Void Functions\n",
    "\n",
    "# fruitful functions are functions that yield results\n",
    "# void functions are functions that perform an action but don't return a value\n",
    "\n",
    "def combine_first_last1(f, l):\n",
    "    return(f + \" \" + l)\n",
    "\n",
    "def combine_first_last2(f, l):\n",
    "    print(f + \" \" + l)\n",
    "\n",
    "full_name = combine_first_last1(\"John\", \"Smith\")\n",
    "print(full_name)\n",
    "\n",
    "print(\"----\")\n",
    "\n",
    "full_name = combine_first_last2(\"John\", \"Smith\")\n",
    "print(full_name)\n"
   ]
  },
  {
   "cell_type": "code",
   "execution_count": null,
   "metadata": {
    "collapsed": true,
    "deletable": true,
    "editable": true
   },
   "outputs": [],
   "source": [
    "# 4.11 Why Functions?\n",
    "\n",
    "# If you aren't sure, read the text book."
   ]
  }
 ],
 "metadata": {
  "kernelspec": {
   "display_name": "Python 3",
   "language": "python",
   "name": "python3"
  },
  "language_info": {
   "codemirror_mode": {
    "name": "ipython",
    "version": 3
   },
   "file_extension": ".py",
   "mimetype": "text/x-python",
   "name": "python",
   "nbconvert_exporter": "python",
   "pygments_lexer": "ipython3",
   "version": "3.6.0"
  }
 },
 "nbformat": 4,
 "nbformat_minor": 0
}
