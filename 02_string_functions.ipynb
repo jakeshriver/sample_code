{
 "cells": [
  {
   "cell_type": "markdown",
   "metadata": {
    "deletable": true,
    "editable": true
   },
   "source": [
    "## String Functions"
   ]
  },
  {
   "cell_type": "code",
   "execution_count": 1,
   "metadata": {
    "collapsed": false,
    "deletable": true,
    "editable": true
   },
   "outputs": [
    {
     "ename": "SyntaxError",
     "evalue": "EOL while scanning string literal (<ipython-input-1-b7991411672b>, line 3)",
     "output_type": "error",
     "traceback": [
      "\u001b[0;36m  File \u001b[0;32m\"<ipython-input-1-b7991411672b>\"\u001b[0;36m, line \u001b[0;32m3\u001b[0m\n\u001b[0;31m    q = \"Just the fact that some geniuses were laughed at does not imply that\u001b[0m\n\u001b[0m                                                                             ^\u001b[0m\n\u001b[0;31mSyntaxError\u001b[0m\u001b[0;31m:\u001b[0m EOL while scanning string literal\n"
     ]
    }
   ],
   "source": [
    "# You cannot use line breaks within a quote.\n",
    "\n",
    "q = \"Just the fact that some geniuses were laughed at does not imply that\n",
    "all who are laughed at are geniuses. They laughed at Columbus, they laughed at\n",
    "Fulton, they laughed at the Wright brothers. But they also laughed at Bozo the\n",
    "Clown. —Carl Sagan\"\n",
    "\n",
    "print(q)"
   ]
  },
  {
   "cell_type": "code",
   "execution_count": 2,
   "metadata": {
    "collapsed": false,
    "deletable": true,
    "editable": true
   },
   "outputs": [
    {
     "name": "stdout",
     "output_type": "stream",
     "text": [
      "Just the fact that some geniuses were laughed at does not imply that all who are laughed at are geniuses. They laughed at Columbus, they laughed at Fulton, they laughed at the Wright brothers. But they also laughed at Bozo the Clown. —Carl Sagan\n"
     ]
    }
   ],
   "source": [
    "# Use a back slash at the end of each line.\n",
    "\n",
    "q = \"Just the fact that some geniuses were laughed at does not imply that \\\n",
    "all who are laughed at are geniuses. They laughed at Columbus, they laughed at \\\n",
    "Fulton, they laughed at the Wright brothers. But they also laughed at Bozo the \\\n",
    "Clown. —Carl Sagan\"\n",
    "\n",
    "print(q)"
   ]
  },
  {
   "cell_type": "code",
   "execution_count": 3,
   "metadata": {
    "collapsed": false,
    "deletable": true,
    "editable": true
   },
   "outputs": [
    {
     "name": "stdout",
     "output_type": "stream",
     "text": [
      "Just the fact that some geniuses were laughed at does not imply that \n",
      "all who are laughed at are geniuses. They laughed at Columbus, they laughed at \n",
      "Fulton, they laughed at the Wright brothers. But they also laughed at Bozo the\n",
      "Clown. —Carl Sagan\n"
     ]
    }
   ],
   "source": [
    "# You can type a long string with line breaks.\n",
    "\n",
    "q = \"\"\"Just the fact that some geniuses were laughed at does not imply that \n",
    "all who are laughed at are geniuses. They laughed at Columbus, they laughed at \n",
    "Fulton, they laughed at the Wright brothers. But they also laughed at Bozo the\n",
    "Clown. —Carl Sagan\"\"\"\n",
    "\n",
    "print(q)"
   ]
  },
  {
   "cell_type": "code",
   "execution_count": 4,
   "metadata": {
    "collapsed": false,
    "deletable": true,
    "editable": true
   },
   "outputs": [
    {
     "name": "stdout",
     "output_type": "stream",
     "text": [
      "Just the fact that some geniuses were laughed at does not imply that \n",
      "all who are laughed at are geniuses. They laughed at Columbus, they laughed at \n",
      "\n",
      "Fulton, they laughed at the Wright brothers. But they also laughed at Bozo the\n",
      "Clown.\n",
      "\n",
      "—Carl Sagan\n"
     ]
    }
   ],
   "source": [
    "# Observe the difference in line breaks with an extra break.\n",
    "\n",
    "q = \"\"\"Just the fact that some geniuses were laughed at does not imply that \n",
    "all who are laughed at are geniuses. They laughed at Columbus, they laughed at \n",
    "\n",
    "Fulton, they laughed at the Wright brothers. But they also laughed at Bozo the\n",
    "Clown.\n",
    "\n",
    "—Carl Sagan\"\"\"\n",
    "\n",
    "print(q)"
   ]
  },
  {
   "cell_type": "code",
   "execution_count": 5,
   "metadata": {
    "collapsed": false,
    "deletable": true,
    "editable": true
   },
   "outputs": [
    {
     "name": "stdout",
     "output_type": "stream",
     "text": [
      "We are what we repeatedly do; excellence, then, is not an act but a habit. —Aristotle\n",
      "\n",
      "We are what we repeatedly do; excellence, then, is not an act but a habit. \n",
      "—Aristotle\n"
     ]
    }
   ],
   "source": [
    "# \\n is the new line character.  You can use it in a quote to return to the next line.\n",
    "\n",
    "q1 = \"We are what we repeatedly do; excellence, then, is not an act but a habit. —Aristotle\\n\"\n",
    "q2 = \"We are what we repeatedly do; excellence, then, is not an act but a habit. \\n—Aristotle\"\n",
    "\n",
    "print(q1)\n",
    "print(q2)"
   ]
  },
  {
   "cell_type": "code",
   "execution_count": 6,
   "metadata": {
    "collapsed": false,
    "deletable": true,
    "editable": true
   },
   "outputs": [
    {
     "name": "stdout",
     "output_type": "stream",
     "text": [
      "['Just', 'the', 'fact', 'that', 'some', 'geniuses', 'were', 'laughed', 'at', 'does', 'not', 'imply', 'that', 'all', 'who', 'are', 'laughed', 'at', 'are', 'geniuses.', 'They', 'laughed', 'at', 'Columbus,', 'they', 'laughed', 'at', 'Fulton,', 'they', 'laughed', 'at', 'the', 'Wright', 'brothers.', 'But', 'they', 'also', 'laughed', 'at', 'Bozo', 'the', 'Clown.', '—Carl', 'Sagan']\n",
      "Just\n",
      "the\n",
      "fact\n",
      "that\n",
      "some\n",
      "geniuses\n",
      "were\n",
      "laughed\n",
      "at\n",
      "does\n",
      "not\n",
      "imply\n",
      "that\n",
      "all\n",
      "who\n",
      "are\n",
      "laughed\n",
      "at\n",
      "are\n",
      "geniuses.\n",
      "They\n",
      "laughed\n",
      "at\n",
      "Columbus,\n",
      "they\n",
      "laughed\n",
      "at\n",
      "Fulton,\n",
      "they\n",
      "laughed\n",
      "at\n",
      "the\n",
      "Wright\n",
      "brothers.\n",
      "But\n",
      "they\n",
      "also\n",
      "laughed\n",
      "at\n",
      "Bozo\n",
      "the\n",
      "Clown.\n",
      "—Carl\n",
      "Sagan\n"
     ]
    }
   ],
   "source": [
    "# You can split a line into its individual words using .split()\n",
    "\n",
    "# You cannot use line breaks within a quote.\n",
    "\n",
    "q = \"\"\"Just the fact that some geniuses were laughed at does not imply that\n",
    "all who are laughed at are geniuses. They laughed at Columbus, they laughed at\n",
    "Fulton, they laughed at the Wright brothers. But they also laughed at Bozo the\n",
    "Clown. —Carl Sagan\"\"\"\n",
    "\n",
    "words = q.split()\n",
    "print(words)\n",
    "\n",
    "for word in words:\n",
    "    print(word)\n",
    "    "
   ]
  },
  {
   "cell_type": "code",
   "execution_count": 7,
   "metadata": {
    "collapsed": false,
    "deletable": true,
    "editable": true
   },
   "outputs": [
    {
     "name": "stdout",
     "output_type": "stream",
     "text": [
      "2\n"
     ]
    }
   ],
   "source": [
    "# When you split a line, you can perform functions such as counting how many times a word is used.\n",
    "# Here, you can count how many times this quote contains the word \"that\".\n",
    "\n",
    "# You cannot use line breaks within a quote.\n",
    "\n",
    "q = \"\"\"Just the fact that some geniuses were laughed at does not imply that\n",
    "all who are laughed at are geniuses. They laughed at Columbus, they laughed at\n",
    "Fulton, they laughed at the Wright brothers. But they also laughed at Bozo the\n",
    "Clown. —Carl Sagan\"\"\"\n",
    "\n",
    "def count_that(quote):\n",
    "    count = 0\n",
    "    words = quote.split()\n",
    "    for word in words:\n",
    "        if word == \"that\":\n",
    "            count += 1\n",
    "    return count\n",
    "\n",
    "print(count_that(q))"
   ]
  },
  {
   "cell_type": "code",
   "execution_count": 8,
   "metadata": {
    "collapsed": false,
    "deletable": true,
    "editable": true
   },
   "outputs": [
    {
     "name": "stdout",
     "output_type": "stream",
     "text": [
      "True\n",
      "False\n",
      "True\n",
      "False\n"
     ]
    }
   ],
   "source": [
    "# You can see if a string starts with a specific string using .startswith()\n",
    "# and see if a string ends with a specific string using .endswith()\n",
    "\n",
    "file = \"myfile.docx\"\n",
    "\n",
    "print(file.endswith(\".docx\"))\n",
    "print(file.endswith(\".pdf\"))\n",
    "print(file.startswith(\"my\"))\n",
    "print(file.startswith(\"your\"))\n"
   ]
  }
 ],
 "metadata": {
  "kernelspec": {
   "display_name": "Python 3",
   "language": "python",
   "name": "python3"
  },
  "language_info": {
   "codemirror_mode": {
    "name": "ipython",
    "version": 3
   },
   "file_extension": ".py",
   "mimetype": "text/x-python",
   "name": "python",
   "nbconvert_exporter": "python",
   "pygments_lexer": "ipython3",
   "version": "3.6.0"
  }
 },
 "nbformat": 4,
 "nbformat_minor": 0
}
