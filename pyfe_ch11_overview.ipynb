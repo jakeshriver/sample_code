{
 "cells": [
  {
   "cell_type": "markdown",
   "metadata": {
    "deletable": true,
    "editable": true
   },
   "source": [
    "Python for Everybody\n",
    "## Chapter 11:  Regular Expressions\n",
    "\n",
    "The following page shows a complete list of special chracters used in regular expressions:\n",
    "\n",
    "https://docs.python.org/3/library/re.html\n",
    "\n",
    "Don't try to read and remember everything at once.\n",
    "It is best to learn regular expressions as you need them.\n"
   ]
  },
  {
   "cell_type": "code",
   "execution_count": 2,
   "metadata": {
    "collapsed": false,
    "deletable": true,
    "editable": true
   },
   "outputs": [
    {
     "name": "stdout",
     "output_type": "stream",
     "text": [
      "# if there is at least one 'in' in the line\n",
      "A Dream Within A Dream\n",
      "And, in parting from you now,\n",
      "In a night, or in a day,\n",
      "In a vision, or in none,\n",
      "Is but a dream within a dream.\n",
      "And I hold within my hand\n",
      "Grains of the golden sand—\n",
      "Through my fingers to the deep,\n",
      "But a dream within a dream?\n",
      "\n",
      "# if the line starts with 'in'\n",
      "In a night, or in a day,\n",
      "In a vision, or in none,\n",
      "\n",
      "# if the line ends with '?'\n",
      "Is it therefore the less gone?\n",
      "Them with a tighter clasp?\n",
      "One from the pitiless wave?\n",
      "But a dream within a dream?\n",
      "\n",
      "# if 'in' is surrounded by white space characters\n",
      "And, in parting from you now,\n",
      "In a night, or in a day,\n",
      "In a vision, or in none,\n",
      "\n",
      "# if 'in' is surrounded by NON white space characters\n",
      "And, in parting from you now,\n",
      "Grains of the golden sand—\n",
      "Through my fingers to the deep,\n"
     ]
    }
   ],
   "source": [
    "# Some examples\n",
    "\n",
    "# Searching and extracting is such a common task that Python has a very powerful library that handles these tasks\n",
    "# These are 'regular expressoins'\n",
    "\n",
    "import re\n",
    "fhand = open(\"text/a_dream_within_a_dream.txt\")\n",
    "\n",
    "print(\"# if there is at least one \\'in\\' in the line\")\n",
    "for line in fhand:\n",
    "    res = re.search('in', line.strip().lower())                    # searches and prints all lines that contain\n",
    "    if res:                                                        # the string 'in'\n",
    "        print(line.strip())                                        # doesn't check for spaces before or after, so\n",
    "fhand.close()                                                      # this would also print words that contain 'in'\n",
    "\n",
    "fhand = open(\"text/a_dream_within_a_dream.txt\")\n",
    "print(\"\\n# if the line starts with \\'in\\'\")\n",
    "for line in fhand:\n",
    "    res = re.search('^in', line.strip().lower())                   # searches and prints all lines that begin with\n",
    "    if res:                                                        # the string 'in'\n",
    "        print(line.strip())                                        # '^in' means the line starts with 'in'\n",
    "fhand.close()\n",
    "\n",
    "fhand = open(\"text/a_dream_within_a_dream.txt\")\n",
    "print(\"\\n# if the line ends with \\'?\\'\")\n",
    "for line in fhand:\n",
    "    res = re.search('\\?$', line.strip().lower())                   # searches and prints all lines that end with\n",
    "    if res:                                                        # a question mark\n",
    "        print(line.strip())                                        # '\\?$' means the line ends with a question mark\n",
    "fhand.close()\n",
    "\n",
    "fhand = open(\"text/a_dream_within_a_dream.txt\")\n",
    "print(\"\\n# if \\'in\\' is surrounded by white space characters\")\n",
    "for line in fhand:\n",
    "    res = re.search('\\\\sin\\\\s', line.strip().lower())              # searches and prints all lines that contain\n",
    "    if res:                                                        # the word 'in', surrounded by spaces\n",
    "        print(line.strip())                                        # '\\\\sin\\\\s' means 'in' with white space around it\n",
    "fhand.close()\n",
    "\n",
    "fhand = open(\"text/a_dream_within_a_dream.txt\")\n",
    "print(\"\\n# if \\'in\\' is surrounded by NON white space characters\")\n",
    "for line in fhand:    \n",
    "    res = re.search('\\\\Sin\\\\S', line.strip().lower())              # searches and prints all lines that contain the\n",
    "    if res:                                                        # string 'in' surrounded by other letters or chars\n",
    "        print(line.strip())                                        # '\\\\Sin\\\\S' matches NON white space characters\n",
    "fhand.close()\n"
   ]
  },
  {
   "cell_type": "code",
   "execution_count": 147,
   "metadata": {
    "collapsed": false,
    "deletable": true,
    "editable": true
   },
   "outputs": [
    {
     "name": "stdout",
     "output_type": "stream",
     "text": [
      "From: stephen.marquard@uct.ac.za\n",
      "From: louis@media.berkeley.edu\n",
      "From: zqian@umich.edu\n",
      "From: rjlowe@iupui.edu\n",
      "From: zqian@umich.edu\n",
      "From: rjlowe@iupui.edu\n",
      "From: cwen@iupui.edu\n",
      "From: cwen@iupui.edu\n",
      "From: gsilver@umich.edu\n",
      "From: gsilver@umich.edu\n",
      "From: zqian@umich.edu\n",
      "From: gsilver@umich.edu\n",
      "From: wagnermr@iupui.edu\n",
      "From: zqian@umich.edu\n",
      "From: antranig@caret.cam.ac.uk\n",
      "From: gopal.ramasammycook@gmail.com\n",
      "From: david.horwitz@uct.ac.za\n",
      "From: david.horwitz@uct.ac.za\n",
      "From: david.horwitz@uct.ac.za\n",
      "From: david.horwitz@uct.ac.za\n",
      "From: stephen.marquard@uct.ac.za\n",
      "From: louis@media.berkeley.edu\n",
      "From: louis@media.berkeley.edu\n",
      "From: ray@media.berkeley.edu\n",
      "From: cwen@iupui.edu\n",
      "From: cwen@iupui.edu\n",
      "From: cwen@iupui.edu\n"
     ]
    }
   ],
   "source": [
    "# 11.1 Character matching in regular expressions\n",
    "\n",
    "# Special characters let you build more powerful expressions\n",
    "# The character '.' matches any character except the newline character\n",
    "# For example, 'F..m' would match any four character string starting with 'F' and ending with 'm'\n",
    "# Such as 'From', 'Foam', 'F12m', 'F!@m', etc\n",
    "\n",
    "# Search for lines that start with 'F', followed by\n",
    "# 2 characters, followed by 'm:'\n",
    "\n",
    "import re\n",
    "hand = open('text/mbox-short.txt')\n",
    "for line in hand:\n",
    "    line = line.rstrip()\n",
    "    if re.search('^F..m:', line):    # '.' (dot) matches a single character, except the newline chracter.\n",
    "        print(line)\n"
   ]
  },
  {
   "cell_type": "code",
   "execution_count": 252,
   "metadata": {
    "collapsed": false,
    "deletable": true,
    "editable": true
   },
   "outputs": [
    {
     "name": "stdout",
     "output_type": "stream",
     "text": [
      "['(412)']\n",
      "[' 234']\n",
      "['5678']\n",
      "['the universe', 'the universe']\n",
      "['universe and human']\n",
      "[\"universe and human stupidity; and I'm not sure about the universe\"]\n",
      "['infinite', 'human']\n",
      "['infinite', 'human']\n",
      "['infinite: the universe and human']\n",
      "['and human stupidity']\n"
     ]
    }
   ],
   "source": [
    "# More examples\n",
    "\n",
    "import re\n",
    "\n",
    "#url = '<p>Hello World</p><a href=\"http://example.com\">More Examples</a><a href=\"http://example2.com\">Even More Examples</a>'\n",
    "#urls = re.findall('http[s]?://(?:[a-zA-Z]|[0-9]|[$-_@.&+]|[!*\\(\\),]|(?:%[0-9a-fA-F][0-9a-fA-F]))+', url)\n",
    "#print(urls)\n",
    "\n",
    "s= '(412) 234-5678'\n",
    "print(re.findall('\\([0-9]+\\)', s))    # find the area code, the numbers surrounded by parenthesis\n",
    "print(re.findall('\\\\s[0-9]+', s))     # find the exchange, the numbers with ' ' on the left and a '-' on the right\n",
    "print(re.findall('[0-9]+$', s))       # find the phone number, the numbers with '-' on the left\n",
    "\n",
    "q = \"Two things are infinite: the universe and human stupidity; and I\\'m not sure about the universe. ― Albert Einstein\"\n",
    "\n",
    "# one or more characters followed by a space then 'universe'. (i.e., bi-gram ends with 'universe')\n",
    "print(re.findall('\\w+\\suniverse', q))  \n",
    "\n",
    "# 'universe' followed by a space, a word, a space, a word (i.e., tri-gram starts with 'universe')\n",
    "print(re.findall('universe\\s\\w+\\s\\w+', q))  \n",
    "\n",
    "# '.*' matches any number of characters. (i.e., a pattern begins and ends with 'universe')\n",
    "print(re.findall('universe.*universe', q))  \n",
    "\n",
    "# '|' (vertical bar) can be used to list options. (i.e., 'infinite or 'human')\n",
    "print(re.findall('(infinite|human)', q))  \n",
    "\n",
    "# You can construct a query in your code.\n",
    "w1 = 'infinite'\n",
    "w2 = 'human'\n",
    "query1 = w1 + \"|\" + w2\n",
    "query2 = w1 + \".*\" + w2\n",
    "query3 = \"\\w+\\\\s\" + w2 + \"\\\\s\\w+\"\n",
    "print(re.findall(query1, q))\n",
    "print(re.findall(query2, q))\n",
    "print(re.findall(query3, q))            \n"
   ]
  },
  {
   "cell_type": "code",
   "execution_count": 150,
   "metadata": {
    "collapsed": false,
    "deletable": true,
    "editable": true
   },
   "outputs": [
    {
     "name": "stdout",
     "output_type": "stream",
     "text": [
      "From: stephen.marquard@uct.ac.za\n",
      "From: louis@media.berkeley.edu\n",
      "From: zqian@umich.edu\n",
      "From: rjlowe@iupui.edu\n",
      "From: zqian@umich.edu\n",
      "From: rjlowe@iupui.edu\n",
      "From: cwen@iupui.edu\n",
      "From: cwen@iupui.edu\n",
      "From: gsilver@umich.edu\n",
      "From: gsilver@umich.edu\n",
      "From: zqian@umich.edu\n",
      "From: gsilver@umich.edu\n",
      "From: wagnermr@iupui.edu\n",
      "From: zqian@umich.edu\n",
      "From: antranig@caret.cam.ac.uk\n",
      "From: gopal.ramasammycook@gmail.com\n",
      "From: david.horwitz@uct.ac.za\n",
      "From: david.horwitz@uct.ac.za\n",
      "From: david.horwitz@uct.ac.za\n",
      "From: david.horwitz@uct.ac.za\n",
      "From: stephen.marquard@uct.ac.za\n",
      "From: louis@media.berkeley.edu\n",
      "From: louis@media.berkeley.edu\n",
      "From: ray@media.berkeley.edu\n",
      "From: cwen@iupui.edu\n",
      "From: cwen@iupui.edu\n",
      "From: cwen@iupui.edu\n"
     ]
    }
   ],
   "source": [
    "# 11.1 (cont.)\n",
    "\n",
    "# Search for lines that start with 'From' and have an at sign ('@')\n",
    "\n",
    "import re\n",
    "hand = open('text/mbox-short.txt')\n",
    "for line in hand:\n",
    "    line = line.rstrip()\n",
    "    if re.search('^From:.+@', line):\n",
    "        print(line)\n",
    "        "
   ]
  },
  {
   "cell_type": "code",
   "execution_count": 261,
   "metadata": {
    "collapsed": false,
    "deletable": true,
    "editable": true
   },
   "outputs": [
    {
     "name": "stdout",
     "output_type": "stream",
     "text": [
      "['csev@umich.edu', 'cwen@iupui.edu']\n",
      "['from csev', 'to cwen']\n"
     ]
    }
   ],
   "source": [
    "# 11.2 Extracting data using regular expressions\n",
    "\n",
    "# the method 'findall()' extracts all the substrings which match a regular expression\n",
    "\n",
    "import re\n",
    "s = 'A message from csev@umich.edu to cwen@iupui.edu about meeting @2PM'\n",
    "lst = re.findall('\\S+@\\S+', s)     # searches 's' for all substrings with '@' surrounded by non-white space characters\n",
    "print(lst)\n",
    "\n",
    "s = 'A message from csev@umich.edu to cwen@iupui.edu about meeting @2PM'\n",
    "lst = re.findall('\\w+\\\\s\\w+(?=@)', s)    # '(?=...)'  if ... matches next\n",
    "print(lst)\n"
   ]
  },
  {
   "cell_type": "code",
   "execution_count": 109,
   "metadata": {
    "collapsed": false,
    "deletable": true,
    "editable": true
   },
   "outputs": [
    {
     "name": "stdout",
     "output_type": "stream",
     "text": [
      "X-DSPAM-Confidence: 0.8475\n",
      "X-DSPAM-Probability: 0.0000\n",
      "X-DSPAM-Confidence: 0.6178\n",
      "X-DSPAM-Probability: 0.0000\n",
      "X-DSPAM-Confidence: 0.6961\n",
      "X-DSPAM-Probability: 0.0000\n",
      "X-DSPAM-Confidence: 0.7565\n",
      "X-DSPAM-Probability: 0.0000\n",
      "X-DSPAM-Confidence: 0.7626\n",
      "X-DSPAM-Probability: 0.0000\n",
      "X-DSPAM-Confidence: 0.7556\n",
      "X-DSPAM-Probability: 0.0000\n",
      "X-DSPAM-Confidence: 0.7002\n",
      "X-DSPAM-Probability: 0.0000\n",
      "X-DSPAM-Confidence: 0.7615\n",
      "X-DSPAM-Probability: 0.0000\n",
      "X-DSPAM-Confidence: 0.7601\n",
      "X-DSPAM-Probability: 0.0000\n",
      "X-DSPAM-Confidence: 0.7605\n",
      "X-DSPAM-Probability: 0.0000\n",
      "X-DSPAM-Confidence: 0.6959\n",
      "X-DSPAM-Probability: 0.0000\n",
      "X-DSPAM-Confidence: 0.7606\n",
      "X-DSPAM-Probability: 0.0000\n",
      "X-DSPAM-Confidence: 0.7559\n",
      "X-DSPAM-Probability: 0.0000\n",
      "X-DSPAM-Confidence: 0.7605\n",
      "X-DSPAM-Probability: 0.0000\n",
      "X-DSPAM-Confidence: 0.6932\n",
      "X-DSPAM-Probability: 0.0000\n",
      "X-DSPAM-Confidence: 0.7558\n",
      "X-DSPAM-Probability: 0.0000\n",
      "X-DSPAM-Confidence: 0.6526\n",
      "X-DSPAM-Probability: 0.0000\n",
      "X-DSPAM-Confidence: 0.6948\n",
      "X-DSPAM-Probability: 0.0000\n",
      "X-DSPAM-Confidence: 0.6528\n",
      "X-DSPAM-Probability: 0.0000\n",
      "X-DSPAM-Confidence: 0.7002\n",
      "X-DSPAM-Probability: 0.0000\n",
      "X-DSPAM-Confidence: 0.7554\n",
      "X-DSPAM-Probability: 0.0000\n",
      "X-DSPAM-Confidence: 0.6956\n",
      "X-DSPAM-Probability: 0.0000\n",
      "X-DSPAM-Confidence: 0.6959\n",
      "X-DSPAM-Probability: 0.0000\n",
      "X-DSPAM-Confidence: 0.7556\n",
      "X-DSPAM-Probability: 0.0000\n",
      "X-DSPAM-Confidence: 0.9846\n",
      "X-DSPAM-Probability: 0.0000\n",
      "X-DSPAM-Confidence: 0.8509\n",
      "X-DSPAM-Probability: 0.0000\n",
      "X-DSPAM-Confidence: 0.9907\n",
      "X-DSPAM-Probability: 0.0000\n"
     ]
    }
   ],
   "source": [
    "# 11.3 Combining Searching and Extracting\n",
    "\n",
    "# Search for lines that start with 'X' followed by any non-whitespace character\n",
    "# and containing the character ':' followed by a space and any number.\n",
    "# The number can include a decimal.\n",
    "\n",
    "import re\n",
    "hand = open('text/mbox-short.txt')\n",
    "for line in hand:\n",
    "    line = line.rstrip()\n",
    "    if re.search('^X\\S*: [0-9.]+', line):          # search() returns the whole line\n",
    "        print(line)\n",
    "        "
   ]
  },
  {
   "cell_type": "code",
   "execution_count": 112,
   "metadata": {
    "collapsed": false,
    "deletable": true,
    "editable": true
   },
   "outputs": [
    {
     "name": "stdout",
     "output_type": "stream",
     "text": [
      "['0.8475']\n",
      "['0.0000']\n",
      "['0.6178']\n",
      "['0.0000']\n",
      "['0.6961']\n",
      "['0.0000']\n",
      "['0.7565']\n",
      "['0.0000']\n",
      "['0.7626']\n",
      "['0.0000']\n",
      "['0.7556']\n",
      "['0.0000']\n",
      "['0.7002']\n",
      "['0.0000']\n",
      "['0.7615']\n",
      "['0.0000']\n",
      "['0.7601']\n",
      "['0.0000']\n",
      "['0.7605']\n",
      "['0.0000']\n",
      "['0.6959']\n",
      "['0.0000']\n",
      "['0.7606']\n",
      "['0.0000']\n",
      "['0.7559']\n",
      "['0.0000']\n",
      "['0.7605']\n",
      "['0.0000']\n",
      "['0.6932']\n",
      "['0.0000']\n",
      "['0.7558']\n",
      "['0.0000']\n",
      "['0.6526']\n",
      "['0.0000']\n",
      "['0.6948']\n",
      "['0.0000']\n",
      "['0.6528']\n",
      "['0.0000']\n",
      "['0.7002']\n",
      "['0.0000']\n",
      "['0.7554']\n",
      "['0.0000']\n",
      "['0.6956']\n",
      "['0.0000']\n",
      "['0.6959']\n",
      "['0.0000']\n",
      "['0.7556']\n",
      "['0.0000']\n",
      "['0.9846']\n",
      "['0.0000']\n",
      "['0.8509']\n",
      "['0.0000']\n",
      "['0.9907']\n",
      "['0.0000']\n"
     ]
    }
   ],
   "source": [
    "# 11.3 (cont. #2)\n",
    "\n",
    "# Search for lines that start with 'X' followed by any non-whitespace character\n",
    "# and containing the character ':' followed by a space and any number.\n",
    "# The number can include a decimal.\n",
    "# Then print the number if it is greater than zero.\n",
    "\n",
    "import re\n",
    "hand = open('text/mbox-short.txt')\n",
    "for line in hand:\n",
    "    line = line.rstrip()\n",
    "    x = re.findall('^X\\S*: ([0-9.]+)', line)               # findall() only returns the number, not the whole line\n",
    "    if len(x) > 0:\n",
    "        print(x)"
   ]
  },
  {
   "cell_type": "code",
   "execution_count": 114,
   "metadata": {
    "collapsed": false,
    "deletable": true,
    "editable": true
   },
   "outputs": [
    {
     "name": "stdout",
     "output_type": "stream",
     "text": [
      "['39772']\n",
      "['39771']\n",
      "['39770']\n",
      "['39769']\n",
      "['39766']\n",
      "['39765']\n",
      "['39764']\n",
      "['39763']\n",
      "['39762']\n",
      "['39761']\n",
      "['39760']\n",
      "['39759']\n",
      "['39758']\n",
      "['39757']\n",
      "['39756']\n",
      "['39755']\n",
      "['39754']\n",
      "['39753']\n",
      "['39752']\n",
      "['39751']\n",
      "['39750']\n",
      "['39749']\n",
      "['39746']\n",
      "['39745']\n",
      "['39744']\n",
      "['39743']\n",
      "['39742']\n"
     ]
    }
   ],
   "source": [
    "# 11.3 (cont. #3)\n",
    "\n",
    "# Search for lines that start with 'Details: rev='\n",
    "# followed by numbers and '.'\n",
    "# Then print the number if it is greater than zero\n",
    "\n",
    "import re\n",
    "hand = open('text/mbox-short.txt')\n",
    "for line in hand:\n",
    "    line = line.rstrip()\n",
    "    x = re.findall('^Details:.*rev=([0-9.]+)', line)\n",
    "    if len(x) > 0:\n",
    "        print(x)\n",
    "        "
   ]
  },
  {
   "cell_type": "code",
   "execution_count": 115,
   "metadata": {
    "collapsed": false,
    "deletable": true,
    "editable": true
   },
   "outputs": [
    {
     "name": "stdout",
     "output_type": "stream",
     "text": [
      "['09']\n",
      "['18']\n",
      "['16']\n",
      "['15']\n",
      "['15']\n",
      "['14']\n",
      "['11']\n",
      "['11']\n",
      "['11']\n",
      "['11']\n",
      "['11']\n",
      "['11']\n",
      "['10']\n",
      "['10']\n",
      "['10']\n",
      "['09']\n",
      "['07']\n",
      "['06']\n",
      "['04']\n",
      "['04']\n",
      "['04']\n",
      "['19']\n",
      "['17']\n",
      "['17']\n",
      "['16']\n",
      "['16']\n",
      "['16']\n"
     ]
    }
   ],
   "source": [
    "# 11.3 (cont. #4)\n",
    "\n",
    "# Search for lines that start with 'From'\n",
    "# and a character, followed by a two digit number between 00 and 99, followed by the character ':'\n",
    "# Then print the number if it is greater than zero\n",
    "\n",
    "import re\n",
    "hand = open('text/mbox-short.txt')\n",
    "for line in hand:\n",
    "    line = line.rstrip()\n",
    "    x = re.findall('^From .* ([0-9][0-9]):', line)\n",
    "    if len(x) > 0: \n",
    "        print(x)\n",
    "        "
   ]
  },
  {
   "cell_type": "code",
   "execution_count": 117,
   "metadata": {
    "collapsed": false,
    "deletable": true,
    "editable": true
   },
   "outputs": [
    {
     "name": "stdout",
     "output_type": "stream",
     "text": [
      "['$10.00']\n"
     ]
    }
   ],
   "source": [
    "# 11.4 Escape Character\n",
    "\n",
    "# Since you use special characters to match the beginning or end of a line,\n",
    "# you can indicate that you want to match the actual character (for example, the dollar sign $)\n",
    "# by using a backslash ('\\') before the character\n",
    "# such as '\\$' to indicate that you want to find the '$' character\n",
    "\n",
    "import re\n",
    "x = 'We just received $10.00 for cookies.'\n",
    "y = re.findall('\\$[0-9.]+',x)\n",
    "print(y)\n"
   ]
  },
  {
   "cell_type": "code",
   "execution_count": 5,
   "metadata": {
    "collapsed": true,
    "deletable": true,
    "editable": true
   },
   "outputs": [],
   "source": [
    "# 11.5 Summary\n",
    "\n"
   ]
  },
  {
   "cell_type": "code",
   "execution_count": null,
   "metadata": {
    "collapsed": true,
    "deletable": true,
    "editable": true
   },
   "outputs": [],
   "source": [
    "# 11.6 Bonus Section for Unix / Linux users\n",
    "\n",
    "# This section is optional"
   ]
  }
 ],
 "metadata": {
  "kernelspec": {
   "display_name": "Python 3",
   "language": "python",
   "name": "python3"
  },
  "language_info": {
   "codemirror_mode": {
    "name": "ipython",
    "version": 3
   },
   "file_extension": ".py",
   "mimetype": "text/x-python",
   "name": "python",
   "nbconvert_exporter": "python",
   "pygments_lexer": "ipython3",
   "version": "3.6.0"
  }
 },
 "nbformat": 4,
 "nbformat_minor": 0
}
