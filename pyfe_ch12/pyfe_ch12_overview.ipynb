{
 "cells": [
  {
   "cell_type": "markdown",
   "metadata": {},
   "source": [
    "Python for Everybody\n",
    "## Chpater 12. Networked Programs\n",
    "\n"
   ]
  },
  {
   "cell_type": "code",
   "execution_count": null,
   "metadata": {
    "collapsed": true
   },
   "outputs": [],
   "source": [
    "# 12.1 HyperText Transport Protocol - HTTP\n",
    "# Read the textbook"
   ]
  },
  {
   "cell_type": "markdown",
   "metadata": {
    "collapsed": false
   },
   "source": [
    "### You can skip the coding samples in the following sections\n",
    "- 12.2 The World's Simplest Web Browser\n",
    "- 12.3 Retrieving an Image over HTTP\n",
    "\n"
   ]
  },
  {
   "cell_type": "code",
   "execution_count": 4,
   "metadata": {
    "collapsed": false
   },
   "outputs": [
    {
     "name": "stdout",
     "output_type": "stream",
     "text": [
      "{b'the': 3, b'Arise': 1, b'with': 1, b'fair': 1, b'light': 1, b'sun': 2, b'through': 1, b'east': 1, b'But': 1, b'yonder': 1, b'kill': 1, b'breaks': 1, b'It': 1, b'Who': 1, b'moon': 1, b'envious': 1, b'is': 3, b'pale': 1, b'sick': 1, b'soft': 1, b'already': 1, b'window': 1, b'grief': 1, b'Juliet': 1, b'and': 3, b'what': 1}\n"
     ]
    }
   ],
   "source": [
    "# 12.4 Retrieving web pages with urllib\n",
    "\n",
    "import urllib.request                 # import the urllib.request module\n",
    "                                      # this module allows you to 'talk to' web servers.\n",
    "counts = dict()                       \n",
    "\n",
    "# utlopen() is like open, except that the file is on a remote server.\n",
    "fhand = urllib.request.urlopen('http://www.py4inf.com/code/romeo.txt')   \n",
    "\n",
    "for line in fhand:\n",
    "    words = line.split()\n",
    "    for word in words:\n",
    "        counts[word] = counts.get(word,0) + 1\n",
    "print(counts)"
   ]
  },
  {
   "cell_type": "code",
   "execution_count": 20,
   "metadata": {
    "collapsed": false
   },
   "outputs": [
    {
     "name": "stdout",
     "output_type": "stream",
     "text": [
      "http://www.cmu.edu/news/feeds/news.rss\n",
      "http://www.cmu.edu/\n",
      "http://www.library.cmu.edu/\n",
      "http://admission.enrollment.cmu.edu/\n",
      "http://www.cmu.edu/graduate/admissions/\n",
      "http://www.cmu.edu/leadership/\n",
      "http://athletics.cmu.edu\n",
      "http://www.giving.cmu.edu/s/1410/giving/16/landing.aspx?sid=1410&amp;gid=1&amp;pgid=7010\n",
      "http://www.cmu.edu/news/stories/archives/2016/october/frontiers-post.html\n",
      "http://www.cmu.edu/news/stories/archives/2016/october/historymakers.html\n",
      "http://cmtoday.cmu.edu/publicpolicy_innovation/improving-global-health-one-shot-at-a-time/\n",
      "http://www.cmu.edu/news/stories/archives/2016/october/matyjaszewski-franklin-medal.html\n",
      "http://www.cmu.edu/news/stories/archives/2016/october/colbert-obama.html\n",
      "http://www.cmu.edu/news/stories/archives/2016/october/science-magazine.html\n",
      "http://www.cmu.edu/news\n",
      "http://www.cmu.edu/leadership/pres-fellow-scholar/\n",
      "http://www.cmu.edu/brain\n",
      "http://www.cmu.edu/energy\n",
      "http://www.cmu.edu/simon\n",
      "http://www.cmu.edu/strategic-plan/index.html\n",
      "http://www.cmu.edu/news/stories/archives/2016/august/jose-oubrerie.html\n",
      "http://www.cmu.edu/student-affairs/lgbtq/SafeZone/\n",
      "http://www.cmu.edu/health-services/health-promotion/index.html\n",
      "http://www.cmu.edu/dietrich/news/news-stories/2016/october/gates-giler-lecture.html\n",
      "http://www.cmu.edu/swartz-center-for-entrepreneurship/events/launchcmu/\n",
      "http://www.cmu.edu/hss/globalstudies/events/Immigration,%20Identity,%20and%20the%20Transformation%20of%20Pittsburgh.html\n",
      "http://www.cmu.edu/ir/cirp-policy-forum/fall%202016/october-28-gen-ret-michael-hayden.html\n",
      "http://www.cmu.edu/events/\n",
      "http://www.cmu.edu/jobs/\n",
      "http://www.cmu.edu/global/presence/\n",
      "http://www.cmu.edu/news/\n",
      "http://www.cmu.edu/title-ix/\n",
      "http://www.alumni.cmu.edu/s/1410/alumni/start.aspx\n",
      "http://www.cmu.edu/legal/\n",
      "http://www.cmu.edu/\n",
      "http://www.facebook.com/carnegiemellonu\n",
      "http://www.twitter.com/carnegiemellon\n",
      "http://www.linkedin.com/groupInvitation?groupID=2221&amp;sharedKey=7BB90F3D4115\n",
      "http://www.youtube.com/carnegiemellonu\n",
      "http://itunes.apple.com/us/institution/carnegie-mellon-university/id383908951\n",
      "http://weibo.com/cmualumni\n"
     ]
    }
   ],
   "source": [
    "# 12.5 & 12.5 Parsing HTML and Scraping the Web Using Regular Expressions\n",
    "\n",
    "import urllib.request\n",
    "import re\n",
    "\n",
    "url = \"http://www.cmu.edu\"\n",
    "fhand = urllib.request.urlopen(url)        # open a URL\n",
    "# print(type(fhand))                       # fhand is a 'http.client.HTTPResponse' object\n",
    "html  = fhand.read()\n",
    "# print(type(html))                        # http.client.HTTPResponse.read() returns a 'bytes' objct\n",
    "htmlStr = html.decode('utf-8', 'ignore')   # decode the bytes object into a UNICODE string, and\n",
    "                                           # 'ignore' any erros.\n",
    "\n",
    "links = re.findall('href=\"(http://.*?)\"', htmlStr)    # find all the URLs (links) on this page\n",
    "for link in links:\n",
    "    print(link)\n",
    "    "
   ]
  },
  {
   "cell_type": "markdown",
   "metadata": {},
   "source": [
    "***\n",
    "\n",
    "## Install BeautifulSoup by executing the follwoing command in your <u>virtual envrionbment</u>.\n",
    "\n",
    "pip install bs4\n",
    "\n",
    "***\n",
    "\n",
    "### Commonly used BeautifulSoup methods\n",
    "\n",
    "#### soup methods\n",
    "```\n",
    "soup.find(id=\"xxxx\")         # find a tag with a specific id. (There is only 1 tag with a specific ID in HTML.)\n",
    "soup('a')                    # list all the 'a' tags in the page.\n",
    "soup.find_all(\"div\", { \"class\" : \"topstories\" })   # find all instances of a specific tag (e.g., <div>)\n",
    "                                                   # with a specific class (e.g., \"topstories\")\n",
    "```\n",
    "\n",
    "#### tag methods\n",
    "```\n",
    "tag.get('href', None)        # get the tag's attribute (e.g., 'href'. If there is no attribute with the \n",
    "                             # specified name, return None.\n",
    "tag.text                     # returns the tag's text content\n",
    "```                               "
   ]
  },
  {
   "cell_type": "code",
   "execution_count": 21,
   "metadata": {
    "collapsed": false
   },
   "outputs": [
    {
     "name": "stdout",
     "output_type": "stream",
     "text": [
      "---\n",
      "TAG:<a href=\"com.htm\"><img border=\"0\" src=\"icon2a.gif\"/>Come in!</a>\n",
      "URL:com.htm\n",
      "Content:<img border=\"0\" src=\"icon2a.gif\"/>\n",
      "Attrs:{'href': 'com.htm'}\n",
      "Text:Come in!\n",
      "---\n",
      "TAG:<a href=\"history.htm\"><img border=\"0\" src=\"icon5a.gif\"/>Our history page</a>\n",
      "URL:history.htm\n",
      "Content:<img border=\"0\" src=\"icon5a.gif\"/>\n",
      "Attrs:{'href': 'history.htm'}\n",
      "Text:Our history page\n",
      "---\n",
      "TAG:<a href=\"what.htm\"><img border=\"0\" src=\"icon4a.gif\"/> Whats` New</a>\n",
      "URL:what.htm\n",
      "Content:<img border=\"0\" src=\"icon4a.gif\"/>\n",
      "Attrs:{'href': 'what.htm'}\n",
      "Text: Whats` New\n",
      "---\n",
      "TAG:<a href=\"yuv_home.htm\"> y.</a>\n",
      "URL:yuv_home.htm\n",
      "Content: y.\n",
      "Attrs:{'href': 'yuv_home.htm'}\n",
      "Text: y.\n",
      "---\n",
      "TAG:<a href=\"guest.htm\">guest book</a>\n",
      "URL:guest.htm\n",
      "Content:guest book\n",
      "Attrs:{'href': 'guest.htm'}\n",
      "Text:guest book\n",
      "---\n",
      "TAG:<a href=\"mailto:mossad@eindor.org.il\">mossad@eindor.org.il</a>\n",
      "URL:mailto:mossad@eindor.org.il\n",
      "Content:mossad@eindor.org.il\n",
      "Attrs:{'href': 'mailto:mossad@eindor.org.il'}\n",
      "Text:mossad@eindor.org.il\n",
      "---\n",
      "TAG:<a href=\"http://www.oocities.com/\">Return to <i>GeoCities</i>.</a>\n",
      "URL:http://www.oocities.com/\n",
      "Content:Return to \n",
      "Attrs:{'href': 'http://www.oocities.com/'}\n",
      "Text:Return to GeoCities.\n"
     ]
    }
   ],
   "source": [
    "import urllib.request\n",
    "from bs4 import BeautifulSoup as bs\n",
    "\n",
    "url = \"http://www.oocities.org/rainforest/1035/\"\n",
    "html = urllib.request.urlopen(url).read()\n",
    "\n",
    "soup = bs(html, \"lxml\")\n",
    "\n",
    "# Retrieve all of the anchor tags\n",
    "tags = soup('a')\n",
    "for tag in tags:\n",
    "    ## Look at the parts of a tag\n",
    "    print(\"---\")\n",
    "    print('TAG:'+ str(tag))\n",
    "    print('URL:' + str(tag.get('href', None)))\n",
    "    print('Content:' + str(tag.contents[0]))\n",
    "    print('Attrs:' + str(tag.attrs))\n",
    "    print('Text:' + str(tag.text))\n",
    "    \n",
    "## Note: Unlike in the book, the 'tag' types in BeautifulSoup cannot be implicitly converted to string."
   ]
  },
  {
   "cell_type": "markdown",
   "metadata": {},
   "source": [
    "***\n",
    "### The following program visits the Post Gazette's Opinion page (http://www.post-gazette.com/opinion) to find the list of URLs for the current top stories. Then, the program visits each of the top stories, retrieves the story, and save it as a text file."
   ]
  },
  {
   "cell_type": "code",
   "execution_count": 18,
   "metadata": {
    "collapsed": false,
    "scrolled": true
   },
   "outputs": [
    {
     "name": "stdout",
     "output_type": "stream",
     "text": [
      "URL: http://www.post-gazette.com/opinion/editorials/2016/10/23/Harrisburg-fiddles-Lawmakers-are-busy-avoiding-the-big-topics/stories/201610310046\n",
      "\n",
      "With only a few days left in the legislative session, our state representatives and senators should be doubling down on the most pressing issues. The opioid crisis comes to mind. Pension reform, too.\n",
      "Unfortunately, the Senate found time Wednesday to pass a bill on a back-burner issue and to take a position that’s bad for Pennsylvanians. After zero debate, the Senate voted 45 to 5 to amend the wiretap law to allow police officers to wear body cameras inside homes and to do so without telling those they encounter that they are being recorded. In addition, the measure would all but exempt the footage from public disclosure.\n",
      "Police officers and municipal lawyers would be thrilled to be given carte blanche. However, it’s wrongheaded to increase police intrusiveness and decrease police accountability at a time when the nation has been roiled by questionable deaths at the hands of police officers. \n",
      "If it wanted to broaden the use of body cameras, the Senate should have passed a bill that built in accountability and signaled its understanding of the police-community divide. It simply failed.\n",
      "The Senate also passed legislation that would allow municipal police departments to begin using radar for speed control, a tool now available only to state police. Sen. Randy Vulakovich, R-Shaler, a former police officer, sponsored the measure.\n",
      " While long unpopular among residents, supporters of the measure say every state but Pennsylvania allows municipal police to use radar. In this instance, the Senate built in some safeguards. Municipalities must vote to let their departments use radar, and signs must be posted to let motorists know they’re being watched. \n",
      "Both bills now go to the House. Representatives should kill the body camera proposal and take up the radar legislation only after more important topics are addressed.\n",
      "Meet the Editorial Board.\n",
      "URL: http://www.post-gazette.com/opinion/editorials/2016/10/23/Ukraine-cont-Let-the-Europeans-hash-out-the-mess-with-Russia/stories/201610220034\n",
      "\n",
      "The issue of Ukraine with respect to Russia continues to be, first, a basically European matter. Second, the long-term status of the country remains unresolved.\n",
      "The matter was chewed over at the top European level in Berlin Wednesday, and again Thursday at a Brussels summit of the European Union. A road map emerged from the Berlin meeting, but it is by no means certain that it will be followed, or that it will lead to a sustainable result. The Berlin meeting, hosted by German Chancellor Angela Merkel, included Russian President Vladimir Putin, Ukrainian President Petro Poroshenko and French President Francois Hollande. Note that President Barack Obama wasn’t there; nor did he likely want to be there.\n",
      "The sniping and low-limit warfare in eastern Ukraine, including the involvement of Russian troops unacknowledged by Moscow, continue. An estimated 10,000 military and civilians have died. The “governing” agreement from which representatives of the different interested countries are supposed to be working is the Minsk II accord of 2015. Under what emerged from the Berlin meeting, foreign ministers are supposed to follow a road map that by Nov. 30 could produce a drawdown of some Russian forces under the oversight of the Organization for Security and Cooperation in Europe.\n",
      "There are some “constants” in the equation. One of them is that Russia will not reverse its 2014 annexation of Crimea. Second is that EU economic sanctions against Russia did not increase, as a result of either the Berlin meeting or the Brussels EU summit. Third is that Russia has still not obtained agreement to its desire for a more decentralized government in Ukraine, which would increase its influence there.\n",
      "Another “constant” is that there is no further talk at the moment about Ukrainian membership in either the EU or NATO, the desire of some Washington hawks. Nor has a cease-fire yet been achieved. Nor, in Berlin, did Mr. Putin allow any linkage between what Russia is doing in Syria and its actions in Ukraine, at least as far as what emerged.\n",
      "It is likely that the current balance of forces on the issue of Ukraine will persist for some time, through November’s elections in the United States, next year’s in France and Germany and the EU negotiations with the United Kingdom on its departure from the union. It is also true that Ukraine can’t do much for the moment, hampered by the corruption and political chaos that prevail there.\n",
      "Those who want to see peace in Ukraine will watch the evolution of the road map carefully. But don’t expect much.\n",
      "Meet the Editorial Board.\n",
      "URL: http://www.post-gazette.com/opinion/editorials/2016/10/23/Making-it-In-Zelienople-U-S-manufacturing-in-microcosm/stories/201610310048\n",
      "\n",
      "The state of American manufacturing has been a hot topic this election year. It’s also a staple of daily conversation, as people realize how few of the products they buy carry a “Made in America” label. The items that emerge from Penna Flame Industries, a third-generation family company in Zelienople, are uncommon. But the strategy that the Orr family is using to expand and strengthen its business reflects the state of U.S. manufacturing today.\n",
      "As described by Post-Gazette business writer Len Boselovic last week, Penna Flame has embraced robots to perform its core function: blasting steel pieces with heat reaching 1,650 degrees, cooling them down with liquid and creating a super-hard surface. The result is components suitable, for example, for the launch pad of the Space Shuttle. \n",
      "The skilled craftsmen whom firms used to employ by the score are “just not here anymore,” said Jim Orr, president of Penna Flame, which has 25 employees. The advent of robots, however, has allowed the firm to grow and take on work “we couldn’t do before.” A recent hire was a Slippery Rock grad with a math degree, who can “make that robot dance.”\n",
      "It’s hard to imagine the U.S. manufacturing economy being restored to its postwar vitality by replicating Penna Flame on a mass scale. Renegotiated international trade deals are called for, along with tax reform that gives U.S. companies motivation to stay put — and pressure on corporations to forgo outsourcing for short-term gain. Yet the endurance of a small and smart firm like Penna Flame points to a model for our region: adapting industrial heritage for a narrow, yet high-value, market.\n",
      "Meet the Editorial Board.\n",
      "URL: http://www.post-gazette.com/opinion/editorials/2016/10/22/Chilling-council-speech-A-silly-proposal-to-fine-members-for-loose-lips/stories/201610310044\n",
      "\n",
      "Pittsburgh City Council members should have better things to do than talk about penalizing each other for being too open.\n",
      "But no, council is toying with the idea of fining members who disseminate information shared in the executive sessions held to discuss labor negotiations, legal cases and other matters permitted under the state’s ever-eroding right-to-know law. To impose fines  — a ceiling of  $500 has been suggested — council would have to vote to modify its rules.\n",
      "The idea is to safeguard attorney-client privilege, but this seems to be a classic example of a solution in search of a problem. If a rash of indiscretions prompted this silly idea, council hasn’t said so. Council President Bruce Kraus publicly has accused only one colleague, Darlene Harris, of sharing documents from an executive session. Mrs. Harris denied doing anything wrong and accused Mr. Kraus of convening closed-door meetings not classified as executive sessions.\n",
      "There are serious First Amendment objections to the muzzling of any citizen, let alone elected officials, and the proposal to punish council members for speaking or sharing out of turn may not even be legal. There are also practical considerations. Who would investigate allegations of leaking? How would the accused mount a defense? How much time and energy would be spent trying to separate truth from rumor and to what extent would such a sideshow distract council from more important duties?\n",
      "In 2011, council members, frustrated with marathon meetings, floated an idea to limit the amount of time each of them could speak at certain sessions. The idea died for the same reason that the current proposal should. Council members must be independent actors, free to do their jobs as they see fit and answerable only to their constituents.\n",
      "Besides, it’s foolhardy to believe that fining council members would arrest the leaks from city hall. In a place where personalities and factions are arrayed against each other, the strategic dropping of information is good tradecraft. A former councilman once said the only way to keep a secret among three people at city hall is to kill two of them.\n",
      "Meet the Editorial Board.\n",
      "URL: http://www.post-gazette.com/opinion/editorials/2016/10/22/Playing-it-safe-Seeking-safer-equipment-for-kids-playing-sports/stories/201610310040\n",
      "\n",
      "Two recent reports are sure to give parents pause when it comes to their children’s participation in sports.\n",
      "In August, an Oxford University-led team, composed of researchers from the United Kingdom, the United States and Sweden, released a study of 1 million Swedes born between 1973 and 1985. The finding linked a brain injury — even a mild concussion — before the age of 25 to a 72 percent greater chance of death before the age of 36. Moreover, there were significantly higher rates of mental illness, educational difficulties and disability payments received for those who suffered a brain injury early in life.\n",
      "In addition, a Blue Cross Blue Shield study found brain injuries are on the rise in youths playing sports in the United States. Since 2010, the number of sports-related concussions in athletes between the ages of 10 and 19 has risen by 71 percent, with football and soccer players being injured most often.\n",
      "A two-pronged caveat to the Blue Cross study is that athletic participation among U.S. youth is at its highest level and head injuries today are much more likely to be reported than five to 10 years ago.\n",
      "However, both studies are evidence of the significant danger of head injuries among young athletes. This makes the call for equipment makers to keep innovating and producing safer equipment even more urgent.\n",
      "In addition, the studies highlight the importance of post-injury care. Doctors say that a key to preventing lifelong disability after suffering head trauma is to be consistent with long-term followup. The earlier damage is diagnosed, the easier it is for a doctor to treat.\n",
      "Kids will not stop playing sports. And they should not. Sports are important for teaching how to work in a team environment and instilling discipline and commitment.\n",
      "The imperative now is safe equipment. We need still more innovation that will protect our kids.\n",
      "Meet the Editorial Board.\n",
      "URL: http://blogs.post-gazette.com/opinion/rob-rogers-cartoons/47676-transfer-of-power\n",
      "\n",
      "URL: http://blogs.post-gazette.com/opinion/rob-rogers-cartoons/47659-supreme-election\n",
      "\n",
      "URL: http://blogs.post-gazette.com/opinion/rob-rogers-cartoons/47642-rigged-election\n",
      "\n",
      "URL: http://blogs.post-gazette.com/opinion/rob-rogers-cartoons/47628-brewed-on-grant-ppg-arena\n",
      "\n",
      "URL: http://blogs.post-gazette.com/opinion/rob-rogers-cartoons/47612-nobel-dylan\n",
      "\n",
      "URL: http://blogs.post-gazette.com/index.php/opinion/rob-rogers-cartoons\n",
      "\n"
     ]
    }
   ],
   "source": [
    "import urllib.request\n",
    "from bs4 import BeautifulSoup as bs\n",
    "# ------------------------------------------------------------\n",
    "# Part I - Create a list of URLs for the current top stories in \n",
    "# the Opinions Section\n",
    "# ------------------------------------------------------------\n",
    "url = \"http://www.post-gazette.com/opinion\"    # URL\n",
    "fhand = urllib.request.urlopen(url)            # open the URL\n",
    "html = fhand.read()                            # read the page\n",
    "soup = bs(html, \"lxml\")                        # create a beautifulsoup object\n",
    "\n",
    "topStories = soup.find_all(\"div\", { \"class\" : \"topstories\" })  # find all the <div> tags, where class = top stories.\n",
    "\n",
    "# Find all of the anchor ('a') tags in the <div>, and put it in the 'links' list.\n",
    "links = list()                           # Initialize 'links' with an empty list.\n",
    "tags = topStories[0].findAll('a')        # Find all the 'a' tags within the top stories <div>\n",
    "for tag in tags:                         # For each 'a' tag in a list of 'a' tags\n",
    "    c = str(tag.get('class', None))      # Get the value of the class attribute. Return None if there's no class attr.\n",
    "                                         # We know that if it is not None, the 'a' tag is not a story.\n",
    "    if c == \"None\":                      # if None (i.e., one of the top story linnks)\n",
    "        url = tag.get('href', None)      # get the URL attribute in the 'a' tag.\n",
    "        if url != None and url.startswith(\"http://\"):   # if url is not None, and starts with \"http://\"\n",
    "            links.append(url)\n",
    "fhand.close()\n",
    "\n",
    "# ------------------------------------------------------------\n",
    "# Part II - Visit each top story page, retrieve the content, and \n",
    "# save itls title and the paragraphs (story) as a text file.\n",
    "# ------------------------------------------------------------\n",
    "for url in links:                            # for each URL in the list of URLs (top stories),\n",
    "    print(\"URL: {}\\n\".format(url))           # print the URL (just checking to make sure it looks right)\n",
    "    fhand = urllib.request.urlopen(url)      # open the URL\n",
    "    html = fhand.read()                      # read the page\n",
    "    soup = bs(html, \"lxml\")                  # create a beautiful soup object\n",
    "    story = soup.find(id=\"story\")            # find an element (tag) with id=\"story\"\n",
    "    \n",
    "    if story != None:                        # if 'story' is not None\n",
    "        header = story.findNext(\"h1\")        # find the <h1> tag.\n",
    "        body   = story.findNext(\"div\", { \"class\" : \"thisStory\" })            # find <div> with class=\"thisStory\"\n",
    "\n",
    "        if header != None and body != None:  # if header and body are both valid (!= None)\n",
    "            fout = open(filename, \"w\")                  # open a new file to write\n",
    "            filename = \"text/{}.txt\".format(header.text.replace(\" \", \"-\"))   # construct a filename\n",
    "            fout.write(\"{}\\n\\n\".format(header.text))    # write the article's title\n",
    "\n",
    "            paragraphs = body.findAll('p')              # find all the <p> tags (i.e., paragraphs)\n",
    "            for p in paragraphs:                        # print each paragraph to the file.\n",
    "                fout.write(\"{}\\n\\n\".format(p.text))\n",
    "            fout.close()\n",
    "    fhand.close()\n",
    "    "
   ]
  }
 ],
 "metadata": {
  "kernelspec": {
   "display_name": "Python 3",
   "language": "python",
   "name": "python3"
  },
  "language_info": {
   "codemirror_mode": {
    "name": "ipython",
    "version": 3
   },
   "file_extension": ".py",
   "mimetype": "text/x-python",
   "name": "python",
   "nbconvert_exporter": "python",
   "pygments_lexer": "ipython3",
   "version": "3.5.1"
  }
 },
 "nbformat": 4,
 "nbformat_minor": 0
}
