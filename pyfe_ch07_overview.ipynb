{
 "cells": [
  {
   "cell_type": "markdown",
   "metadata": {
    "deletable": true,
    "editable": true
   },
   "source": [
    "Python for Everybody\n",
    "## Chapter 07:  Files"
   ]
  },
  {
   "cell_type": "code",
   "execution_count": 6,
   "metadata": {
    "collapsed": false,
    "deletable": true,
    "editable": true
   },
   "outputs": [],
   "source": [
    "# 7.1 Persistence\n",
    "\n",
    "# Read the textbook to learn about Secondary Memory\n"
   ]
  },
  {
   "cell_type": "code",
   "execution_count": 8,
   "metadata": {
    "collapsed": false,
    "deletable": true,
    "editable": true
   },
   "outputs": [
    {
     "name": "stdout",
     "output_type": "stream",
     "text": [
      "<_io.TextIOWrapper name='text/1984.txt' mode='r' encoding='UTF-8'>\n"
     ]
    }
   ],
   "source": [
    "# 7.2 Opening files\n",
    "\n",
    "# Use 'open' to find a file and make sure it exists\n",
    "# This returns the 'file handle'\n",
    "\n",
    "fhandle = open('text/1984.txt')    # There is a folder called \"text\" in the sample_code folder\n",
    "print(fhandle)                     # print 'fhandle' (file handle)\n"
   ]
  },
  {
   "cell_type": "code",
   "execution_count": 11,
   "metadata": {
    "collapsed": false,
    "deletable": true,
    "editable": true
   },
   "outputs": [
    {
     "ename": "FileNotFoundError",
     "evalue": "[Errno 2] No such file or directory: '1984.txt'",
     "output_type": "error",
     "traceback": [
      "\u001b[0;31m---------------------------------------------------------------------------\u001b[0m",
      "\u001b[0;31mFileNotFoundError\u001b[0m                         Traceback (most recent call last)",
      "\u001b[0;32m<ipython-input-11-075098c294d0>\u001b[0m in \u001b[0;36m<module>\u001b[0;34m()\u001b[0m\n\u001b[1;32m      1\u001b[0m \u001b[0;31m# 7.2 Opening Files (cont.)\u001b[0m\u001b[0;34m\u001b[0m\u001b[0;34m\u001b[0m\u001b[0m\n\u001b[1;32m      2\u001b[0m \u001b[0;34m\u001b[0m\u001b[0m\n\u001b[0;32m----> 3\u001b[0;31m \u001b[0mfhandle\u001b[0m \u001b[0;34m=\u001b[0m \u001b[0mopen\u001b[0m\u001b[0;34m(\u001b[0m\u001b[0;34m'1984.txt'\u001b[0m\u001b[0;34m)\u001b[0m\u001b[0;34m\u001b[0m\u001b[0m\n\u001b[0m",
      "\u001b[0;31mFileNotFoundError\u001b[0m: [Errno 2] No such file or directory: '1984.txt'"
     ]
    }
   ],
   "source": [
    "# 7.2 Opening files (cont.)\n",
    "\n",
    "fhandle = open('1984.txt')          # If the file does not exist, you'll get an error\n"
   ]
  },
  {
   "cell_type": "code",
   "execution_count": 26,
   "metadata": {
    "collapsed": false,
    "deletable": true,
    "editable": true
   },
   "outputs": [
    {
     "name": "stdout",
     "output_type": "stream",
     "text": [
      "Carnegie Mellon University\n",
      "--\n",
      "Carnegie\n",
      "Mellon\n",
      "University\n"
     ]
    }
   ],
   "source": [
    "# 7.3 Text files and lines\n",
    "\n",
    "# A text file is a sequence of lines\n",
    "\n",
    "s1 = \"Carnegie Mellon University\"\n",
    "s2 = \"Carnegie\\nMellon\\nUniversity\"     # the newline character '\\n' signals the end of the line,\n",
    "                                        # and returns to the next line\n",
    "print(s1)\n",
    "print(\"---\")\n",
    "print(s2)"
   ]
  },
  {
   "cell_type": "markdown",
   "metadata": {
    "deletable": true,
    "editable": true
   },
   "source": [
    "#### There are different ways newlines are represented. See https://en.wikipedia.org/wiki/Newline for more information if you are interested. But, we'll deal with this case by case for your projects.\n",
    "***"
   ]
  },
  {
   "cell_type": "code",
   "execution_count": 33,
   "metadata": {
    "collapsed": false,
    "deletable": true,
    "editable": true
   },
   "outputs": [
    {
     "name": "stdout",
     "output_type": "stream",
     "text": [
      "It was a bright cold day in April, and the clocks were striking thirteen.\n",
      "---\n",
      "Call me Ishmael. Some years ago—never mind how long precisely—having little or no money in my purse, and nothing particular to interest me on shore, I thought I would sail about a little and see the watery part of the world. It is a way I have of driving off the spleen and regulating the circulation. Whenever I find myself growing grim about the mouth; whenever it is a damp, drizzly November in my soul; whenever I find myself involuntarily pausing before coffin warehouses, and bringing up the rear of every funeral I meet; and especially whenever my hypos get such an upper hand of me, that it requires a strong moral principle to prevent me from deliberately stepping into the street, and methodically knocking people's hats off—then, I account it high time to get to sea as soon as I can. This is my substitute for pistol and ball. With a philosophical flourish Cato throws himself upon his sword; I quietly take to the ship. There is nothing surprising in this. If they but knew it, almost all men in their degree, some time or other, cherish very nearly the same feelings towards the ocean with me.\n",
      "---\n",
      "A Dream Within A Dream\n",
      "\n",
      "\n",
      "\n",
      "by Edgar Allan Poe\n",
      "\n",
      "\n",
      "\n",
      "Take this kiss upon the brow!\n",
      "\n",
      "And, in parting from you now,\n",
      "\n",
      "Thus much let me avow—\n",
      "\n",
      "You are not wrong, who deem\n",
      "\n",
      "That my days have been a dream;\n",
      "\n",
      "Yet if hope has flown away\n",
      "\n",
      "In a night, or in a day,\n",
      "\n",
      "In a vision, or in none,\n",
      "\n",
      "Is it therefore the less gone?\n",
      "\n",
      "All that we see or seem\n",
      "\n",
      "Is but a dream within a dream.\n",
      "\n",
      "\n",
      "\n",
      "I stand amid the roar\n",
      "\n",
      "Of a surf-tormented shore,\n",
      "\n",
      "And I hold within my hand\n",
      "\n",
      "Grains of the golden sand—\n",
      "\n",
      "How few! yet how they creep\n",
      "\n",
      "Through my fingers to the deep,\n",
      "\n",
      "While I weep—while I weep!\n",
      "\n",
      "O God! can I not grasp\n",
      "\n",
      "Them with a tighter clasp?\n",
      "\n",
      "O God! can I not save\n",
      "\n",
      "One from the pitiless wave?\n",
      "\n",
      "Is all that we see or seem\n",
      "\n",
      "But a dream within a dream?\n",
      "\n",
      "** 29 lines\n"
     ]
    }
   ],
   "source": [
    "# 7.4 Reading files\n",
    "\n",
    "fhandle = open('text/1984.txt')\n",
    "print(fhandle.read())                      # <file-handle>.read() reads the entire text\n",
    "\n",
    "print(\"---\")\n",
    "fhandle = open('text/moby_dick.txt')\n",
    "for l in fhandle:                          # prints all the lines of the text\n",
    "    print(l)\n",
    "    \n",
    "print(\"---\") \n",
    "count = 0\n",
    "fhandle = open('text/a_dream_within_a_dream.txt')\n",
    "for l in fhandle:\n",
    "    print(l)                               # try print(l.strip())\n",
    "    count += 1                             # counts the number of lines in the text\n",
    "print(\"** {} lines\".format(count))\n",
    "  "
   ]
  },
  {
   "cell_type": "code",
   "execution_count": 40,
   "metadata": {
    "collapsed": false,
    "deletable": true,
    "editable": true
   },
   "outputs": [
    {
     "name": "stdout",
     "output_type": "stream",
     "text": [
      "From: stephen.marquard@uct.ac.za\n",
      "From: louis@media.berkeley.edu\n",
      "From: zqian@umich.edu\n",
      "From: rjlowe@iupui.edu\n",
      "From: zqian@umich.edu\n",
      "From: rjlowe@iupui.edu\n",
      "From: cwen@iupui.edu\n",
      "From: cwen@iupui.edu\n",
      "From: gsilver@umich.edu\n",
      "From: gsilver@umich.edu\n",
      "From: zqian@umich.edu\n",
      "From: gsilver@umich.edu\n",
      "From: wagnermr@iupui.edu\n",
      "From: zqian@umich.edu\n",
      "From: antranig@caret.cam.ac.uk\n",
      "From: gopal.ramasammycook@gmail.com\n",
      "From: david.horwitz@uct.ac.za\n",
      "From: david.horwitz@uct.ac.za\n",
      "From: david.horwitz@uct.ac.za\n",
      "From: david.horwitz@uct.ac.za\n",
      "From: stephen.marquard@uct.ac.za\n",
      "From: louis@media.berkeley.edu\n",
      "From: louis@media.berkeley.edu\n",
      "From: ray@media.berkeley.edu\n",
      "From: cwen@iupui.edu\n",
      "From: cwen@iupui.edu\n",
      "From: cwen@iupui.edu\n",
      "----\n",
      "There are 27 messages.\n"
     ]
    }
   ],
   "source": [
    "# 7.5 Searching through a file\n",
    "\n",
    "# You can print all the lines that are relevant to you and ignore the rest\n",
    "\n",
    "# Print all the 'From\" lines.\n",
    "\n",
    "fhandle = open('text/mbox-short.txt')\n",
    "count = 0                             # initialize 'count'\n",
    "for l in fhandle:                     # for each line in the file\n",
    "    if l.startswith('From:'):         # if the line starts with \"From:\"\n",
    "        l = l.strip()                 # remove the new line character\n",
    "        print(l)\n",
    "        count += 1\n",
    "print(\"----\\nThere are {} messages.\".format(count))"
   ]
  },
  {
   "cell_type": "code",
   "execution_count": 42,
   "metadata": {
    "collapsed": false,
    "deletable": true,
    "editable": true
   },
   "outputs": [
    {
     "name": "stdout",
     "output_type": "stream",
     "text": [
      " stephen.marquard\n",
      " louis\n",
      " zqian\n",
      " rjlowe\n",
      " zqian\n",
      " rjlowe\n",
      " cwen\n",
      " cwen\n",
      " gsilver\n",
      " gsilver\n",
      " zqian\n",
      " gsilver\n",
      " wagnermr\n",
      " zqian\n",
      " antranig\n",
      " gopal.ramasammycook\n",
      " david.horwitz\n",
      " david.horwitz\n",
      " david.horwitz\n",
      " david.horwitz\n",
      " stephen.marquard\n",
      " louis\n",
      " louis\n",
      " ray\n",
      " cwen\n",
      " cwen\n",
      " cwen\n"
     ]
    }
   ],
   "source": [
    "# 7.5 Searching through a file (cont.)\n",
    "\n",
    "# Print all the user names in mbox-short.txt.\n",
    "\n",
    "fhandle = open('text/mbox-short.txt')\n",
    "count = 0                           # initialize 'count'\n",
    "for l in fhandle:                   # for each line in the file\n",
    "    if l.startswith('From:'):       # if the line starts with \"From:\"\n",
    "        l = l.strip()               # remove the new line character\n",
    "        atpos = l.find(\"@\")         # find the  position of \"@\"\n",
    "        print(l[5:atpos])           # print the substring betweeen indexes 5 and 'atpos' (i.e., usernames)\n",
    "        \n"
   ]
  },
  {
   "cell_type": "code",
   "execution_count": 53,
   "metadata": {
    "collapsed": false,
    "deletable": true,
    "editable": true
   },
   "outputs": [
    {
     "name": "stdout",
     "output_type": "stream",
     "text": [
      "Enter the file name: mbox.txt\n",
      "There are 1797 subject lines in mbox.txt\n"
     ]
    }
   ],
   "source": [
    "# 7.6 Letting the user choose the file name\n",
    "\n",
    "fname = input('Enter the file name: ')    # you can have your user input the file to open\n",
    "fpath = \"text/\" + fname                   # path to the file (i.e., including the folder name)\n",
    "fhand = open(fpath)                       # open the file\n",
    "\n",
    "count = 0\n",
    "for line in fhand:\n",
    "    if line.startswith('Subject:'):\n",
    "        count += 1\n",
    "\n",
    "print(\"There are {} subject lines in {}\".format(count, fname))"
   ]
  },
  {
   "cell_type": "code",
   "execution_count": 1,
   "metadata": {
    "collapsed": false,
    "deletable": true,
    "editable": true
   },
   "outputs": [
    {
     "name": "stdout",
     "output_type": "stream",
     "text": [
      "Enter the file name: e\n",
      "File not found: text/e\n"
     ]
    },
    {
     "ename": "NameError",
     "evalue": "name 'fhand' is not defined",
     "output_type": "error",
     "traceback": [
      "\u001b[0;31m---------------------------------------------------------------------------\u001b[0m",
      "\u001b[0;31mNameError\u001b[0m                                 Traceback (most recent call last)",
      "\u001b[0;32m<ipython-input-1-d4ccb5e05982>\u001b[0m in \u001b[0;36m<module>\u001b[0;34m()\u001b[0m\n\u001b[1;32m     13\u001b[0m \u001b[0;34m\u001b[0m\u001b[0m\n\u001b[1;32m     14\u001b[0m \u001b[0mcount\u001b[0m \u001b[0;34m=\u001b[0m \u001b[0;36m0\u001b[0m\u001b[0;34m\u001b[0m\u001b[0m\n\u001b[0;32m---> 15\u001b[0;31m \u001b[0;32mfor\u001b[0m \u001b[0mline\u001b[0m \u001b[0;32min\u001b[0m \u001b[0mfhand\u001b[0m\u001b[0;34m:\u001b[0m\u001b[0;34m\u001b[0m\u001b[0m\n\u001b[0m\u001b[1;32m     16\u001b[0m     \u001b[0;32mif\u001b[0m \u001b[0mline\u001b[0m\u001b[0;34m.\u001b[0m\u001b[0mstartswith\u001b[0m\u001b[0;34m(\u001b[0m\u001b[0;34m'Subject:'\u001b[0m\u001b[0;34m)\u001b[0m\u001b[0;34m:\u001b[0m\u001b[0;34m\u001b[0m\u001b[0m\n\u001b[1;32m     17\u001b[0m         \u001b[0mcount\u001b[0m \u001b[0;34m+=\u001b[0m \u001b[0;36m1\u001b[0m\u001b[0;34m\u001b[0m\u001b[0m\n",
      "\u001b[0;31mNameError\u001b[0m: name 'fhand' is not defined"
     ]
    }
   ],
   "source": [
    "# 7.7 Using 'try', 'except', and 'open'\n",
    "\n",
    "# We can use 'try', 'except', and 'open' to avoid breaking our code if the user enters a file name that does not exist\n",
    "\n",
    "# Here is a code that looks like the one included in the textbook (p.86)\n",
    "# This code does NOT work.\n",
    "\n",
    "fname = input('Enter the file name: ')    # user input\n",
    "fpath = \"text/\" + fname                   # path to the file (i.e., including the folder name)\n",
    "try:\n",
    "    fhand = open(fpath)                   # open the file\n",
    "except:\n",
    "    print(\"File not found: {}\".format(fpath))\n",
    "    # exit()                                # THIS DOES NOT WORK in Jupyter. It will restart the kernel.\n",
    "    \n",
    "count = 0\n",
    "for line in fhand:\n",
    "    if line.startswith('Subject:'):\n",
    "        count += 1\n",
    "print(\"There are {} subject lines in {}\".format(count, fname))\n"
   ]
  },
  {
   "cell_type": "code",
   "execution_count": 56,
   "metadata": {
    "collapsed": false,
    "deletable": true,
    "editable": true
   },
   "outputs": [
    {
     "name": "stdout",
     "output_type": "stream",
     "text": [
      "Enter the file name: mbox.txt\n",
      "There are 1797 subject lines in mbox.txt\n"
     ]
    }
   ],
   "source": [
    "# 7.7 Using 'try', 'except', and 'open' (cont.)\n",
    "\n",
    "# This code WILL work in Jupyter\n",
    "\n",
    "fname = input('Enter the file name: ')    # collect user input\n",
    "fpath = \"text/\" + fname                   # path to the file (i.e., including the folder name)\n",
    "try:\n",
    "    fhand = open(fpath)                   # open the file\n",
    "    count = 0\n",
    "    for line in fhand:\n",
    "        if line.startswith('Subject:'):\n",
    "            count += 1\n",
    "    print(\"There are {} subject lines in {}\".format(count, fname))\n",
    "except:\n",
    "    print(\"File not found: {}\".format(fpath))\n",
    "    "
   ]
  },
  {
   "cell_type": "code",
   "execution_count": 2,
   "metadata": {
    "collapsed": false,
    "deletable": true,
    "editable": true
   },
   "outputs": [
    {
     "name": "stdout",
     "output_type": "stream",
     "text": [
      "Sometimes life hits you in the head with a brick. Don't lose faith.\n"
     ]
    }
   ],
   "source": [
    "# 7.8 Writing files\n",
    "\n",
    "# To write a file, open it with 'w' as your second parameter\n",
    "\n",
    "s1 = \"Sometimes life hits you in the head with a brick. Don't lose faith.\"\n",
    "fout = open('output.txt', 'w')     # Create a writable new file called 'output.txt'\n",
    "fout.write(s1)                     # Write the string 's' to the file. 'fout' is already associated with 'output.txt'\n",
    "fout.close()                       # Close the file. It is VERY important to close the file!\n",
    "\n",
    "fhand = open(\"output.txt\")         # Open the file you just created\n",
    "s2 = fhand.read()                  # Read the file\n",
    "print(s2)                          # Print the content of the file\n",
    "fhand.close()                      # Close the file. It is important to close the file!"
   ]
  },
  {
   "cell_type": "code",
   "execution_count": null,
   "metadata": {
    "collapsed": true,
    "deletable": true,
    "editable": true
   },
   "outputs": [],
   "source": []
  }
 ],
 "metadata": {
  "kernelspec": {
   "display_name": "Python 3",
   "language": "python",
   "name": "python3"
  },
  "language_info": {
   "codemirror_mode": {
    "name": "ipython",
    "version": 3
   },
   "file_extension": ".py",
   "mimetype": "text/x-python",
   "name": "python",
   "nbconvert_exporter": "python",
   "pygments_lexer": "ipython3",
   "version": "3.6.0"
  }
 },
 "nbformat": 4,
 "nbformat_minor": 0
}
