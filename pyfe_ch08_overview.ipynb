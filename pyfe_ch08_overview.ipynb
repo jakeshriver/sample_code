{
 "cells": [
  {
   "cell_type": "markdown",
   "metadata": {
    "deletable": true,
    "editable": true
   },
   "source": [
    "Python for Everybody\n",
    "## Chapter 08:  Lists"
   ]
  },
  {
   "cell_type": "code",
   "execution_count": 4,
   "metadata": {
    "collapsed": false,
    "deletable": true,
    "editable": true
   },
   "outputs": [
    {
     "name": "stdout",
     "output_type": "stream",
     "text": [
      "[1, 2, 3, 4, 5]\n",
      "['cat', 'dog', 'panda']\n",
      "['cat', 2, 'deer', 32]\n",
      "[['John', 'Smith', ['A', 'B', 'A+', 'F', 'C']], ['Jane', 'House', ['A', 'A', 'A+', 'A-', 'B+']]]\n"
     ]
    }
   ],
   "source": [
    "# 8.01 A list is a sequence\n",
    "\n",
    "# Similar to how a string is a sequence of characters,\n",
    "# a list is a sequence of values of any type.\n",
    "# Values in a list are called elements.\n",
    "\n",
    "numbers = [1,2,3,4,5]               # list of numbers\n",
    "print(numbers)\n",
    "\n",
    "strings = [\"cat\", \"dog\", \"panda\"]   # list of strings\n",
    "print(strings)\n",
    "\n",
    "mixed = [\"cat\", 2, \"deer\", 32]      # elements don't all have to be the same type\n",
    "print(mixed)\n",
    "\n",
    "nested = [[\"John\", \"Smith\", [\"A\", \"B\", \"A+\", \"F\", \"C\"]],             # lists can be nested\n",
    "          [\"Jane\", \"House\", [\"A\", \"A\", \"A+\", \"A-\", \"B+\"]]]           # a nested list counts as one element\n",
    "print(nested)\n"
   ]
  },
  {
   "cell_type": "code",
   "execution_count": 2,
   "metadata": {
    "collapsed": false,
    "deletable": true,
    "editable": true
   },
   "outputs": [
    {
     "name": "stdout",
     "output_type": "stream",
     "text": [
      "original string: ['cat', 'dog', 'panda']\n",
      "False\n",
      "---\n",
      "new string: ['fish', 'dog', 'panda']\n",
      "True\n"
     ]
    }
   ],
   "source": [
    "# 8.02 Lists are mutable\n",
    "\n",
    "# Unlike strings, you can change the order of items in a list, and you can reassign an item in a list\n",
    "\n",
    "strings = [\"cat\", \"dog\", \"panda\"]\n",
    "print(\"original string: {}\".format(strings))\n",
    "print(\"fish\" in strings)                         # the 'in' operator works on lists\n",
    "\n",
    "print(\"---\")\n",
    "strings[0] = \"fish\"\n",
    "print(\"new string: {}\".format(strings))\n",
    "print(\"fish\" in strings)\n"
   ]
  },
  {
   "cell_type": "code",
   "execution_count": null,
   "metadata": {
    "collapsed": false,
    "deletable": true,
    "editable": true
   },
   "outputs": [],
   "source": [
    "# 8.02 Lists are mutable (cont.)\n",
    "\n",
    "strings = [\"cat\", \"dog\", \"panda\"]\n",
    "strings[3]  # You are not able to read or write an element that does not exist.\n",
    "            # There is no item at index = 3. Remember, the first index is 0. \n",
    "            # Make sure to check the length of a list before you try to access its item.\n",
    "        "
   ]
  },
  {
   "cell_type": "code",
   "execution_count": 3,
   "metadata": {
    "collapsed": false,
    "deletable": true,
    "editable": true
   },
   "outputs": [
    {
     "name": "stdout",
     "output_type": "stream",
     "text": [
      "cat\n",
      "dog\n",
      "panda\n",
      "---\n",
      "cat\n",
      "dog\n",
      "panda\n"
     ]
    }
   ],
   "source": [
    "# 8.03 Traversing a list\n",
    "\n",
    "# You can use 'for' loops to traverse the elements of a list the same way you did for strings.\n",
    "\n",
    "pets = [\"cat\", \"dog\", \"panda\"]\n",
    "for pet in pets:                         # iterates through the elements of 'pets' and prints each one\n",
    "    print(pet)\n",
    "\n",
    "print(\"---\")\n",
    "for i in range(len(pets)):               # 'len' returns the length of the list\n",
    "    print(pets[i])                       # 'range' returns a list of indices from 0 to len -1\n",
    "                                         # this allows you to iterate through the indices of list\n",
    "        "
   ]
  },
  {
   "cell_type": "code",
   "execution_count": 7,
   "metadata": {
    "collapsed": false,
    "deletable": true,
    "editable": true
   },
   "outputs": [
    {
     "name": "stdout",
     "output_type": "stream",
     "text": [
      "['one', 'two', 'three', 'four', 'five', 'six']\n",
      "---\n",
      "[1, 2, 3, 1, 2, 3, 1, 2, 3]\n",
      "---\n",
      "[['John', 'Smith', ['A', 'B', 'A+', 'F', 'C']], ['Jane', 'House', ['A', 'A', 'A+', 'A-', 'B+']], ['Debbie', 'Smith', ['C', 'B', 'A+', 'B', 'C']], ['Richard', 'House', ['A', 'A', 'A+', 'A-', 'B+']]]\n",
      "---\n",
      "[   ['John', 'Smith', ['A', 'B', 'A+', 'F', 'C']],\n",
      "    ['Jane', 'House', ['A', 'A', 'A+', 'A-', 'B+']],\n",
      "    ['Debbie', 'Smith', ['C', 'B', 'A+', 'B', 'C']],\n",
      "    ['Richard', 'House', ['A', 'A', 'A+', 'A-', 'B+']]]\n"
     ]
    }
   ],
   "source": [
    "# 8.04 List operations\n",
    "\n",
    "import pprint                                  # pretty printing for debugging\n",
    "pp = pprint.PrettyPrinter(indent=4)            # create a pretty printing object used for debugging.\n",
    "\n",
    "# The + operator concatenates lists.\n",
    "a = [\"one\", \"two\", \"three\"]\n",
    "b = [\"four\", \"five\", \"six\"]\n",
    "c = a + b\n",
    "print(c)\n",
    "\n",
    "print(\"---\")\n",
    "\n",
    "# The * operator repeats a list a given number of times.\n",
    "x = [1, 2, 3]\n",
    "y = x * 3\n",
    "print(y)\n",
    "\n",
    "print(\"---\")\n",
    "\n",
    "group1 = [[\"John\", \"Smith\", [\"A\", \"B\", \"A+\", \"F\", \"C\"]],\n",
    "          [\"Jane\", \"House\", [\"A\", \"A\", \"A+\", \"A-\", \"B+\"]]]\n",
    "group2 = [[\"Debbie\", \"Smith\", [\"C\", \"B\", \"A+\", \"B\", \"C\"]],\n",
    "          [\"Richard\", \"House\", [\"A\", \"A\", \"A+\", \"A-\", \"B+\"]]]\n",
    "\n",
    "all_groups = group1 + group2\n",
    "print(all_groups)             # regular print\n",
    "\n",
    "print(\"---\")\n",
    "\n",
    "pp.pprint(all_groups)         # pretty printing\n"
   ]
  },
  {
   "cell_type": "code",
   "execution_count": 9,
   "metadata": {
    "collapsed": false,
    "deletable": true,
    "editable": true
   },
   "outputs": [
    {
     "name": "stdout",
     "output_type": "stream",
     "text": [
      "[0, 1, 2, 3, 4, 5, 6]\n",
      "[7, 8, 9]\n",
      "[3, 4, 5, 6]\n",
      "[0, 1, 2, 30, 40, 50, 60, 7, 8, 9]\n",
      "[0, 1, 2, [30, 40, 50, 60], 4, 5, 6, 7, 8, 9]\n"
     ]
    }
   ],
   "source": [
    "# 8.05 List slices\n",
    "\n",
    "# list[<first_index>:<last_index>] ---  the first_index is inclusive, but the last_index is NOT.\n",
    "\n",
    "n = [0,1,2,3,4,5,6,7,8,9]\n",
    "print(n[:7])                # sublist 0 - 6 (not 7)\n",
    "                            # if you omit the first index, the slice starts at the beginning\n",
    "    \n",
    "print(n[7:])                # sublist 7 - last element\n",
    "                            # if you omit the second index, the slice goes until the end\n",
    "    \n",
    "print(n[3:7])               # sublist 3 - 6 (not 7)\n",
    "\n",
    "n[3:7] = [30, 40, 50, 60]   # lists are mutable, so you can edit specific indices\n",
    "print(n)\n",
    "\n",
    "n = [0,1,2,3,4,5,6,7,8,9]\n",
    "n[3] = [30, 40, 50, 60]\n",
    "print(n)\n"
   ]
  },
  {
   "cell_type": "code",
   "execution_count": 11,
   "metadata": {
    "collapsed": false,
    "deletable": true,
    "editable": true
   },
   "outputs": [
    {
     "name": "stdout",
     "output_type": "stream",
     "text": [
      "original zoo: ['dog', 'panda', 'cat', 'snake']\n",
      "sorted zoo: ['cat', 'dog', 'panda', 'snake']\n",
      "sorted zoo: ['cat', 'dog', 'panda', 'snake']\n",
      "['cat', 'dog', 'panda', 'snake', 'lizerd', 'frog']\n"
     ]
    }
   ],
   "source": [
    "# 8.06 List methods\n",
    "\n",
    "# Warning: list methods usually modify the list. \n",
    "# Make a copy of the list if you want to keep the original. (i.e., new_zoo = list(zoo))\n",
    "# Or use the built-in 'sorted' function (i.e., new_zoo = sorted(zoo))\n",
    "\n",
    "zoo = [\"dog\", \"panda\", \"cat\"]\n",
    "zoo.append(\"snake\")                              # 'append' adds a new elements to the end of a list\n",
    "print(\"original zoo: {}\".format(zoo))\n",
    "\n",
    "zoo.sort()                                       # 'sort' arrnges the elements of the list from low to high\n",
    "print(\"sorted zoo: {}\".format(zoo))              # list.sort() modifies the original list\n",
    "print(\"sorted zoo: {}\".format(sorted(zoo)))      # 'sorted()' does not modify the list\n",
    "\n",
    "zoo1 = [\"cat\", \"dog\", \"panda\"]\n",
    "zoo2 = [\"snake\", \"lizerd\", \"frog\"]\n",
    "\n",
    "zoo1.extend(zoo2)                                # 'extend' modifies the list (zoo1) by appending elements\n",
    "print(zoo1)\n"
   ]
  },
  {
   "cell_type": "code",
   "execution_count": 18,
   "metadata": {
    "collapsed": false,
    "deletable": true,
    "editable": true
   },
   "outputs": [
    {
     "name": "stdout",
     "output_type": "stream",
     "text": [
      "--- pop the last element\n",
      "snake\n",
      "['cat', 'dog', 'panda']\n",
      "\n",
      "--- pop the first element\n",
      "cat\n",
      "['dog', 'panda', 'snake']\n",
      "\n",
      "--- delete the 2nd element\n",
      "['cat', 'panda', 'snake']\n",
      "\n",
      "--- delete the 1st and the 2nd element\n",
      "['panda', 'snake']\n",
      "\n",
      "--- remove \"panda\"\n",
      "['cat', 'dog', 'snake']\n"
     ]
    }
   ],
   "source": [
    "# 8.07 Deleting elements\n",
    "\n",
    "print(\"--- pop the last element\")            # 'pop' deletes a specific index and returns the element that was deleted\n",
    "zoo = ['cat', 'dog', 'panda', 'snake']\n",
    "print(zoo.pop())                             # pop the last element (default when you don't specify an index)\n",
    "print(zoo)\n",
    "\n",
    "print(\"\\n--- pop the first element\")\n",
    "zoo = ['cat', 'dog', 'panda', 'snake']\n",
    "print(zoo.pop(0))                            # pop the first element (index = 0)\n",
    "print(zoo)\n",
    "\n",
    "print(\"\\n--- delete the 2nd element\")        # 'remove' deletes a specific index but does not return the deleted value\n",
    "zoo = ['cat', 'dog', 'panda', 'snake']\n",
    "del zoo[1]                                   # delete the 2nd element (index = 1)\n",
    "print(zoo)\n",
    "\n",
    "print(\"\\n--- delete the 1st and the 2nd element\")\n",
    "zoo = ['cat', 'dog', 'panda', 'snake']\n",
    "del zoo[0:2]                                 # delete the slice from index 0 to index 1\n",
    "print(zoo)\n",
    "\n",
    "print(\"\\n--- remove \\\"panda\\\"\")              # 'remove' deletes an element\n",
    "zoo = ['cat', 'dog', 'panda', 'snake']       # use 'remove' if you know what element to delete but not the index\n",
    "zoo.remove(\"panda\")                          # remove \"panda\"\n",
    "print(zoo)\n"
   ]
  },
  {
   "cell_type": "code",
   "execution_count": 21,
   "metadata": {
    "collapsed": false,
    "deletable": true,
    "editable": true
   },
   "outputs": [
    {
     "name": "stdout",
     "output_type": "stream",
     "text": [
      "max: 17\n",
      "min: 1\n",
      "sum: 57\n",
      "---\n",
      "Enter a number: 4\n",
      "Enter a number: 90\n",
      "Enter a number: 106\n",
      "Enter a number: 53\n",
      "Enter a number: 65\n",
      "Enter a number: done\n",
      "Average: 63.6\n"
     ]
    }
   ],
   "source": [
    "# 8.08 Lists and functions\n",
    "\n",
    "# Python has some built-in functions that let you look through lists without writing your own loops.\n",
    "\n",
    "n = [3,5,1,11,17,13,7]\n",
    "print(\"max: {}\".format(max(n)))\n",
    "print(\"min: {}\".format(min(n)))\n",
    "print(\"sum: {}\".format(sum(n)))            # 'sum()' only works when list elements are numbers\n",
    "print(\"---\")\n",
    "\n",
    "numlist = []                               # initialize 'numlist' with an empty list\n",
    "                                           # 'numlist = list()' does the same thing\n",
    "while (True):\n",
    "    inp = input('Enter a number: ')        # ask the user to enter a number\n",
    "    if inp == 'done': break                # break if the user enters 'done'\n",
    "    value = float(inp)                     # convert the input to floating number, and assign it to 'value'\n",
    "    numlist.append(value)                  # append the value to the list 'numlist'\n",
    "\n",
    "average = sum(numlist) / len(numlist)\n",
    "print('Average:', average)\n"
   ]
  },
  {
   "cell_type": "code",
   "execution_count": 24,
   "metadata": {
    "collapsed": false,
    "deletable": true,
    "editable": true
   },
   "outputs": [
    {
     "name": "stdout",
     "output_type": "stream",
     "text": [
      "[1, 2, 3, 4, 5]\n",
      "['C', 'a', 'r', 'n', 'e', 'g', 'i', 'e', ' ', 'M', 'e', 'l', 'l', 'o', 'n']\n",
      "['Get', 'your', 'facts', 'first,', 'then', 'you', 'can', 'distort', 'them', 'as', 'you', 'please.']\n",
      "['John', 'Smith', '200 Main St.', 'Pittsburgh', 'PA', '15213']\n",
      "John,Smith,200 Main St.,Pittsburgh,PA,15213\n",
      "John Smith 200 Main St. Pittsburgh PA 15213\n"
     ]
    }
   ],
   "source": [
    "# 8.09 Lists and strings\n",
    "\n",
    "# A list of characters is not the same thing as a string.\n",
    "# You can use 'list()' to convert a string to a list of characters.\n",
    "\n",
    "t = list([1,2,3,4,5])          # list create a list object from a given list (This is not very useful)\n",
    "print(t)\n",
    "\n",
    "t = list(\"Carnegie Mellon\")    # 'list()' creates a list of characters from a string\n",
    "print(t)\n",
    "\n",
    "s = \"Get your facts first, then you can distort them as you please.\"\n",
    "t = s.split()                  # split is a list method.  If there is no argument, it uses\n",
    "print(t)                       # the space ' ' character to split the string.\n",
    "\n",
    "s = \"John, Smith, 200 Main St., Pittsburgh, PA, 15213\"\n",
    "t = s.split(\", \")              # split a string with a given delimiter (in this case \", \" -- a comma and a space)\n",
    "print(t)\n",
    "\n",
    "print(','.join(t))\n",
    "print(' '.join(t))\n"
   ]
  },
  {
   "cell_type": "code",
   "execution_count": 26,
   "metadata": {
    "collapsed": false,
    "deletable": true,
    "editable": true
   },
   "outputs": [
    {
     "name": "stdout",
     "output_type": "stream",
     "text": [
      "stephen.marquard@uct.ac.za\n",
      "louis@media.berkeley.edu\n",
      "zqian@umich.edu\n",
      "rjlowe@iupui.edu\n",
      "zqian@umich.edu\n",
      "rjlowe@iupui.edu\n",
      "cwen@iupui.edu\n",
      "cwen@iupui.edu\n",
      "gsilver@umich.edu\n",
      "gsilver@umich.edu\n",
      "zqian@umich.edu\n",
      "gsilver@umich.edu\n",
      "wagnermr@iupui.edu\n",
      "zqian@umich.edu\n",
      "antranig@caret.cam.ac.uk\n",
      "gopal.ramasammycook@gmail.com\n",
      "david.horwitz@uct.ac.za\n",
      "david.horwitz@uct.ac.za\n",
      "david.horwitz@uct.ac.za\n",
      "david.horwitz@uct.ac.za\n",
      "stephen.marquard@uct.ac.za\n",
      "louis@media.berkeley.edu\n",
      "louis@media.berkeley.edu\n",
      "ray@media.berkeley.edu\n",
      "cwen@iupui.edu\n",
      "cwen@iupui.edu\n",
      "cwen@iupui.edu\n"
     ]
    }
   ],
   "source": [
    "# 8.10 Parsing Lines\n",
    "\n",
    "# If you want to extract an interesting part of a line,\n",
    "# you can parse the line by splitting it and selecting the index of the words that are interesting\n",
    "\n",
    "fhand = open('text/mbox-short.txt')\n",
    "for line in fhand:\n",
    "    line = line.rstrip()\n",
    "    if not line.startswith('From '): \n",
    "        continue\n",
    "    words = line.split()\n",
    "    print(words[1])\n",
    "    "
   ]
  },
  {
   "cell_type": "code",
   "execution_count": 28,
   "metadata": {
    "collapsed": false,
    "deletable": true,
    "editable": true
   },
   "outputs": [
    {
     "name": "stdout",
     "output_type": "stream",
     "text": [
      "True\n",
      "True\n",
      "---\n",
      "True\n",
      "False\n",
      "---\n",
      "True\n",
      "False\n"
     ]
    }
   ],
   "source": [
    "# 8.11 Objects and values\n",
    "\n",
    "a = \"dog\"\n",
    "b = \"dog\"\n",
    "print(a == b)\n",
    "print(a is b)                         # use 'is' to check whether variables are the same object\n",
    "                                      # here, python created one string object, and 'a' and 'b' both refer to it\n",
    "print(\"---\")\n",
    "x = [1,2,3]\n",
    "y = [1,2,3]\n",
    "print(x == y)                         # these lists are equivalent\n",
    "print(x is y)                         # they are not identical, because the lists are two different objects\n",
    "\n",
    "print(\"---\")\n",
    "x = [\"dog\", \"cat\", \"panda\"]\n",
    "y = [\"dog\", \"cat\", \"panda\"]\n",
    "print(x == y)\n",
    "print(x is y)\n"
   ]
  },
  {
   "cell_type": "code",
   "execution_count": 29,
   "metadata": {
    "collapsed": false,
    "deletable": true,
    "editable": true
   },
   "outputs": [
    {
     "name": "stdout",
     "output_type": "stream",
     "text": [
      "True\n",
      "True\n",
      "b = ['snake', 'cat', 'panda']\n",
      "a = ['snake', 'cat', 'panda']\n"
     ]
    }
   ],
   "source": [
    "# 8.12 Aliasing\n",
    "\n",
    "# When an object has more than one reference (more than one name), that object is 'aliased'.\n",
    "\n",
    "a = [\"dog\", \"cat\", \"panda\"]\n",
    "b = a                         # if you assign 'b = a', both variables refer to the same object\n",
    "\n",
    "print(b is a)                 # True, because a and b are pointing to the 'same' list.\n",
    "\n",
    "b[0] = \"snake\"                # This changes the first element of 'b'\n",
    "print(b is a)                 # True. 'a' and 'b' are still pointing to the same list, so 'b' is 'a' == true\n",
    "\n",
    "print(\"b = {}\".format(b))\n",
    "print(\"a = {}\".format(a))\n"
   ]
  },
  {
   "cell_type": "code",
   "execution_count": 31,
   "metadata": {
    "collapsed": false,
    "deletable": true,
    "editable": true
   },
   "outputs": [
    {
     "name": "stdout",
     "output_type": "stream",
     "text": [
      "['cat', 'panda']\n",
      "---\n",
      "['cat', 'panda']\n",
      "['dog', 'cat', 'panda']\n"
     ]
    }
   ],
   "source": [
    "# 8.13 List arguments\n",
    "\n",
    "def delete_head(t):\n",
    "    del t[0]                    # removes the first element from a list\n",
    "    \n",
    "def tail(t):\n",
    "    t = t[1:]  \n",
    "    return t                    # returns a slice of the original list from the second index to the end\n",
    "    \n",
    "a = [\"dog\", \"cat\", \"panda\"]\n",
    "\n",
    "delete_head(a)                  # removes the first element in 'a'\n",
    "print(a)\n",
    "\n",
    "print(\"---\")\n",
    "\n",
    "a = [\"dog\", \"cat\", \"panda\"]\n",
    "b = tail(a)                     # returns the slice of 'a' from the second element to the end\n",
    "\n",
    "print(b)\n",
    "print(a)                        # notice how the original list has not been modified\n"
   ]
  },
  {
   "cell_type": "code",
   "execution_count": null,
   "metadata": {
    "collapsed": true,
    "deletable": true,
    "editable": true
   },
   "outputs": [],
   "source": []
  }
 ],
 "metadata": {
  "kernelspec": {
   "display_name": "Python 3",
   "language": "python",
   "name": "python3"
  },
  "language_info": {
   "codemirror_mode": {
    "name": "ipython",
    "version": 3
   },
   "file_extension": ".py",
   "mimetype": "text/x-python",
   "name": "python",
   "nbconvert_exporter": "python",
   "pygments_lexer": "ipython3",
   "version": "3.6.0"
  }
 },
 "nbformat": 4,
 "nbformat_minor": 0
}
