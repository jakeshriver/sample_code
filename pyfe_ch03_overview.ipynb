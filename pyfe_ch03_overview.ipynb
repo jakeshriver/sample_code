{
 "cells": [
  {
   "cell_type": "markdown",
   "metadata": {
    "deletable": true,
    "editable": true
   },
   "source": [
    "Python for Everybody\n",
    "## Chapter 03:  Conditional Execution"
   ]
  },
  {
   "cell_type": "code",
   "execution_count": 1,
   "metadata": {
    "collapsed": false,
    "deletable": true,
    "editable": true
   },
   "outputs": [
    {
     "name": "stdout",
     "output_type": "stream",
     "text": [
      "True\n",
      "<class 'bool'>\n",
      "<class 'bool'>\n"
     ]
    }
   ],
   "source": [
    "# 3.1 Boolean Expressions\n",
    "\n",
    "# Named after George Boole, Boolean expressions are either true or false.\n",
    "\n",
    "print(200 == 200)        # Asks if 200 equals 200 and prints True because the integers are equal\n",
    "print(type(True))        # Prints the type of the special value 'True'\n",
    "print(type(False))       # Prints the type of the special value 'False'\n"
   ]
  },
  {
   "cell_type": "code",
   "execution_count": 2,
   "metadata": {
    "collapsed": false,
    "deletable": true,
    "editable": true
   },
   "outputs": [
    {
     "name": "stdout",
     "output_type": "stream",
     "text": [
      "True\n",
      "False\n",
      "True\n",
      "False\n"
     ]
    }
   ],
   "source": [
    "# 3.2 Logical Operators\n",
    "\n",
    "# The three logical operators are 'and', 'or', & 'not'\n",
    "# 'and' will return the boolean value 'True' if ALL the conditions are met\n",
    "# 'or' will return 'True' if ANY of the conditions are met\n",
    "# 'not' negates booleans\n",
    "\n",
    "print(5 == 5 and 10 == 10)     # Will only print 'True' if 5 equals 5 AND 10 equals 10\n",
    "print(5 == 5 and 10 == 9)\n",
    "print(5 == 5 or 10 == 9)\n",
    "print(5 == 3 or 10 == 9)\n"
   ]
  },
  {
   "cell_type": "code",
   "execution_count": 35,
   "metadata": {
    "collapsed": false,
    "deletable": true,
    "editable": true
   },
   "outputs": [
    {
     "name": "stdout",
     "output_type": "stream",
     "text": [
      "x is an integer\n"
     ]
    }
   ],
   "source": [
    "# 3.3 Conditional Execution\n",
    "\n",
    "# 'if' takes a boolean condition and executes the indented lines if the condition is met\n",
    "\n",
    "x = 10\n",
    "if type(x) == int:                # 'type(x) == int' will be either true or false\n",
    "    print('x is an integer')      # if it is true, this line will be executed\n",
    "    "
   ]
  },
  {
   "cell_type": "code",
   "execution_count": 40,
   "metadata": {
    "collapsed": false,
    "deletable": true,
    "editable": true
   },
   "outputs": [
    {
     "name": "stdout",
     "output_type": "stream",
     "text": [
      "x is an integer\n"
     ]
    }
   ],
   "source": [
    "# 3.4 Alternative Execution\n",
    "\n",
    "# 'else' will execute separate lines if the boolean condition for the 'if' statement is not met\n",
    "\n",
    "x = 10\n",
    "if type(x) == int:                    # this will be either true or false\n",
    "    print('x is an integer.')         # if it is true, this line will be executed\n",
    "else:\n",
    "    print('x is not an integer.')     # if it is false, this line will executed instead"
   ]
  },
  {
   "cell_type": "code",
   "execution_count": 51,
   "metadata": {
    "collapsed": false,
    "deletable": true,
    "editable": true
   },
   "outputs": [
    {
     "name": "stdout",
     "output_type": "stream",
     "text": [
      "x is an integer.\n"
     ]
    }
   ],
   "source": [
    "# 3.5 Chained Conditionals\n",
    "\n",
    "# You can use 'elif' (an abbreviation of 'else if') if you have more than one possibility\n",
    "\n",
    "x = 10\n",
    "if type(x) == int:\n",
    "    print('x is an integer.')               # prints if x is an integer\n",
    "elif type(x) == float:\n",
    "    print('x is a float.')                  # prints if x is a float\n",
    "elif type(x) == str:\n",
    "    print('x is a string.')                 # prints if x is a string\n",
    "else:\n",
    "    print('I cannot tell what x is')        # prints if x is none of the above\n"
   ]
  },
  {
   "cell_type": "code",
   "execution_count": 5,
   "metadata": {
    "collapsed": false,
    "deletable": true,
    "editable": true
   },
   "outputs": [
    {
     "name": "stdout",
     "output_type": "stream",
     "text": [
      "(1) hotdog or (2) pizza? 1\n",
      "with (1) mustard, (2) ketchup, or (3) both? 3\n",
      "hotdog with mustard and ketchup\n"
     ]
    }
   ],
   "source": [
    "# 3.6 Nested Conditionals\n",
    "\n",
    "choice1 = int(input(\"(1) hotdog or (2) pizza? \"))\n",
    "if choice1 == 1:\n",
    "    choice2 = input(\"with (1) mustard, (2) ketchup, or (3) both? \")     # if you choose hotdog, you are prompted here\n",
    "    if choice2 == 1:\n",
    "        print(\"hotdog with mustard\")\n",
    "    elif choice2 == 2:\n",
    "        print(\"hotdog with ketchup\")\n",
    "    else:\n",
    "        print(\"hotdog with mustard and ketchup\")\n",
    "else:\n",
    "    choice2 = input(\"with (1) pepperoni or (2) sausage? \")              # if you choose pizza, you are prompted here\n",
    "    if choice2 == 1:\n",
    "        print(\"pizza with pepperroni\")\n",
    "    else:\n",
    "        print(\"pizza with sausage\")\n",
    "        "
   ]
  },
  {
   "cell_type": "code",
   "execution_count": 6,
   "metadata": {
    "collapsed": false,
    "deletable": true,
    "editable": true
   },
   "outputs": [
    {
     "name": "stdout",
     "output_type": "stream",
     "text": [
      "Enter a number: Carnegie Mellon\n",
      "we are expecting an integer...\n"
     ]
    }
   ],
   "source": [
    "# 3.7 Catching Exceptions using Try and Except\n",
    "\n",
    "x = input(\"Enter a number: \")\n",
    "try:\n",
    "    print(int(x))    \n",
    "except:\n",
    "    print(\"we are expecting an integer...\")\n",
    "    \n",
    "# !! When should we use try and except? \n",
    "# If you can anticipate an error, this is very useful\n"
   ]
  },
  {
   "cell_type": "code",
   "execution_count": 72,
   "metadata": {
    "collapsed": false,
    "deletable": true,
    "editable": true
   },
   "outputs": [
    {
     "name": "stdout",
     "output_type": "stream",
     "text": [
      "False\n"
     ]
    }
   ],
   "source": [
    "# 3.8 Short-Circuit Evaluations of Logical Expressions\n",
    "\n",
    "# Because Python reads your expressions from left to right, if it finds a false statement, it will stop reading\n",
    "\n",
    "x = 10\n",
    "y = 0\n",
    "\n",
    "print(y != 0 and x/y)      # why does this allow us to divide x by 0 ?\n"
   ]
  },
  {
   "cell_type": "code",
   "execution_count": 7,
   "metadata": {
    "collapsed": false,
    "deletable": true,
    "editable": true
   },
   "outputs": [
    {
     "ename": "IndentationError",
     "evalue": "unexpected indent (<ipython-input-7-4050341fad89>, line 10)",
     "output_type": "error",
     "traceback": [
      "\u001b[0;36m  File \u001b[0;32m\"<ipython-input-7-4050341fad89>\"\u001b[0;36m, line \u001b[0;32m10\u001b[0m\n\u001b[0;31m    print(x)       # all the lines at the same level should line up\u001b[0m\n\u001b[0m    ^\u001b[0m\n\u001b[0;31mIndentationError\u001b[0m\u001b[0;31m:\u001b[0m unexpected indent\n"
     ]
    }
   ],
   "source": [
    "# 3.9 Debugging\n",
    "\n",
    "# Useful for telling you what kind of error you have and where it is\n",
    "\n",
    "x = 10\n",
    "y = 20\n",
    "\n",
    "if x > y:\n",
    "    print(x)\n",
    "     print(x)       # all the lines at the same level should line up"
   ]
  },
  {
   "cell_type": "code",
   "execution_count": null,
   "metadata": {
    "collapsed": true,
    "deletable": true,
    "editable": true
   },
   "outputs": [],
   "source": []
  }
 ],
 "metadata": {
  "kernelspec": {
   "display_name": "Python 3",
   "language": "python",
   "name": "python3"
  },
  "language_info": {
   "codemirror_mode": {
    "name": "ipython",
    "version": 3
   },
   "file_extension": ".py",
   "mimetype": "text/x-python",
   "name": "python",
   "nbconvert_exporter": "python",
   "pygments_lexer": "ipython3",
   "version": "3.6.0"
  }
 },
 "nbformat": 4,
 "nbformat_minor": 0
}
