{
 "cells": [
  {
   "cell_type": "markdown",
   "metadata": {
    "deletable": true,
    "editable": true
   },
   "source": [
    "Text Processing with NLTK3 Cookbook\n",
    "## Chpater 2: Replacing and Correcting Words"
   ]
  },
  {
   "cell_type": "markdown",
   "metadata": {
    "deletable": true,
    "editable": true
   },
   "source": [
    "### Stemming Words (p.30)\n",
    "\n",
    "\n",
    "Here is a way to think about the following code:\n",
    "\n",
    "**```PosterStemmer```** is sort of like **a stemming company** in **the town of nltk.stem** (i.e., module). By executing **```PoterStemmer()```** in your code, you request the 'company' to send you an expert stemmer that you can use in  your program. \n",
    "\n",
    "Let's look at how this gets done step by step.\n",
    "\n",
    "The following code asks Python that you need to have access to **```PoterStemmer```** (a stemming company) from the nltk.stem module (town).\n",
    "```\n",
    "from nltk.stem import PorterStemmer\n",
    "```\n",
    "The line above will give your programm access to **```PoterStemmer``**`. It's like getting a phone number of the company. \n",
    "\n",
    "The folloiwng code asks **```PoterStemmer```** to 'send' you an expert stemmer. It's like calling the business and asking them to send you one of their experts.\n",
    "```\n",
    "stemmer = PorterStemmer()                      \n",
    "```\n",
    "Here, ***```stemmer```*** is a variable, which is like your own nickname for the stemming expert. (It's like your plumber 'Jimmy', except that it's good at stemming words, so we call it 'stemmer'.)\n",
    "\n",
    "The following line asks the expert ```stemmer``` to **```stem```** 'cooking'.\n",
    "```\n",
    "res = stemmer.stem('cooking')\n",
    "```"
   ]
  },
  {
   "cell_type": "code",
   "execution_count": 16,
   "metadata": {
    "collapsed": false,
    "deletable": true,
    "editable": true,
    "scrolled": true
   },
   "outputs": [
    {
     "name": "stdout",
     "output_type": "stream",
     "text": [
      "cook\n",
      "cookeri\n",
      "book\n",
      "univers\n",
      "univ\n",
      "univers\n"
     ]
    }
   ],
   "source": [
    "# Stemming Words\n",
    "\n",
    "from nltk.stem import PorterStemmer \n",
    "stemmer = PorterStemmer()                      \n",
    "            \n",
    "res = stemmer.stem('cooking')                  # Ask the 'stemmer' to 'stem' 'cooking'.\n",
    "print(res)\n",
    "\n",
    "res = stemmer.stem('cookery')\n",
    "print(res)\n",
    "\n",
    "res = stemmer.stem('book')\n",
    "print(res)\n",
    "\n",
    "res = stemmer.stem('universities')\n",
    "print(res)\n",
    "\n",
    "res = stemmer.stem('univers')\n",
    "print(res)\n",
    "\n",
    "res = stemmer.stem('universal')\n",
    "print(res)"
   ]
  },
  {
   "cell_type": "markdown",
   "metadata": {
    "deletable": true,
    "editable": true
   },
   "source": [
    "### Lemmatizing Words with WordNet (p.32)\n",
    "\n",
    "Lemmatizing works like Setmming. **```WordNetLemmatizer```** is the business. Your program calls them and get an lemmatizing expert. You name this expert 'lemmatizer' (variable). Then, you an ask lemmatizer to lemmatize any words.\n",
    "\n",
    "When you ask lemmatizer to lematize using the **```lemmatize```** command, you can let the lemmatizer know what part-of-speech (pos) your word is (if there are multiple possibilities).\n",
    "\n",
    "```\n",
    "res = lemmatizer.lemmatize('cooking', pos='n')    # assume that 'cooking' is a noun.\n",
    "```\n"
   ]
  },
  {
   "cell_type": "code",
   "execution_count": 89,
   "metadata": {
    "collapsed": false,
    "deletable": true,
    "editable": true
   },
   "outputs": [
    {
     "name": "stdout",
     "output_type": "stream",
     "text": [
      "cooking\n",
      "cook\n",
      "cooking\n"
     ]
    }
   ],
   "source": [
    "# Lemmatizing Words with WordNet\n",
    "\n",
    "from nltk.stem import WordNetLemmatizer         # Import WordNetLemmatizer fom the nltk.stem module.\n",
    "lemmatizer = WordNetLemmatizer()                # Create an instance of WordNetLemmatizer.\n",
    "res = lemmatizer.lemmatize('cooking')           # Ask 'lemmatizer' (expert) to lemmatize 'cooking'.\n",
    "print(res)\n",
    "res = lemmatizer.lemmatize('cooking', pos='v')\n",
    "print(res)\n",
    "res = lemmatizer.lemmatize('cooking', pos='n')\n",
    "print(res)"
   ]
  },
  {
   "cell_type": "markdown",
   "metadata": {
    "deletable": true,
    "editable": true
   },
   "source": [
    "### Stemming vs. Lemmatization (p.33 — under There's more...)\n",
    "\n",
    "- Stems are not necessarily valid words.\n",
    "- Lemmas are actual words found in Dictionaries"
   ]
  },
  {
   "cell_type": "code",
   "execution_count": 90,
   "metadata": {
    "collapsed": false,
    "deletable": true,
    "editable": true
   },
   "outputs": [
    {
     "name": "stdout",
     "output_type": "stream",
     "text": [
      "*** Stemming Examples ***\n",
      "believ\n",
      "univers\n",
      "lead\n",
      "\n",
      "*** Lemmatization Examples ***\n",
      "belief\n",
      "university\n",
      "leading\n"
     ]
    }
   ],
   "source": [
    "# Lemmatizing Words with WordNet / Stemming vs. Lemmatization (p.33)\n",
    "from nltk.stem import PorterStemmer\n",
    "from nltk.stem import WordNetLemmatizer\n",
    "\n",
    "print(\"*** Stemming Examples ***\")\n",
    "stemmer = PorterStemmer()\n",
    "print(stemmer.stem('believes'))\n",
    "print(stemmer.stem('universities'))\n",
    "print(stemmer.stem('leading'))\n",
    "\n",
    "print(\"\\n*** Lemmatization Examples ***\")\n",
    "lemmatizer = WordNetLemmatizer()\n",
    "print(lemmatizer.lemmatize('believes'))\n",
    "print(lemmatizer.lemmatize('universities'))\n",
    "print(lemmatizer.lemmatize('leading'))\n"
   ]
  },
  {
   "cell_type": "markdown",
   "metadata": {
    "deletable": true,
    "editable": true
   },
   "source": [
    "### Combining Stemming with Lematization (p.34)\n",
    "\n",
    "- Lemmatizing before stemming can compress words."
   ]
  },
  {
   "cell_type": "code",
   "execution_count": 91,
   "metadata": {
    "collapsed": false,
    "deletable": true,
    "editable": true
   },
   "outputs": [
    {
     "name": "stdout",
     "output_type": "stream",
     "text": [
      "buse\n",
      "bus\n",
      "bu\n"
     ]
    }
   ],
   "source": [
    "# Lemmatizing Words with WordNet / Combining Stemming with Lemmatization\n",
    "\n",
    "from nltk.stem import PorterStemmer\n",
    "from nltk.stem import WordNetLemmatizer\n",
    "stemmer = PorterStemmer()\n",
    "lemmatizer = WordNetLemmatizer()\n",
    "\n",
    "\n",
    "stem1 = stemmer.stem('buses')\n",
    "print(stem1)\n",
    "\n",
    "lemma = lemmatizer.lemmatize('buses')\n",
    "print(lemma)\n",
    "stem2 = stemmer.stem(lemma)\n",
    "print(stem2)\n"
   ]
  },
  {
   "cell_type": "code",
   "execution_count": null,
   "metadata": {
    "collapsed": true,
    "deletable": true,
    "editable": true
   },
   "outputs": [],
   "source": []
  }
 ],
 "metadata": {
  "kernelspec": {
   "display_name": "Python 3",
   "language": "python",
   "name": "python3"
  },
  "language_info": {
   "codemirror_mode": {
    "name": "ipython",
    "version": 3
   },
   "file_extension": ".py",
   "mimetype": "text/x-python",
   "name": "python",
   "nbconvert_exporter": "python",
   "pygments_lexer": "ipython3",
   "version": "3.6.0"
  }
 },
 "nbformat": 4,
 "nbformat_minor": 0
}
