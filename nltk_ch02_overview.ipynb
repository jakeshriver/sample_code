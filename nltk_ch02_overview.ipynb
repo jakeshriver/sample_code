{
 "cells": [
  {
   "cell_type": "markdown",
   "metadata": {
    "deletable": true,
    "editable": true
   },
   "source": [
    "Text Processing with NLTK3 Cookbook\n",
    "## Chapter 2:  Replacing and Correcting Words\n",
    "***"
   ]
  },
  {
   "cell_type": "markdown",
   "metadata": {
    "deletable": true,
    "editable": true
   },
   "source": [
    "### Stemming Words (p.30)\n",
    "#### Stemmers remove affixed from words, leaving only the word stem.\n",
    "\n",
    "Here is a way to think about the following code:\n",
    "\n",
    "**```PorterStemmer()```** is sort of like **a stemming company** in **the town of nltk.stem** (i.e., module). By executing **```PorterStemmer()```** in your code, you request the 'company' to send you an expert stemmer that you can use in  your program. \n",
    "\n",
    "Let's look at how this gets done step by step.\n",
    "\n",
    "The following code requests access to **```PorterStemmer()```** (a stemming company) from the nltk.stem module (town).\n",
    "```\n",
    "from nltk.stem import PorterStemmer\n",
    "```\n",
    "The line above will give your programm access to **```PorterStemmer()```**. It's like getting the phone number of the stemming company.  Now you can call the company to use an expert stemmer whenever you want.\n",
    "\n",
    "The folloiwng code asks **```PorterStemmer()```** to 'send' you an expert stemmer. It's like calling the business and asking them to send you one of their experts.\n",
    "```\n",
    "stemmer = PorterStemmer()                      \n",
    "```\n",
    "Here, ***```stemmer```*** is a variable, which is like your own nickname for the stemming expert. (It's like your plumber 'Jimmy', except that it's good at stemming words, so we call it 'stemmer'.)\n",
    "\n",
    "The following line asks the expert ```stemmer``` to **```stem```** 'cooking'.\n",
    "```\n",
    "res = stemmer.stem('cooking')\n",
    "```\n"
   ]
  },
  {
   "cell_type": "code",
   "execution_count": 2,
   "metadata": {
    "collapsed": false,
    "deletable": true,
    "editable": true,
    "scrolled": true
   },
   "outputs": [
    {
     "ename": "ModuleNotFoundError",
     "evalue": "No module named 'nltk'",
     "output_type": "error",
     "traceback": [
      "\u001b[0;31m---------------------------------------------------------------------------\u001b[0m",
      "\u001b[0;31mModuleNotFoundError\u001b[0m                       Traceback (most recent call last)",
      "\u001b[0;32m<ipython-input-2-a8ba91d3ac9e>\u001b[0m in \u001b[0;36m<module>\u001b[0;34m()\u001b[0m\n\u001b[1;32m      1\u001b[0m \u001b[0;31m# Stemming Words\u001b[0m\u001b[0;34m\u001b[0m\u001b[0;34m\u001b[0m\u001b[0m\n\u001b[1;32m      2\u001b[0m \u001b[0;34m\u001b[0m\u001b[0m\n\u001b[0;32m----> 3\u001b[0;31m \u001b[0;32mfrom\u001b[0m \u001b[0mnltk\u001b[0m\u001b[0;34m.\u001b[0m\u001b[0mstem\u001b[0m \u001b[0;32mimport\u001b[0m \u001b[0mPorterStemmer\u001b[0m            \u001b[0;31m# import PorterStemmer() so you have access to the stem() method\u001b[0m\u001b[0;34m\u001b[0m\u001b[0m\n\u001b[0m\u001b[1;32m      4\u001b[0m \u001b[0mstemmer\u001b[0m \u001b[0;34m=\u001b[0m \u001b[0mPorterStemmer\u001b[0m\u001b[0;34m(\u001b[0m\u001b[0;34m)\u001b[0m\u001b[0;34m\u001b[0m\u001b[0m\n\u001b[1;32m      5\u001b[0m \u001b[0;34m\u001b[0m\u001b[0m\n",
      "\u001b[0;31mModuleNotFoundError\u001b[0m: No module named 'nltk'"
     ]
    }
   ],
   "source": [
    "# Stemming Words\n",
    "\n",
    "from nltk.stem import PorterStemmer            # import PorterStemmer() so you have access to the stem() method\n",
    "stemmer = PorterStemmer()                      \n",
    "            \n",
    "res = stemmer.stem('cooking')                  # ask the stemmer to stem 'cooking'\n",
    "print(res)\n",
    "\n",
    "res = stemmer.stem('cookery')\n",
    "print(res)\n",
    "\n",
    "res = stemmer.stem('book')\n",
    "print(res)\n",
    "\n",
    "res = stemmer.stem('universities')\n",
    "print(res)\n",
    "\n",
    "res = stemmer.stem('univers')\n",
    "print(res)\n",
    "\n",
    "res = stemmer.stem('universal')\n",
    "print(res)\n"
   ]
  },
  {
   "cell_type": "markdown",
   "metadata": {
    "deletable": true,
    "editable": true
   },
   "source": [
    "### Lemmatizing Words with WordNet (p.32)\n",
    "\n",
    "Lemmatizing works like stemming. **```WordNetLemmatizer```** is the 'business'. Your program calls them and gets a lemmatizing expert. You name this expert 'lemmatizer' (this is your variable). Then, you an ask lemmatizer to lemmatize any words.\n",
    "\n",
    "When you ask lemmatizer to lematize using the **```lemmatize()```** command, you can let the lemmatizer know what part of speech (pos) your word is (if there are multiple possibilities).\n",
    "\n",
    "```\n",
    "res = lemmatizer.lemmatize('cooking', pos='n')    # assume that 'cooking' is a noun\n",
    "```\n"
   ]
  },
  {
   "cell_type": "code",
   "execution_count": 89,
   "metadata": {
    "collapsed": false,
    "deletable": true,
    "editable": true
   },
   "outputs": [
    {
     "name": "stdout",
     "output_type": "stream",
     "text": [
      "cooking\n",
      "cook\n",
      "cooking\n"
     ]
    }
   ],
   "source": [
    "# Lemmatizing Words with WordNet\n",
    "\n",
    "from nltk.stem import WordNetLemmatizer         # Import WordNetLemmatizer fom the nltk.stem module\n",
    "lemmatizer = WordNetLemmatizer()                # Create an instance of WordNetLemmatizer\n",
    "res = lemmatizer.lemmatize('cooking')           # Ask 'lemmatizer' to lemmatize 'cooking'\n",
    "print(res)\n",
    "res = lemmatizer.lemmatize('cooking', pos='v')\n",
    "print(res)\n",
    "res = lemmatizer.lemmatize('cooking', pos='n')\n",
    "print(res)\n"
   ]
  },
  {
   "cell_type": "markdown",
   "metadata": {
    "deletable": true,
    "editable": true
   },
   "source": [
    "### Stemming vs. Lemmatization (p.33 — under \"There's More...\")\n",
    "\n",
    "- Stems are not necessarily valid words.\n",
    "- Lemmas are actual words found in dictionaries.\n"
   ]
  },
  {
   "cell_type": "code",
   "execution_count": 90,
   "metadata": {
    "collapsed": false,
    "deletable": true,
    "editable": true
   },
   "outputs": [
    {
     "name": "stdout",
     "output_type": "stream",
     "text": [
      "*** Stemming Examples ***\n",
      "believ\n",
      "univers\n",
      "lead\n",
      "\n",
      "*** Lemmatization Examples ***\n",
      "belief\n",
      "university\n",
      "leading\n"
     ]
    }
   ],
   "source": [
    "# Lemmatizing Words with WordNet / Stemming vs. Lemmatization (p.33)\n",
    "\n",
    "# Notice the differences between 'stems' and 'lemmas'\n",
    "\n",
    "from nltk.stem import PorterStemmer\n",
    "from nltk.stem import WordNetLemmatizer\n",
    "\n",
    "print(\"*** Stemming Examples ***\")\n",
    "stemmer = PorterStemmer()\n",
    "print(stemmer.stem('believes'))\n",
    "print(stemmer.stem('universities'))\n",
    "print(stemmer.stem('leading'))\n",
    "\n",
    "print(\"\\n*** Lemmatization Examples ***\")\n",
    "lemmatizer = WordNetLemmatizer()\n",
    "print(lemmatizer.lemmatize('believes'))\n",
    "print(lemmatizer.lemmatize('universities'))\n",
    "print(lemmatizer.lemmatize('leading'))\n"
   ]
  },
  {
   "cell_type": "markdown",
   "metadata": {
    "deletable": true,
    "editable": true
   },
   "source": [
    "### Combining Stemming with Lematization (p.34)\n",
    "\n",
    "- Lemmatizing before stemming can compress words."
   ]
  },
  {
   "cell_type": "code",
   "execution_count": 91,
   "metadata": {
    "collapsed": false,
    "deletable": true,
    "editable": true
   },
   "outputs": [
    {
     "name": "stdout",
     "output_type": "stream",
     "text": [
      "buse\n",
      "bus\n",
      "bu\n"
     ]
    }
   ],
   "source": [
    "# Lemmatizing Words with WordNet / Combining Stemming with Lemmatization\n",
    "\n",
    "from nltk.stem import PorterStemmer\n",
    "from nltk.stem import WordNetLemmatizer\n",
    "stemmer = PorterStemmer()\n",
    "lemmatizer = WordNetLemmatizer()\n",
    "\n",
    "\n",
    "stem1 = stemmer.stem('buses')\n",
    "print(stem1)\n",
    "\n",
    "lemma = lemmatizer.lemmatize('buses')\n",
    "print(lemma)\n",
    "stem2 = stemmer.stem(lemma)\n",
    "print(stem2)\n"
   ]
  },
  {
   "cell_type": "code",
   "execution_count": null,
   "metadata": {
    "collapsed": true,
    "deletable": true,
    "editable": true
   },
   "outputs": [],
   "source": []
  }
 ],
 "metadata": {
  "kernelspec": {
   "display_name": "Python 3",
   "language": "python",
   "name": "python3"
  },
  "language_info": {
   "codemirror_mode": {
    "name": "ipython",
    "version": 3
   },
   "file_extension": ".py",
   "mimetype": "text/x-python",
   "name": "python",
   "nbconvert_exporter": "python",
   "pygments_lexer": "ipython3",
   "version": "3.6.0"
  }
 },
 "nbformat": 4,
 "nbformat_minor": 0
}
