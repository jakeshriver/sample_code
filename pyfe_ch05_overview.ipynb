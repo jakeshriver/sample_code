{
 "cells": [
  {
   "cell_type": "markdown",
   "metadata": {
    "deletable": true,
    "editable": true
   },
   "source": [
    "Python for Everybody\n",
    "## Chapter 05:  Iteration"
   ]
  },
  {
   "cell_type": "code",
   "execution_count": 2,
   "metadata": {
    "collapsed": false,
    "deletable": true,
    "editable": true
   },
   "outputs": [
    {
     "name": "stdout",
     "output_type": "stream",
     "text": [
      "1\n",
      "2\n",
      "3\n",
      "---\n",
      "5\n",
      "7\n",
      "9\n"
     ]
    }
   ],
   "source": [
    "# 5.1 Updating Variables\n",
    "\n",
    "# When the new value of a variable depends on the old value, this is called updating\n",
    "\n",
    "# Increment x by 1\n",
    "\n",
    "x = 0               # x is defined as 0\n",
    "x = x + 1           # x is updated to be defined as 0 + 1\n",
    "print(x)\n",
    "x = x + 1           # x is updated to be defined as 1 + 1\n",
    "print(x)\n",
    "x = x + 1           # x is updated to be defined as 2 + 1\n",
    "print(x)\n",
    "\n",
    "print(\"---\")\n",
    "\n",
    "# Increment x by 2. \"+= __\" is a short-hand for \"x = x + __\"\n",
    "\n",
    "x += 2              # x is updated to be defined as 3 + 2\n",
    "print(x)\n",
    "x += 2              # x is updated to be defined as 5 + 2\n",
    "print(x)\n",
    "x += 2              # x is updated to be defined as 7 + 2\n",
    "print(x)"
   ]
  },
  {
   "cell_type": "code",
   "execution_count": 3,
   "metadata": {
    "collapsed": false,
    "deletable": true,
    "editable": true
   },
   "outputs": [
    {
     "name": "stdout",
     "output_type": "stream",
     "text": [
      "1\n",
      "2\n",
      "3\n",
      "4\n",
      "5\n",
      "6\n",
      "7\n",
      "8\n",
      "9\n",
      "10\n",
      "done!\n"
     ]
    }
   ],
   "source": [
    "# 5.2 The While Statement\n",
    "\n",
    "# 'while' takes a boolean and contines to run as long as the boolean value is true.\n",
    "\n",
    "count = 1\n",
    "max_num = 10\n",
    "while count <= max_num:      # count <= max_num becomes false when count is greater than 10\n",
    "    print(count)\n",
    "    count += 1               # increment count by 1\n",
    "print(\"done!\")    \n"
   ]
  },
  {
   "cell_type": "code",
   "execution_count": 4,
   "metadata": {
    "collapsed": true,
    "deletable": true,
    "editable": true
   },
   "outputs": [],
   "source": [
    "# 5.3 Infinite Loops\n",
    "\n",
    "# When a loop does not have terminating conditions that can be met, it is an 'infinite loop'\n",
    "# An infinite loop will run endlessly\n",
    "\n",
    "# Why is the following code commented out? Don't run it.\n",
    "\n",
    "# count = 1\n",
    "# while count > 0: \n",
    "#     print(count)\n",
    "#     count += 1\n",
    "# print(\"done!\")    \n"
   ]
  },
  {
   "cell_type": "code",
   "execution_count": 6,
   "metadata": {
    "collapsed": false,
    "deletable": true,
    "editable": true
   },
   "outputs": [
    {
     "name": "stdout",
     "output_type": "stream",
     "text": [
      "Are you done? no\n",
      "no\n",
      "Are you done? maybe\n",
      "maybe\n",
      "Are you done? yes\n",
      "Done!\n"
     ]
    }
   ],
   "source": [
    "# 5.4 Infinite Loops and Break\n",
    "\n",
    "while True:                               # this is an infinte loop because 'true' is a constant value\n",
    "    line = input(\"Are you done? \")\n",
    "    if line == 'yes':                     # this gives the user an opportunity to end the loop by typing 'yes'\n",
    "        break                             # ends the loop\n",
    "    print(line)\n",
    "print('Done!')    \n",
    "\n",
    "# This is useful because you can check the conditions of the loop at any point\n",
    "\n",
    "# You can use this to create loops that stop when you meet a certain condition,\n",
    "# rather than running until a condition is no longer met\n"
   ]
  },
  {
   "cell_type": "code",
   "execution_count": null,
   "metadata": {
    "collapsed": false,
    "deletable": true,
    "editable": true
   },
   "outputs": [
    {
     "name": "stdout",
     "output_type": "stream",
     "text": [
      "Are you done? continue\n",
      "continue\n",
      "Are you done? no\n",
      "no\n"
     ]
    }
   ],
   "source": [
    "# 5.5 Finishing Iterations with Continue\n",
    "\n",
    "while True:\n",
    "    line = input(\"Are you done? \")\n",
    "    if line == '#':\n",
    "        continue         # 'continue' will skip the rest of the statements in this iteration and start from the top\n",
    "    if line == 'yes':\n",
    "        break\n",
    "    print(line)\n",
    "print('Done!')    \n"
   ]
  },
  {
   "cell_type": "code",
   "execution_count": 9,
   "metadata": {
    "collapsed": false,
    "deletable": true,
    "editable": true
   },
   "outputs": [
    {
     "name": "stdout",
     "output_type": "stream",
     "text": [
      "Discover the power within yourself.\n",
      "Patience is a virtue, unless it's against a brick wall.\n",
      "The best way to give credit is to give it away.\n",
      "You believe in the goodness of mankind.\n",
      "You can fix it with a little extra energy and a positive attitude.\n"
     ]
    }
   ],
   "source": [
    "# 5.6 Definite Loops Using 'for'\n",
    "\n",
    "# while loops are indefinite because they iterate until the condition is false\n",
    "# for loops are definite because they loop through a known set of items\n",
    "\n",
    "f1 = \"Discover the power within yourself.\"\n",
    "f2 = \"Patience is a virtue, unless it's against a brick wall.\"\n",
    "f3 = \"The best way to give credit is to give it away.\"\n",
    "f4 = \"You believe in the goodness of mankind.\"\n",
    "f5 = \"You can fix it with a little extra energy and a positive attitude.\"\n",
    "\n",
    "fortunes = [f1, f2, f3, f4, f5]   # This is a list of fortunes. We'll learn more about lists in chapter 8.\n",
    "                                  # You can list strings, numberes, or anything.\n",
    "\n",
    "for fortune in fortunes:          # this iterates through our list of five strings until it reaches the end\n",
    "    print(fortune)\n",
    "    "
   ]
  },
  {
   "cell_type": "code",
   "execution_count": 12,
   "metadata": {
    "collapsed": false,
    "deletable": true,
    "editable": true
   },
   "outputs": [
    {
     "name": "stdout",
     "output_type": "stream",
     "text": [
      "0\n",
      "1\n",
      "2\n",
      "3\n",
      "4\n",
      "---\n",
      "2\n",
      "3\n",
      "4\n",
      "5\n",
      "6\n",
      "7\n",
      "8\n",
      "9\n",
      "---\n",
      "3\n",
      "6\n",
      "9\n",
      "12\n",
      "15\n"
     ]
    }
   ],
   "source": [
    "# 5.6 Definite Loops Using 'for' (cont.)\n",
    "\n",
    "# You can use the 'range' function with the 'for' loop. \n",
    "\n",
    "for x in range(5):            # range(5) gives you x values such that 0 <= x < 5\n",
    "    print(x)                                     # x between 0 and 4\n",
    "\n",
    "print(\"---\")    \n",
    "\n",
    "for x in range(2,10):         # range(2,10) gives you values in 2 <= x < 10\n",
    "    print(x)\n",
    "    \n",
    "print(\"---\")    \n",
    "    \n",
    "for x in range(3,18,3):       # range(3,18,3) gives you every third value in 3 <= x < 18\n",
    "    print(x)\n",
    "        "
   ]
  },
  {
   "cell_type": "code",
   "execution_count": 13,
   "metadata": {
    "collapsed": false,
    "deletable": true,
    "editable": true
   },
   "outputs": [
    {
     "name": "stdout",
     "output_type": "stream",
     "text": [
      "(0, 0)\n",
      "(0, 1)\n",
      "(0, 2)\n",
      "\n",
      "(1, 0)\n",
      "(1, 1)\n",
      "(1, 2)\n",
      "\n",
      "(2, 0)\n",
      "(2, 1)\n",
      "(2, 2)\n",
      "\n"
     ]
    }
   ],
   "source": [
    "# 5.6 Define Loops Using 'for' (cont.)\n",
    "\n",
    "# Nested loops run a loop inside another loop\n",
    "# When the interior loop finishes iterating, the exterior loop moves to its next iteration\n",
    "\n",
    "for x in range(3):                      # for each x between 0 and 2\n",
    "    for y in range(3):                  # for each y between 0 and 2 \n",
    "        print(\"({}, {})\".format(x,y))\n",
    "    print(\"\")                           # when the inner loop is finished, add a line break.\n"
   ]
  },
  {
   "cell_type": "code",
   "execution_count": null,
   "metadata": {
    "collapsed": true,
    "deletable": true,
    "editable": true
   },
   "outputs": [],
   "source": [
    "# 5.6 Define Loops Using 'for' (cont.)"
   ]
  },
  {
   "cell_type": "code",
   "execution_count": null,
   "metadata": {
    "collapsed": true,
    "deletable": true,
    "editable": true
   },
   "outputs": [],
   "source": [
    "# 5.7 Loop Patterns"
   ]
  }
 ],
 "metadata": {
  "kernelspec": {
   "display_name": "Python 3",
   "language": "python",
   "name": "python3"
  },
  "language_info": {
   "codemirror_mode": {
    "name": "ipython",
    "version": 3
   },
   "file_extension": ".py",
   "mimetype": "text/x-python",
   "name": "python",
   "nbconvert_exporter": "python",
   "pygments_lexer": "ipython3",
   "version": "3.6.0"
  }
 },
 "nbformat": 4,
 "nbformat_minor": 0
}
