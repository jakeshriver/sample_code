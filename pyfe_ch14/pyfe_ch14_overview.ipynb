{
 "cells": [
  {
   "cell_type": "markdown",
   "metadata": {},
   "source": [
    "Python for Everybody\n",
    "## Chpater 14 Object Oriented Programming"
   ]
  },
  {
   "cell_type": "code",
   "execution_count": 18,
   "metadata": {
    "collapsed": true
   },
   "outputs": [],
   "source": [
    "# Read 14.1—14.5\n",
    "#"
   ]
  },
  {
   "cell_type": "code",
   "execution_count": 36,
   "metadata": {
    "collapsed": false
   },
   "outputs": [
    {
     "name": "stdout",
     "output_type": "stream",
     "text": [
      "Arnold Mendez\n",
      "Robert Clayton\n"
     ]
    }
   ],
   "source": [
    "# a very simple example\n",
    "import random\n",
    "\n",
    "class Course:\n",
    "    students = None\n",
    "    \n",
    "    def __init__(self):\n",
    "        self.students = list()\n",
    "    \n",
    "    def enroll(self, student):\n",
    "        self.students.append(student)\n",
    "        return None\n",
    "    \n",
    "    def print_names(self):\n",
    "        for s in self.students:\n",
    "            s.print_name()\n",
    "\n",
    "    def random_student(self):\n",
    "        index = random.randint(0, len(self.students))\n",
    "        return self.students[index]            \n",
    "            \n",
    "class Student:\n",
    "    first = None\n",
    "    last  = None\n",
    "\n",
    "    def __init__(self, first, last):\n",
    "        self.first = first\n",
    "        self.last  = last\n",
    "\n",
    "    def print_name(self):\n",
    "        print(\"{} {}\".format(self.first, self.last))\n",
    "        \n",
    "        \n",
    "cfh = Course()                            # create an instance of the Course class\n",
    "cfh.enroll(Student(\"Robert\",\"Clayton\"))   # create 10 instances of the Course class\n",
    "cfh.enroll(Student(\"Ed\", \"Thompson\"))\n",
    "cfh.enroll(Student(\"Joan\",\"Griffin\"))\n",
    "cfh.enroll(Student(\"Sheri\",\"Moore\"))\n",
    "cfh.enroll(Student(\"Matt\",\"Obrien\"))\n",
    "cfh.enroll(Student(\"Alexis\",\"Wilson\"))\n",
    "cfh.enroll(Student(\"Lindsey\",\"Burton\"))\n",
    "cfh.enroll(Student(\"Bernice\",\"Kim\"))\n",
    "cfh.enroll(Student(\"Camille\",\"Aguilar\"))\n",
    "cfh.enroll(Student(\"Arnold\",\"Mendez\"))\n",
    "\n",
    "s = cfh.random_student()                  # ask the course to pick a random student\n",
    "s.print_name()\n",
    "\n",
    "s = cfh.random_student()                  # ask the course to pick a least common names\n",
    "s.print_name()\n"
   ]
  },
  {
   "cell_type": "code",
   "execution_count": 1,
   "metadata": {
    "collapsed": false
   },
   "outputs": [
    {
     "name": "stdout",
     "output_type": "stream",
     "text": [
      "message  : my message\n",
      "author   : nytimes\n",
      "date     : 2016-10-28 19:43:35\n",
      "urls     : ['a', 'b']\n"
     ]
    }
   ],
   "source": [
    "# a little more complex example\n",
    "\n",
    "class Tweet:\n",
    "    author = None\n",
    "    text   = None\n",
    "    date   = None\n",
    "    links    = []\n",
    "    rt_count = 0\n",
    "    \n",
    "    def __init__(self, author, text, date, urls, rt_count):\n",
    "        self.author   = author\n",
    "        self.text     = text\n",
    "        self.date     = date\n",
    "        self.urls     = urls\n",
    "        self.rt_count = rt_count\n",
    "        \n",
    "    def get_message(self):\n",
    "        return self.msg\n",
    "    \n",
    "    def print_data(self):\n",
    "        print(\"rt_count : {}\".format(self.rt_count))\n",
    "        print(\"message  : {}\".format(self.text))        \n",
    "        print(\"author   : {}\".format(self.author))\n",
    "        print(\"date     : {}\".format(self.date))\n",
    "        print(\"urls     : {}\".format(self.urls))\n",
    "        return None\n",
    "\n",
    "# --------\n",
    "# test\n",
    "# --------\n",
    "t = Tweet(\"nytimes\", \"my message\", \"2016-10-28 19:43:35\", ['a', 'b'], 30)\n",
    "t.print_data()\n"
   ]
  },
  {
   "cell_type": "code",
   "execution_count": 17,
   "metadata": {
    "collapsed": false
   },
   "outputs": [
    {
     "name": "stdout",
     "output_type": "stream",
     "text": [
      "<class '__main__.TwitterSearchEngine'>\n",
      "start retrieving tweets...\n",
      "done retrieving tweets...\n",
      "\n",
      "[<__main__.Tweet object at 0x10827abe0>, <__main__.Tweet object at 0x10827ab70>, <__main__.Tweet object at 0x10826ff28>, <__main__.Tweet object at 0x10826f5c0>]\n",
      "---\n",
      "<class '__main__.Tweet'>\n",
      "message  : RT @BuzzFeedNews: Donald Trump thinks Hillary Clinton has a \"criminal scheme.\" \n",
      "author   : BuzzFeed\n",
      "date     : 2016-10-28 19:43:35\n",
      "urls     : ['https://t.co/3SNRHvCNeB']\n",
      "\n",
      "<class '__main__.Tweet'>\n",
      "message  : RT @BuzzFeedNews: Trump supporters are \"thrilled\" with the FBI's new Clinton-related email investigation   \n",
      "author   : BuzzFeed\n",
      "date     : 2016-10-28 19:18:24\n",
      "urls     : ['https://t.co/grfflbMsNY', 'https://t.']\n",
      "\n",
      "<class '__main__.Tweet'>\n",
      "message  : Donald Trump slammed Hillary Clinton for going to an Adele concert  \n",
      "author   : BuzzFeed\n",
      "date     : 2016-10-26 21:12:26\n",
      "urls     : ['https://t.co/BCXuEis3uw', 'https://t.co/l9fdYyhgIn']\n",
      "\n",
      "<class '__main__.Tweet'>\n",
      "message  : RT @BuzzFeedNews: Trump calls for investigation into Obama over Clinton email server  \n",
      "author   : BuzzFeed\n",
      "date     : 2016-10-25 20:48:09\n",
      "urls     : ['https://t.co/Hs4ZpGCArV', 'https://t.co/qnyXrwVTM1']\n",
      "\n"
     ]
    }
   ],
   "source": [
    "# 13.8 Security and API Usage (Cont.)\n",
    "\n",
    "import tweepy\n",
    "import hidden\n",
    "\n",
    "\n",
    "import re\n",
    "\n",
    "class TwitterSearchEngine:\n",
    "    \n",
    "    def __init__(self):\n",
    "        TwitterSearchEngine.secrets = hidden.oauth()\n",
    "        TwitterSearchEngine.auth = tweepy.OAuthHandler(secrets['consumer_key'], \n",
    "                                                       secrets['consumer_secret'])\n",
    "        TwitterSearchEngine.auth.set_access_token(secrets['token_key'], \n",
    "                                                  secrets['token_secret'])\n",
    "        TwitterSearchEngine.api = tweepy.API(auth)\n",
    "    \n",
    "    def remove_urls(self, msg):\n",
    "        utlpattern = r\"(https|http):[A-z0-9/.-]+\"  # UTL regex pattern\n",
    "        msg = re.sub(r'[^\\x00-\\x7F]+',' ', msg)    # remove non ascii characteres, if any\n",
    "        for m in re.finditer(utlpattern, msg):     # find one or more URL pattern,\n",
    "            msg = msg.replace(m.group(), \"\")       # remove the URL from the message.\n",
    "        return msg\n",
    "\n",
    "    def get_urls(self, msg):\n",
    "        utlpattern = r\"(https|http):[A-z0-9/.-]+\"  # UTL regex pattern\n",
    "        msg = re.sub(r'[^\\x00-\\x7F]+',' ', msg)    # remove non ascii characteres, if any\n",
    "        res = list()\n",
    "        for m in re.finditer(utlpattern, msg):     # find one or more URL pattern,\n",
    "            res.append(m.group())\n",
    "        return res\n",
    "\n",
    "    def get_tweets(self, query):\n",
    "        print(\"start retrieving tweets...\")\n",
    "        results = list()\n",
    "        for tweet in tweepy.Cursor(TwitterSearchEngine.api.search,\n",
    "                               q=query,\n",
    "                               rpp=100,\n",
    "                               result_type=\"recent\",\n",
    "                               include_entities=True,\n",
    "                               lang=\"en\").items(5):\n",
    "\n",
    "            t = Tweet(tweet.author.screen_name, \n",
    "                        self.remove_urls(tweet.text), \n",
    "                        str(tweet.created_at),\n",
    "                        self.get_urls(tweet.text),\n",
    "                        tweet.retweet_count)\n",
    "            results.append(t)\n",
    "        print(\"done retrieving tweets...\\n\")   \n",
    "        return results\n",
    "\n",
    "engine = TwitterSearchEngine()\n",
    "print(type(engine))\n",
    "results = engine.get_tweets(\"from:buzzfeed trump clinton\")\n",
    "\n",
    "print(results)\n",
    "print(\"---\")\n",
    "\n",
    "for t in results:\n",
    "    print(type(t))\n",
    "    t.print_data()\n",
    "    print(\"\")\n",
    "    "
   ]
  },
  {
   "cell_type": "code",
   "execution_count": null,
   "metadata": {
    "collapsed": true
   },
   "outputs": [],
   "source": []
  }
 ],
 "metadata": {
  "kernelspec": {
   "display_name": "Python 3",
   "language": "python",
   "name": "python3"
  },
  "language_info": {
   "codemirror_mode": {
    "name": "ipython",
    "version": 3
   },
   "file_extension": ".py",
   "mimetype": "text/x-python",
   "name": "python",
   "nbconvert_exporter": "python",
   "pygments_lexer": "ipython3",
   "version": "3.5.1"
  }
 },
 "nbformat": 4,
 "nbformat_minor": 0
}
