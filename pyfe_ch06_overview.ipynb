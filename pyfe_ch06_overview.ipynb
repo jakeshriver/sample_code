{
 "cells": [
  {
   "cell_type": "markdown",
   "metadata": {
    "deletable": true,
    "editable": true
   },
   "source": [
    "Python for Everybody\n",
    "## Chapter 06:  Strings"
   ]
  },
  {
   "cell_type": "code",
   "execution_count": 1,
   "metadata": {
    "collapsed": false,
    "deletable": true,
    "editable": true
   },
   "outputs": [
    {
     "name": "stdout",
     "output_type": "stream",
     "text": [
      "a\n",
      "p\n",
      "p\n",
      "l\n",
      "e\n"
     ]
    }
   ],
   "source": [
    "# 6.1 A string is a sequence\n",
    "\n",
    "# A string is a sequence of characters.  You can access an individual character or index using the bracket [] function.\n",
    "\n",
    "v = \"apple\"\n",
    "print(v[0])     # Print the first character in the string. Notice that the index begins with 0.\n",
    "print(v[1])\n",
    "print(v[2])\n",
    "print(v[3])\n",
    "print(v[4])\n"
   ]
  },
  {
   "cell_type": "code",
   "execution_count": 20,
   "metadata": {
    "collapsed": false,
    "deletable": true,
    "editable": true
   },
   "outputs": [
    {
     "name": "stdout",
     "output_type": "stream",
     "text": [
      "There are 5 chracters in apple.\n",
      "The last character of apple is e.\n",
      "The last character of apple is e.\n",
      "The 2nd from the last character of apple is l.\n"
     ]
    }
   ],
   "source": [
    "# 6.2 Getting the length of a string using 'len'\n",
    "\n",
    "# 'len' is a built-in function that returns the number of characters in a string.\n",
    "\n",
    "fruit = \"apple\"\n",
    "length = len(fruit)\n",
    "print(\"There are {} chracters in {}.\".format(length, fruit))\n",
    "\n",
    "last_char = fruit[length-1]        # remember that indices start at 0.  So the 'e' in apple would be fruit[4]\n",
    "print(\"The last character of {} is {}.\".format(fruit, last_char))\n",
    "\n",
    "last_char = fruit[-1]              # [-1] is equivalent of [length-1]\n",
    "print(\"The last character of {} is {}.\".format(fruit, last_char))\n",
    "\n",
    "second_from_last_char = fruit[-2]  # [-2] is equivalent of [length-2]\n",
    "print(\"The 2nd from the last character of {} is {}.\".format(fruit, second_from_last_char))"
   ]
  },
  {
   "cell_type": "code",
   "execution_count": 28,
   "metadata": {
    "collapsed": false,
    "deletable": true,
    "editable": true
   },
   "outputs": [
    {
     "name": "stdout",
     "output_type": "stream",
     "text": [
      "o\n",
      "r\n",
      "a\n",
      "n\n",
      "g\n",
      "e\n",
      "----\n",
      "o\n",
      "r\n",
      "a\n",
      "n\n",
      "g\n",
      "e\n"
     ]
    }
   ],
   "source": [
    "# 6.3 Traversal through a string with a loop\n",
    "\n",
    "# using a loop, we can process a string from the first character to the last\n",
    "# this process is called a traversal\n",
    "\n",
    "fruit = \"orange\"\n",
    "i = 0                     # i is our index, starting at 0 (the first character in the string)\n",
    "while i < len(fruit):     # the code below will be executed as long as our index represents a character in the string\n",
    "    letter = fruit[i]\n",
    "    print(letter)\n",
    "    i += 1                # this adds 1 to our index, moving our loop to its next iteration\n",
    "print(\"----\")    \n",
    "for letter in fruit:\n",
    "    print(letter)"
   ]
  },
  {
   "cell_type": "code",
   "execution_count": 6,
   "metadata": {
    "collapsed": false,
    "deletable": true,
    "editable": true
   },
   "outputs": [
    {
     "name": "stdout",
     "output_type": "stream",
     "text": [
      "Carnegie\n",
      "Mellon\n",
      "---\n",
      "Car\n",
      "Mellon\n",
      "---\n",
      "m 0\n",
      "y 1\n",
      "f 2\n",
      "i 3\n",
      "l 4\n",
      "e 5\n",
      ". 6\n",
      "count = 6\n",
      "p 7\n",
      "d 8\n",
      "f 9\n",
      "This is a pdf file.\n"
     ]
    }
   ],
   "source": [
    "# 6.4 String slices\n",
    "\n",
    "# You can return part of a string\n",
    "# This is called a 'slice'\n",
    "# You can do this similarly to selecting a character\n",
    "\n",
    "s = \"Carnegie Mellon\"\n",
    "print(s[0:8])      # prints the slice of the string from index 0 (includes the first) to index 7 (exlcludes the last)\n",
    "print(s[9:15])     # prints the slice of the string from index 9 to index 14\n",
    "print(\"---\")\n",
    "print(s[:3])       # prints everything before index 3\n",
    "print(s[9:])       # prints from index 9 until the end\n",
    "print(\"---\")\n",
    "f = \"myfile.pdf\"\n",
    "count = 0\n",
    "for c in f:\n",
    "    print(\"{} {}\".format(c, count))\n",
    "    if c == \".\":\n",
    "        print(\"count = {}\".format(count))\n",
    "        result = f[count+1:]\n",
    "    count += 1\n",
    "print(\"This is a {} file.\".format(result))"
   ]
  },
  {
   "cell_type": "code",
   "execution_count": 8,
   "metadata": {
    "collapsed": false,
    "deletable": true,
    "editable": true
   },
   "outputs": [
    {
     "name": "stdout",
     "output_type": "stream",
     "text": [
      "aBCDEFG\n"
     ]
    }
   ],
   "source": [
    "# 6.5 Strings are immutable\n",
    "\n",
    "# Strings cannot be changed\n",
    "\n",
    "s = \"ABCDEFG\"\n",
    "\n",
    "# s[0] = \"a\"     # This would give you an error\n",
    "\n",
    "# You can create a new string based on an existing string\n",
    "\n",
    "print(\"a\" + s[1:])     # prints 'a' in index 0 and the slice of string 's' from index 1 until the end\n"
   ]
  },
  {
   "cell_type": "code",
   "execution_count": 61,
   "metadata": {
    "collapsed": false,
    "deletable": true,
    "editable": true,
    "scrolled": true
   },
   "outputs": [
    {
     "name": "stdout",
     "output_type": "stream",
     "text": [
      "There are 15 commas in this text\n"
     ]
    }
   ],
   "source": [
    "# 6.6 Looping and counting\n",
    "\n",
    "# You can create a 'counter' variable to count how many times something appears\n",
    "# Iterate through your string with a loop and add to your counter when you find what you are looking for\n",
    "\n",
    "s = \"\"\"I was born in the Year 1632, in the City of York, of a good Family, \n",
    "tho' not of that Country, my Father being a Foreigner of Bremen, who settled \n",
    "irst at Hull; He got a good Estate by Merchandise, and leaving off his Trade, \n",
    "lived afterward at York, from whence he had married my Mother, whose Relations\n",
    "were named Robinson, a very good Family in that Country, and from whom I was \n",
    "called Robinson Kreutznaer; but by the usual Corruption of Words in England, \n",
    "we are now called, nay we call our selves, and write our Name Crusoe, and so \n",
    "my Companions always call'd me. \"\"\"\n",
    "\n",
    "count = 0               # start your count at 0\n",
    "for c in s:             # loop through the string character by character\n",
    "    if c is \",\":        \n",
    "        count += 1      # every time you find a comma, add 1 to your count\n",
    "        \n",
    "print(\"There are {} commas in this text\".format(count))\n"
   ]
  },
  {
   "cell_type": "code",
   "execution_count": 65,
   "metadata": {
    "collapsed": false,
    "deletable": true,
    "editable": true,
    "scrolled": true
   },
   "outputs": [
    {
     "name": "stdout",
     "output_type": "stream",
     "text": [
      "True\n",
      "True\n",
      "False\n"
     ]
    }
   ],
   "source": [
    "# 6.7 The 'in' operator\n",
    "\n",
    "# 'in' takes two strings as its arguments\n",
    "# it returns 'true' if the first string is in the second string\n",
    "# it returns 'false' if it is not\n",
    "\n",
    "print('.' in \"myfile.docx\")\n",
    "\n",
    "print('.docx' in \"myfile.docx\")\n",
    "\n",
    "print('text' in \"myfile.docx\")\n"
   ]
  },
  {
   "cell_type": "code",
   "execution_count": 9,
   "metadata": {
    "collapsed": false,
    "deletable": true,
    "editable": true
   },
   "outputs": [
    {
     "name": "stdout",
     "output_type": "stream",
     "text": [
      "65\n",
      "97\n",
      "---\n",
      "False\n",
      "True\n",
      "---\n",
      "233\n",
      "252\n",
      "---\n",
      "True\n",
      "True\n",
      "False\n"
     ]
    }
   ],
   "source": [
    "# 6.8 String comparison\n",
    "\n",
    "# This is not covered in detail in the textbook.\n",
    "# The 'ord' function returns a decimal value of a chracter.\n",
    "\n",
    "print(ord('A'))       # print the decimal value of 'A'\n",
    "print(ord('a'))       # print the decimal value of 'a'\n",
    "\n",
    "print(\"---\")\n",
    "print('A' > 'a')      # False: 'A' is not greater than 'a'\n",
    "print('a' > 'A')      # True: 'a' is greater than 'A'\n",
    "print(\"---\")\n",
    "\n",
    "print(ord('é'))       # print the decimal value of 'é'\n",
    "print(ord('ü'))       # print the decimal value of 'ü'\n",
    "print(\"---\")\n",
    "\n",
    "# lexicographical (dictionary) order\n",
    "print('AA' < 'Aa')    # True: AA comes before Aa\n",
    "print('AA' < 'AB')    # True: AA comes before AB\n",
    "print('XZ' < 'XY')    # False: XZ does not come before XY\n",
    "\n",
    "# reference: http://unicodelookup.com"
   ]
  },
  {
   "cell_type": "code",
   "execution_count": 75,
   "metadata": {
    "collapsed": false,
    "deletable": true,
    "editable": true
   },
   "outputs": [
    {
     "name": "stdout",
     "output_type": "stream",
     "text": [
      "False\n",
      "True\n",
      "False\n",
      "True\n"
     ]
    }
   ],
   "source": [
    "# 6.8 String comparison (cont.)\n",
    "\n",
    "# You can use comparison operators on strings\n",
    "# '==' can tell you if two strings are equal\n",
    "# '<' and '>' can be used to tell if words are in alphabetical order\n",
    "# Capital letters all come before lowercase letters\n",
    "\n",
    "a = \"apple\"\n",
    "b = \"orange\"\n",
    "c = \"pineapple\"\n",
    "print(a == b)\n",
    "print(a == c[4:])\n",
    "\n",
    "print(\"a\" < \"A\")\n",
    "print(\"A\" < \"a\")\n"
   ]
  },
  {
   "cell_type": "code",
   "execution_count": 14,
   "metadata": {
    "collapsed": false,
    "deletable": true,
    "editable": true
   },
   "outputs": [
    {
     "name": "stdout",
     "output_type": "stream",
     "text": [
      "Apple\n",
      "APPLE\n",
      "apple pie\n",
      "Orange\n",
      "-1\n",
      "True\n",
      "  apple pie  \n",
      "\n",
      "apple pie\n"
     ]
    }
   ],
   "source": [
    "# 6.9 String Methods\n",
    "\n",
    "# strings are 'objects' which contain methods\n",
    "# A method is like a function that can be used with a specific type of object (like strings).\n",
    "\n",
    "s = \"apple\"\n",
    "\n",
    "# dir(a)     # 'dir' is a python function that tells you all the methods available for your object type\n",
    "\n",
    "print(s.capitalize())\n",
    "print(s.upper())\n",
    "\n",
    "s = \"apple {}\"\n",
    "print(s.format(\"pie\"))\n",
    "\n",
    "print(\"orange\".capitalize())\n",
    "\n",
    "print(s.find(\"xxx\"))     # returns the index of the first letter\n",
    "print(\"pp\" in s)\n",
    "\n",
    "s = \"  apple pie  \\n\"\n",
    "print(s)\n",
    "print(s.strip())\n"
   ]
  },
  {
   "cell_type": "code",
   "execution_count": 106,
   "metadata": {
    "collapsed": false,
    "deletable": true,
    "editable": true
   },
   "outputs": [
    {
     "name": "stdout",
     "output_type": "stream",
     "text": [
      "Enter your email address: \n",
      "suguru@cmu.edu\n",
      "---\n",
      "Andrew ID: suguru\n",
      "Domain: cmu.edu\n"
     ]
    }
   ],
   "source": [
    "# 6.10 Parsing strings\n",
    "\n",
    "# Using string slicing, you can search a string for a specific substring\n",
    "\n",
    "email = input(\"Enter your email address: \\n\")\n",
    "atpos = email.find(\"@\")                    # finds the index of the '@' character\n",
    "andrew_id = email[:atpos]                  # assigns everything before the '@' to the variable andrew_id\n",
    "domain = email[atpos+1:]                   # assigns everything after the '@' to the variable domain\n",
    "print(\"---\")\n",
    "print(\"Andrew ID: {}\".format(andrew_id))\n",
    "print(\"Domain: {}\".format(domain))\n"
   ]
  },
  {
   "cell_type": "code",
   "execution_count": 99,
   "metadata": {
    "collapsed": false,
    "deletable": true,
    "editable": true
   },
   "outputs": [],
   "source": [
    "# 6.11 Format Operator\n",
    "\n",
    "# See string_formatting.ipynb under 'sample_code.'"
   ]
  },
  {
   "cell_type": "code",
   "execution_count": null,
   "metadata": {
    "collapsed": true,
    "deletable": true,
    "editable": true
   },
   "outputs": [],
   "source": []
  }
 ],
 "metadata": {
  "kernelspec": {
   "display_name": "Python 3",
   "language": "python",
   "name": "python3"
  },
  "language_info": {
   "codemirror_mode": {
    "name": "ipython",
    "version": 3
   },
   "file_extension": ".py",
   "mimetype": "text/x-python",
   "name": "python",
   "nbconvert_exporter": "python",
   "pygments_lexer": "ipython3",
   "version": "3.6.0"
  }
 },
 "nbformat": 4,
 "nbformat_minor": 0
}
