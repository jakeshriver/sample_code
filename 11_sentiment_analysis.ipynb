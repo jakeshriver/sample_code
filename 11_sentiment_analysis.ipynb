{
 "cells": [
  {
   "cell_type": "markdown",
   "metadata": {},
   "source": [
    "## Sentiment Analysis with TextBlob\n",
    "\n",
    "**Execute the following 2 lines in the Terminal Window.** before using TextBlob\n",
    "\n",
    "> ```\n",
    "pip install -U textblob\n",
    "```\n",
    "```\n",
    "python -m textblob.download_corpora\n",
    "```\n",
    "\n",
    "Reference: https://textblob.readthedocs.io/en/dev/index.html See under \"Get it Now\"\n"
   ]
  },
  {
   "cell_type": "code",
   "execution_count": 24,
   "metadata": {
    "collapsed": false
   },
   "outputs": [
    {
     "name": "stdout",
     "output_type": "stream",
     "text": [
      "poloarity = 0.06597222222222222\n",
      "subjectivity = 0.38611111111111107\n",
      "---\n",
      "poloarity = 0.13333333333333333\n",
      "subjectivity = 0.6\n"
     ]
    },
    {
     "data": {
      "text/plain": [
       "Sentiment(polarity=0.13333333333333333, subjectivity=0.6)"
      ]
     },
     "execution_count": 24,
     "metadata": {},
     "output_type": "execute_result"
    }
   ],
   "source": [
    "# Reference: https://textblob.readthedocs.io/en/dev/quickstart.html#sentiment-analysis\n",
    "# The following is an example of doing a sentiment analysis (Using the 'PatternAnalyzer' = default)\n",
    "# See the next code cell for another method (which is probably more useful)\n",
    "\n",
    "from textblob import TextBlob\n",
    "txt1 = \"\"\"Save yourself the let down and buy yourself a different fitness tracker, unless you're \n",
    "into dissapointment then this for you. Was constantly going into sleep mode and not waking up, battery \n",
    "didn't last as long as claimed, and to top it all off after 3 weeks of mild use it just stopped working. \n",
    "Never got wet or misused, but for some reason no longer counts steps.\"\"\"\n",
    "\n",
    "txt2 =\"\"\"\\\"We are very appreciative of what the Confucius Institute does, which is to build a \n",
    "bridge between Houston and China,\\\" Li said. \\\"We are very thankful for Al Green, who graduated \n",
    "right here from Texas Southern University. I am very surprised so many young children can sing \n",
    "beautiful Chinese songs. More and more American people are learning Chinese and Chinese culture.\\\"\n",
    "\"\"\"\n",
    "\n",
    "tb1 = TextBlob(txt1)\n",
    "print(\"poloarity = {}\".format(tb1.sentiment.polarity))\n",
    "print(\"subjectivity = {}\".format(tb1.sentiment.subjectivity))\n",
    "print(\"---\")\n",
    "tb2 = TextBlob(txt3)\n",
    "print(\"poloarity = {}\".format(tb2.sentiment.polarity))\n",
    "print(\"subjectivity = {}\".format(tb2.sentiment.subjectivity))\n",
    "tb2.sentiment"
   ]
  },
  {
   "cell_type": "code",
   "execution_count": 29,
   "metadata": {
    "collapsed": false
   },
   "outputs": [
    {
     "name": "stdout",
     "output_type": "stream",
     "text": [
      "Sentiment(classification='neg', p_pos=0.3428873865314674, p_neg=0.6571126134685334)\n",
      "classification = neg\n",
      "---\n",
      "Sentiment(classification='pos', p_pos=0.8114679377386189, p_neg=0.18853206226137958)\n",
      "classification = pos\n"
     ]
    }
   ],
   "source": [
    "# Refernece: https://textblob.readthedocs.io/en/dev/advanced_usage.html#pos-taggers\n",
    "# The following is an example of doing a sentiment analysis (Using the 'NaiveBayesAnalyzer' = default)\n",
    "\n",
    "from textblob import TextBlob\n",
    "from textblob.sentiments import NaiveBayesAnalyzer\n",
    "\n",
    "txt1 = \"\"\"Save yourself the let down and buy yourself a different fitness tracker, unless you're \n",
    "into dissapointment then this for you. Was constantly going into sleep mode and not waking up, battery \n",
    "didn't last as long as claimed, and to top it all off after 3 weeks of mild use it just stopped working. \n",
    "Never got wet or misused, but for some reason no longer counts steps.\"\"\"\n",
    "\n",
    "txt2 =\"\"\"\\\"We are very appreciative of what the Confucius Institute does, which is to build a \n",
    "bridge between Houston and China,\\\" Li said. \\\"We are very thankful for Al Green, who graduated \n",
    "right here from Texas Southern University. I am very surprised so many young children can sing \n",
    "beautiful Chinese songs. More and more American people are learning Chinese and Chinese culture.\\\"\n",
    "\"\"\"\n",
    "tb1 = TextBlob(txt1, analyzer=NaiveBayesAnalyzer())\n",
    "print(tb1.sentiment)\n",
    "print(\"classification = {}\".format(tb1.sentiment.classification))\n",
    "\n",
    "print(\"---\")\n",
    "tb2 = TextBlob(txt3, analyzer=NaiveBayesAnalyzer())\n",
    "print(tb2.sentiment)\n",
    "print(\"classification = {}\".format(tb2.sentiment.classification))\n"
   ]
  },
  {
   "cell_type": "code",
   "execution_count": 14,
   "metadata": {
    "collapsed": false
   },
   "outputs": [
    {
     "name": "stdout",
     "output_type": "stream",
     "text": [
      "[('emale', 'JJ'), ('suicide', 'NN'), ('bombers', 'NNS'), ('from', 'IN'), ('the', 'DT'), ('Caucasus', 'NNP'), ('known', 'VBN'), ('as', 'IN'), ('the', 'DT'), ('Black', 'NNP'), ('Widows', 'NNP'), ('have', 'VBP'), ('targeted', 'VBN'), ('Russian', 'JJ'), ('civilians', 'NNS'), ('and', 'CC'), ('security', 'NN'), ('personnel', 'NNS'), ('in', 'IN'), ('multiple', 'JJ'), ('attacks', 'NNS'), ('over', 'IN'), ('the', 'DT'), ('past', 'JJ'), ('decade', 'NN')]\n",
      "---\n",
      "['emale suicide bombers', 'caucasus', 'black widows', 'russian civilians', 'security personnel', 'multiple attacks', 'past decade']\n"
     ]
    }
   ],
   "source": [
    "# A couple of other things TextBlob may be useful\n",
    "\n",
    "s = \"\"\"emale suicide bombers from the Caucasus, known as the Black Widows, have targeted Russian \n",
    "civilians and security personnel in multiple attacks over the past decade\"\"\"\n",
    "\n",
    "tb = TextBlob(s)\n",
    "\n",
    "print(tb.tags)            # Part of Speech Tags\n",
    "print(\"---\")\n",
    "print(tb.noun_phrases)    # List of noun phrases"
   ]
  },
  {
   "cell_type": "code",
   "execution_count": null,
   "metadata": {
    "collapsed": true
   },
   "outputs": [],
   "source": []
  }
 ],
 "metadata": {
  "kernelspec": {
   "display_name": "Python 3",
   "language": "python",
   "name": "python3"
  },
  "language_info": {
   "codemirror_mode": {
    "name": "ipython",
    "version": 3
   },
   "file_extension": ".py",
   "mimetype": "text/x-python",
   "name": "python",
   "nbconvert_exporter": "python",
   "pygments_lexer": "ipython3",
   "version": "3.5.1"
  }
 },
 "nbformat": 4,
 "nbformat_minor": 0
}
